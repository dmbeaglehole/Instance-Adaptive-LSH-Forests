{
 "cells": [
  {
   "cell_type": "code",
   "execution_count": 5,
   "metadata": {},
   "outputs": [],
   "source": [
    "import numpy as np\n",
    "import matplotlib.pyplot as plt"
   ]
  },
  {
   "cell_type": "code",
   "execution_count": 31,
   "metadata": {},
   "outputs": [],
   "source": [
    "labelfile = \"labels.txt\""
   ]
  },
  {
   "cell_type": "code",
   "execution_count": 34,
   "metadata": {},
   "outputs": [],
   "source": [
    "labels = np.loadtxt(open(labelfile, \"r\"))"
   ]
  },
  {
   "cell_type": "code",
   "execution_count": 39,
   "metadata": {},
   "outputs": [
    {
     "name": "stdout",
     "output_type": "stream",
     "text": [
      "{5: 0.087, 0: 0.1, 4: 0.105, 1: 0.125, 9: 0.103, 2: 0.107, 3: 0.092, 6: 0.091, 7: 0.107, 8: 0.084}\n"
     ]
    }
   ],
   "source": [
    "freqs = {}\n",
    "for ell in labels:\n",
    "    label = int(ell)\n",
    "    if label not in freqs:\n",
    "        freqs[label] = 0\n",
    "        \n",
    "    freqs[label] += 1/750\n",
    "\n",
    "\n",
    "for k, v in freqs.items():\n",
    "    freqs[k] = round(v, 3)\n",
    "print(freqs)"
   ]
  },
  {
   "cell_type": "code",
   "execution_count": 9,
   "metadata": {},
   "outputs": [],
   "source": [
    "\n",
    "datafile = \"dataset.txt\""
   ]
  },
  {
   "cell_type": "code",
   "execution_count": 10,
   "metadata": {},
   "outputs": [],
   "source": [
    "dataset = np.loadtxt(open(datafile, \"r\"))"
   ]
  },
  {
   "cell_type": "code",
   "execution_count": 11,
   "metadata": {},
   "outputs": [],
   "source": [
    "balances = []\n",
    "for i in range(784):\n",
    "    size = dataset[np.where(dataset[:,i] == 1)].shape[0]\n",
    "    balances.append(min(size, 4000-size)/4000)\n",
    "balances = np.asarray(balances)"
   ]
  },
  {
   "cell_type": "markdown",
   "metadata": {},
   "source": [
    "## Compute Alphas"
   ]
  },
  {
   "cell_type": "code",
   "execution_count": 10,
   "metadata": {},
   "outputs": [],
   "source": [
    "from statistics import mean"
   ]
  },
  {
   "cell_type": "code",
   "execution_count": 11,
   "metadata": {},
   "outputs": [],
   "source": [
    "tstep = 784//3\n",
    "t1 = sorted(balances)[:tstep]\n",
    "t2 = sorted(balances)[tstep:2*tstep]\n",
    "t3 = sorted(balances)[2*tstep:]"
   ]
  },
  {
   "cell_type": "code",
   "execution_count": 12,
   "metadata": {},
   "outputs": [
    {
     "name": "stdout",
     "output_type": "stream",
     "text": [
      "0.0008017241379310345 0.07647509578544061 0.3905057251908397\n"
     ]
    }
   ],
   "source": [
    "print(mean(t1), mean(t2), mean(t3))"
   ]
  },
  {
   "cell_type": "markdown",
   "metadata": {},
   "source": [
    "## Plot Balances"
   ]
  },
  {
   "cell_type": "code",
   "execution_count": 25,
   "metadata": {},
   "outputs": [
    {
     "data": {
      "text/plain": [
       "<function matplotlib.colorbar.ColorbarBase.minorticks_off(self)>"
      ]
     },
     "execution_count": 25,
     "metadata": {},
     "output_type": "execute_result"
    }
   ],
   "source": [
    "import matplotlib\n",
    "import matplotlib.colorbar\n",
    "matplotlib.axes.Axes.imshow\n",
    "matplotlib.pyplot.imshow\n",
    "matplotlib.figure.Figure.colorbar\n",
    "matplotlib.pyplot.colorbar\n",
    "matplotlib.colorbar.Colorbar.minorticks_on\n",
    "matplotlib.colorbar.Colorbar.minorticks_off"
   ]
  },
  {
   "cell_type": "code",
   "execution_count": 30,
   "metadata": {},
   "outputs": [
    {
     "data": {
      "image/png": "[encoded data removed]",
      "text/plain": [
       "<Figure size 432x288 with 2 Axes>"
      ]
     },
     "metadata": {
      "needs_background": "light"
     },
     "output_type": "display_data"
    }
   ],
   "source": [
    "fig, ax = plt.subplots()\n",
    "heatmap = ax.pcolor(np.reshape(dataset[23], (-1, 28)), cmap=\"hot\")\n",
    "cbar = plt.colorbar(heatmap)\n",
    "cbar.set_label(\"Fraction Split\")\n",
    "plt.gca().invert_yaxis()\n",
    "plt.title(\"Dataset Balance\")\n",
    "plt.show()"
   ]
  },
  {
   "cell_type": "code",
   "execution_count": 5,
   "metadata": {},
   "outputs": [],
   "source": [
    "filename = \"./hashesLong_c1o2/pi_init.txt\""
   ]
  },
  {
   "cell_type": "code",
   "execution_count": 6,
   "metadata": {},
   "outputs": [
    {
     "data": {
      "text/plain": [
       "(784,)"
      ]
     },
     "execution_count": 6,
     "metadata": {},
     "output_type": "execute_result"
    }
   ],
   "source": [
    "bit_weights = np.loadtxt(open(filename, \"r\"),skiprows=0)\n",
    "bit_weights.shape"
   ]
  },
  {
   "cell_type": "code",
   "execution_count": 7,
   "metadata": {},
   "outputs": [
    {
     "data": {
      "text/plain": [
       "array([0.00102549, 0.00102549, 0.00102549, 0.00102549, 0.00102549,\n",
       "       0.00102549, 0.00102549, 0.00102549, 0.00102549, 0.00102549,\n",
       "       0.00102549, 0.00102549, 0.00102549, 0.00102549, 0.00102549,\n",
       "       0.00102549, 0.00102549, 0.00102549, 0.00102549, 0.00102549,\n",
       "       0.00102549, 0.00102549, 0.00102549, 0.00102549, 0.00102549,\n",
       "       0.00102549, 0.00102549, 0.00102549, 0.00102549, 0.00102549,\n",
       "       0.00102549, 0.00102549, 0.00102549, 0.00102549, 0.00102549,\n",
       "       0.00102549, 0.00102549, 0.00102549, 0.00102647, 0.00102647,\n",
       "       0.00102549, 0.00102647, 0.00102733, 0.0010293 , 0.00102733,\n",
       "       0.00102647, 0.00102549, 0.00102549, 0.00102549, 0.00102549,\n",
       "       0.00102549, 0.00102549, 0.00102549, 0.00102549, 0.00102549,\n",
       "       0.00102549, 0.00102549, 0.00102549, 0.00102549, 0.00102549,\n",
       "       0.00102549, 0.00102549, 0.00102549, 0.00102549, 0.00102549,\n",
       "       0.00102549, 0.00102733, 0.00102832, 0.0010293 , 0.00103215,\n",
       "       0.00103613, 0.00104427, 0.00105048, 0.00105583, 0.00104743,\n",
       "       0.00103812, 0.00103215, 0.00102549, 0.00102549, 0.00102549,\n",
       "       0.00102549, 0.00102549, 0.00102549, 0.00102549, 0.00102549,\n",
       "       0.00102549, 0.00102549, 0.00102549, 0.00102549, 0.00102549,\n",
       "       0.00102647, 0.00102832, 0.00103128, 0.00103314, 0.00103613,\n",
       "       0.00104113, 0.00104427, 0.00105916, 0.00107369, 0.00109897,\n",
       "       0.00110154, 0.00110671, 0.00108424, 0.00106691, 0.00105048,\n",
       "       0.00103414, 0.00102832, 0.00102549, 0.00102549, 0.00102549,\n",
       "       0.00102549, 0.00102549, 0.00102549, 0.00102549, 0.00102549,\n",
       "       0.00102549, 0.00102733, 0.0010293 , 0.00103029, 0.00103314,\n",
       "       0.00104113, 0.00105379, 0.00107487, 0.00110931, 0.00115001,\n",
       "       0.00123168, 0.00131099, 0.00136689, 0.00135357, 0.00135357,\n",
       "       0.00127249, 0.00120755, 0.00115318, 0.00109776, 0.00105916,\n",
       "       0.00103613, 0.00102733, 0.00102549, 0.00102549, 0.00102549,\n",
       "       0.00102549, 0.00102549, 0.00102549, 0.00102733, 0.0010293 ,\n",
       "       0.00103613, 0.00104113, 0.00105162, 0.00107134, 0.00111329,\n",
       "       0.00118166, 0.00127035, 0.00143571, 0.0016301 , 0.00194438,\n",
       "       0.00213461, 0.002107  , 0.00192261, 0.0016828 , 0.0015071 ,\n",
       "       0.00132718, 0.00122466, 0.00112842, 0.00107652, 0.00104214,\n",
       "       0.00103314, 0.00102733, 0.00102549, 0.00102549, 0.00102549,\n",
       "       0.00102549, 0.0010293 , 0.00103414, 0.00104528, 0.00106122,\n",
       "       0.00108185, 0.00111927, 0.00120315, 0.00130797, 0.00151452,\n",
       "       0.00188108, 0.00193661, 0.00167707, 0.00163382, 0.00159799,\n",
       "       0.00171837, 0.00201335, 0.00197677, 0.00161203, 0.00136568,\n",
       "       0.00120843, 0.0011    , 0.00105583, 0.00103713, 0.0010293 ,\n",
       "       0.00102733, 0.00102549, 0.00102549, 0.00102647, 0.00103414,\n",
       "       0.00104427, 0.00106019, 0.00108796, 0.00113112, 0.0011912 ,\n",
       "       0.00135245, 0.00154509, 0.00221889, 0.00174095, 0.00148805,\n",
       "       0.00140981, 0.00139798, 0.00147756, 0.0014915 , 0.00161116,\n",
       "       0.0018872 , 0.00206815, 0.00153727, 0.00128533, 0.00113109,\n",
       "       0.00107134, 0.00104327, 0.00103215, 0.00102733, 0.00102549,\n",
       "       0.00102549, 0.00102647, 0.00103912, 0.00105162, 0.00106691,\n",
       "       0.00111329, 0.00116558, 0.00125969, 0.00143571, 0.00188765,\n",
       "       0.00198029, 0.00157661, 0.00154005, 0.00152092, 0.00156835,\n",
       "       0.00152846, 0.00151718, 0.00161203, 0.00171372, 0.00216267,\n",
       "       0.00165271, 0.0013062 , 0.00114414, 0.00106913, 0.00104427,\n",
       "       0.00103128, 0.00102549, 0.00102549, 0.00102647, 0.00102733,\n",
       "       0.00103713, 0.00105162, 0.00107251, 0.00112006, 0.00119868,\n",
       "       0.0013056 , 0.00159888, 0.00219805, 0.00176804, 0.00162926,\n",
       "       0.00170769, 0.00180963, 0.00192261, 0.0020038 , 0.00180741,\n",
       "       0.00169302, 0.00175185, 0.00218281, 0.00156013, 0.00129466,\n",
       "       0.00113547, 0.00105916, 0.00103812, 0.00102733, 0.00102549,\n",
       "       0.00102549, 0.00102647, 0.00102647, 0.00103812, 0.00105048,\n",
       "       0.00108304, 0.00111205, 0.00119701, 0.00134838, 0.00176867,\n",
       "       0.00208925, 0.00178561, 0.00195889, 0.00204616, 0.0022014 ,\n",
       "       0.00208925, 0.00214863, 0.00175735, 0.00169302, 0.00179209,\n",
       "       0.00204842, 0.00153245, 0.00125162, 0.00110032, 0.00104743,\n",
       "       0.00102832, 0.00102647, 0.00102549, 0.00102549, 0.00102549,\n",
       "       0.00102549, 0.00103414, 0.00104214, 0.00107487, 0.00111453,\n",
       "       0.00121124, 0.00140679, 0.00186484, 0.00215326, 0.00193661,\n",
       "       0.00218219, 0.00215628, 0.00195181, 0.00214377, 0.00207612,\n",
       "       0.0017084 , 0.00159445, 0.00190864, 0.00189408, 0.00139499,\n",
       "       0.00119868, 0.00108663, 0.00104427, 0.00102733, 0.00102647,\n",
       "       0.00102549, 0.00102549, 0.00102549, 0.00102549, 0.00103314,\n",
       "       0.00104013, 0.00107487, 0.00113109, 0.00124953, 0.00150602,\n",
       "       0.00203467, 0.00204641, 0.00215313, 0.00214793, 0.00213448,\n",
       "       0.00213893, 0.00198728, 0.00165839, 0.00149262, 0.00167288,\n",
       "       0.00217245, 0.0017977 , 0.00134838, 0.00117024, 0.00108304,\n",
       "       0.00104327, 0.00102733, 0.00102647, 0.00102549, 0.00102549,\n",
       "       0.00102549, 0.00102647, 0.00102832, 0.00104214, 0.00107829,\n",
       "       0.00113972, 0.00130381, 0.00154408, 0.00213421, 0.0020718 ,\n",
       "       0.0020635 , 0.00209874, 0.00193705, 0.00180963, 0.00155197,\n",
       "       0.00140679, 0.00145059, 0.00169302, 0.00213974, 0.00159799,\n",
       "       0.00131822, 0.00115767, 0.00108543, 0.00104528, 0.00102832,\n",
       "       0.00102647, 0.00102549, 0.00102549, 0.00102549, 0.00102549,\n",
       "       0.00102733, 0.00104013, 0.00108066, 0.00115927, 0.00134306,\n",
       "       0.00158935, 0.00205991, 0.00218229, 0.00195925, 0.00181645,\n",
       "       0.00166226, 0.00150972, 0.00135876, 0.00133302, 0.0014915 ,\n",
       "       0.00177973, 0.00205468, 0.00154005, 0.00129686, 0.00116072,\n",
       "       0.00109399, 0.00105264, 0.00103029, 0.00102647, 0.00102549,\n",
       "       0.00102549, 0.00102549, 0.00102549, 0.0010293 , 0.00104528,\n",
       "       0.00109399, 0.00119352, 0.00138352, 0.00165271, 0.00202546,\n",
       "       0.00213942, 0.00201365, 0.00178033, 0.00159026, 0.00144726,\n",
       "       0.00136146, 0.00142195, 0.00161116, 0.00187379, 0.00198974,\n",
       "       0.00149516, 0.00129231, 0.00117024, 0.00109654, 0.00104946,\n",
       "       0.00103029, 0.00102733, 0.00102549, 0.00102549, 0.00102549,\n",
       "       0.00102549, 0.00102832, 0.00105685, 0.0011227 , 0.00121852,\n",
       "       0.00141283, 0.00165271, 0.00186701, 0.00205299, 0.00218229,\n",
       "       0.00197457, 0.00166796, 0.0015108 , 0.00144083, 0.00151718,\n",
       "       0.00172915, 0.00195889, 0.00187427, 0.00147415, 0.00128126,\n",
       "       0.00116232, 0.00109776, 0.00105685, 0.00103215, 0.00102647,\n",
       "       0.00102549, 0.00102549, 0.00102549, 0.00102647, 0.00103513,\n",
       "       0.00106691, 0.00114714, 0.00126608, 0.00141283, 0.00155605,\n",
       "       0.0016384 , 0.00178561, 0.0018872 , 0.00206326, 0.00194438,\n",
       "       0.00161653, 0.0015693 , 0.00157755, 0.0017625 , 0.00208726,\n",
       "       0.00183511, 0.00142957, 0.00125566, 0.00115001, 0.00108796,\n",
       "       0.00105685, 0.00103513, 0.00102549, 0.00102549, 0.00102549,\n",
       "       0.00102549, 0.00102647, 0.00104113, 0.00108796, 0.0011654 ,\n",
       "       0.00127249, 0.0013922 , 0.00150252, 0.00158494, 0.00172915,\n",
       "       0.00180365, 0.00205468, 0.00184814, 0.00161566, 0.00154408,\n",
       "       0.00160668, 0.00183459, 0.00218229, 0.00167288, 0.0013822 ,\n",
       "       0.00121852, 0.00112549, 0.00107948, 0.00105264, 0.00103128,\n",
       "       0.00102549, 0.00102549, 0.00102549, 0.00102549, 0.00102733,\n",
       "       0.00104427, 0.00109897, 0.00117186, 0.00127678, 0.00141283,\n",
       "       0.00155605, 0.00167212, 0.00190099, 0.00208925, 0.00193661,\n",
       "       0.00164323, 0.00152092, 0.00150602, 0.00158935, 0.0020655 ,\n",
       "       0.00195181, 0.00157342, 0.00131099, 0.00116862, 0.00111068,\n",
       "       0.00106019, 0.00104528, 0.00102647, 0.00102549, 0.00102549,\n",
       "       0.00102549, 0.00102549, 0.00102832, 0.00105162, 0.00110277,\n",
       "       0.00118345, 0.00130859, 0.00147415, 0.00171837, 0.00208925,\n",
       "       0.00209105, 0.00187446, 0.00154408, 0.00142827, 0.00142195,\n",
       "       0.00149883, 0.00171837, 0.00221792, 0.00171372, 0.00141586,\n",
       "       0.0012396 , 0.00114414, 0.00108066, 0.00105583, 0.00103513,\n",
       "       0.00102733, 0.00102647, 0.00102549, 0.00102549, 0.00102549,\n",
       "       0.00102832, 0.00104845, 0.00110277, 0.00114857, 0.00127249,\n",
       "       0.00147056, 0.00179828, 0.00213927, 0.00183428, 0.00152846,\n",
       "       0.00143444, 0.00138075, 0.00148461, 0.00167707, 0.00209842,\n",
       "       0.00175735, 0.00147056, 0.0012476 , 0.00116715, 0.00109519,\n",
       "       0.00106238, 0.00104427, 0.00103128, 0.00102832, 0.00102733,\n",
       "       0.00102549, 0.00102549, 0.00102549, 0.00102733, 0.00103812,\n",
       "       0.00107829, 0.0011241 , 0.00120662, 0.0013822 , 0.00162104,\n",
       "       0.00213461, 0.00195672, 0.00172375, 0.00162926, 0.00161116,\n",
       "       0.00186052, 0.00213265, 0.00167212, 0.00144083, 0.00127249,\n",
       "       0.00117838, 0.00111205, 0.00106458, 0.00104327, 0.00103029,\n",
       "       0.00102733, 0.00102647, 0.00102647, 0.00102549, 0.00102549,\n",
       "       0.00102549, 0.00102549, 0.00103414, 0.001066  , 0.0010933 ,\n",
       "       0.00114353, 0.00126388, 0.00140814, 0.00164888, 0.00188765,\n",
       "       0.002079  , 0.00212961, 0.00207493, 0.0018955 , 0.00158077,\n",
       "       0.00133794, 0.00123168, 0.0011516 , 0.00109897, 0.00105916,\n",
       "       0.00104113, 0.00103414, 0.00102832, 0.00102647, 0.00102549,\n",
       "       0.00102549, 0.00102549, 0.00102549, 0.00102549, 0.00102549,\n",
       "       0.00103215, 0.00106626, 0.00106512, 0.00108201, 0.00112191,\n",
       "       0.00116859, 0.00121911, 0.00126178, 0.00112487, 0.0011387 ,\n",
       "       0.00105849, 0.00123564, 0.00119701, 0.00114857, 0.00111591,\n",
       "       0.00108424, 0.00105379, 0.00104327, 0.00103314, 0.0010293 ,\n",
       "       0.00102733, 0.00102549, 0.00102549, 0.00102549, 0.00102549,\n",
       "       0.00102549, 0.00102549, 0.00102549, 0.00102647, 0.00103215,\n",
       "       0.00103713, 0.00105264, 0.00106238, 0.00108185, 0.00109157,\n",
       "       0.00109654, 0.00055934, 0.00055934, 0.00055933, 0.00109037,\n",
       "       0.0010703 , 0.00106795, 0.00105916, 0.00104642, 0.00103414,\n",
       "       0.00103128, 0.00102733, 0.00102647, 0.00102549, 0.00102549,\n",
       "       0.00102549, 0.00102549, 0.00102549, 0.00102549, 0.00102549,\n",
       "       0.00102549, 0.00102647, 0.00102832, 0.00103314, 0.00104327,\n",
       "       0.00104327, 0.00105264, 0.00105685, 0.00105481, 0.00105162,\n",
       "       0.00104946, 0.00104946, 0.00104946, 0.00104946, 0.00104528,\n",
       "       0.00103812, 0.00103215, 0.00102733, 0.00102549, 0.00102549,\n",
       "       0.00102549, 0.00102549, 0.00102549, 0.00102549, 0.00102549,\n",
       "       0.00102549, 0.00102549, 0.00102549, 0.00102549, 0.00102549,\n",
       "       0.00102549, 0.00102647, 0.00102832, 0.00102832, 0.00102733,\n",
       "       0.00102549, 0.00102647, 0.00102647, 0.00102733, 0.00102733,\n",
       "       0.00102832, 0.00102733, 0.00102733, 0.00102832, 0.00102733,\n",
       "       0.00102647, 0.00102549, 0.00102549, 0.00102549, 0.00102549,\n",
       "       0.00102549, 0.00102549, 0.00102549, 0.00102549])"
      ]
     },
     "execution_count": 7,
     "metadata": {},
     "output_type": "execute_result"
    }
   ],
   "source": [
    "bit_weights"
   ]
  },
  {
   "cell_type": "code",
   "execution_count": 8,
   "metadata": {
    "scrolled": true
   },
   "outputs": [
    {
     "data": {
      "image/png": "[encoded data removed]",
      "text/plain": [
       "<Figure size 432x288 with 2 Axes>"
      ]
     },
     "metadata": {
      "needs_background": "light"
     },
     "output_type": "display_data"
    }
   ],
   "source": [
    "fig, ax = plt.subplots()\n",
    "heatmap = ax.pcolor(np.reshape((bit_weights)*784 - 1, (-1, 28)), cmap=\"YlGnBu\")\n",
    "cbar = plt.colorbar(heatmap)\n",
    "cbar.set_label(\"Pr[pixel]\")\n",
    "plt.gca().invert_yaxis()\n",
    "plt.title(\"Distribution\")\n",
    "#plt.show()\n",
    "plt.savefig(filename[:-4] + '.png')"
   ]
  },
  {
   "cell_type": "code",
   "execution_count": null,
   "metadata": {},
   "outputs": [],
   "source": []
  }
 ],
 "metadata": {
  "kernelspec": {
   "display_name": "Python 3",
   "language": "python",
   "name": "python3"
  },
  "language_info": {
   "codemirror_mode": {
    "name": "ipython",
    "version": 3
   },
   "file_extension": ".py",
   "mimetype": "text/x-python",
   "name": "python",
   "nbconvert_exporter": "python",
   "pygments_lexer": "ipython3",
   "version": "3.7.7"
  }
 },
 "nbformat": 4,
 "nbformat_minor": 4
}
