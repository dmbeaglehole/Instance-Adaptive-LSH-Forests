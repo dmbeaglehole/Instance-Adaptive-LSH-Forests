{
 "cells": [
  {
   "cell_type": "code",
   "execution_count": 1,
   "metadata": {},
   "outputs": [],
   "source": [
    "import numpy as np"
   ]
  },
  {
   "cell_type": "code",
   "execution_count": 6,
   "metadata": {},
   "outputs": [],
   "source": [
    "e1 = 0.3\n",
    "e2 = 0.5\n",
    "rho = 0.1\n",
    "r = 10\n",
    "d = 100*r"
   ]
  },
  {
   "cell_type": "code",
   "execution_count": 7,
   "metadata": {},
   "outputs": [
    {
     "data": {
      "text/plain": [
       "1.0363112099103142"
      ]
     },
     "execution_count": 7,
     "metadata": {},
     "output_type": "execute_result"
    }
   ],
   "source": [
    "(1 - e1)**-rho"
   ]
  },
  {
   "cell_type": "code",
   "execution_count": 8,
   "metadata": {},
   "outputs": [
    {
     "data": {
      "text/plain": [
       "1.0503379932855672"
      ]
     },
     "execution_count": 8,
     "metadata": {},
     "output_type": "execute_result"
    }
   ],
   "source": [
    "(1 - 2*r/d)*(1 - e2)**-rho"
   ]
  },
  {
   "cell_type": "code",
   "execution_count": 33,
   "metadata": {},
   "outputs": [],
   "source": [
    "#Params\n",
    "r = 10\n",
    "d = r**3\n",
    "n = d**4\n",
    "n0 = d\n",
    "\n",
    "eps1 = 0.3\n",
    "eps2 = 0.1\n",
    "eps3 = 0.01\n",
    "\n",
    "a1 = a2 = a3 = d/3"
   ]
  },
  {
   "cell_type": "code",
   "execution_count": 34,
   "metadata": {},
   "outputs": [],
   "source": [
    "def compute_k(pi1, pi2, pi3):\n",
    "    return np.log(n0/n) * (pi1*(np.log(eps1**2 + (1-eps1)**2)) + \\\n",
    "                           pi2*(np.log(eps2**2 + (1-eps2)**2)) + \\\n",
    "                           pi3*(np.log(eps3**2 + (1-eps3)**2)))**-1"
   ]
  },
  {
   "cell_type": "code",
   "execution_count": 35,
   "metadata": {},
   "outputs": [],
   "source": [
    "pi1s = np.linspace(0.01, 1, num=500)\n",
    "pi2s = np.linspace(0.01, 1, num=500)\n",
    "pi3s = np.linspace(0.01, 1, num=500)"
   ]
  },
  {
   "cell_type": "code",
   "execution_count": 36,
   "metadata": {},
   "outputs": [
    {
     "data": {
      "text/plain": [
       "0.44099619128913287"
      ]
     },
     "execution_count": 36,
     "metadata": {},
     "output_type": "execute_result"
    }
   ],
   "source": [
    "k = compute_k(1/3, 1/3, 1/3)\n",
    "(1 - r/d)**k"
   ]
  },
  {
   "cell_type": "code",
   "execution_count": 37,
   "metadata": {
    "scrolled": true
   },
   "outputs": [
    {
     "name": "stdout",
     "output_type": "stream",
     "text": [
      "0.44099134966344067\n",
      "(0.3333867735470942, 0.3333867735470942, 0.3332264529058117)\n"
     ]
    }
   ],
   "source": [
    "best = 0\n",
    "dist = None\n",
    "for pi1 in pi1s:\n",
    "    for pi2 in pi2s:\n",
    "        pi3 = 1 - pi1 - pi2\n",
    "        if pi3 < 0:\n",
    "            continue\n",
    "        \n",
    "        k = compute_k(pi1, pi2, pi3)\n",
    "        current = min((1 - 3*r*pi1/d)**k,\\\n",
    "                      (1 - 3*r*pi2/d)**k,\\\n",
    "                      (1 - 3*r*pi3/d)**k)\n",
    "        if current > best:\n",
    "            best = current\n",
    "            dist = (pi1,pi2,pi3)\n",
    "print(best)\n",
    "print(dist)"
   ]
  },
  {
   "cell_type": "markdown",
   "metadata": {},
   "source": [
    "# Improvement Calc"
   ]
  },
  {
   "cell_type": "code",
   "execution_count": 5,
   "metadata": {},
   "outputs": [],
   "source": [
    "f = 1/20"
   ]
  },
  {
   "cell_type": "code",
   "execution_count": 6,
   "metadata": {},
   "outputs": [
    {
     "data": {
      "text/plain": [
       "1.9600000000000003e-24"
      ]
     },
     "execution_count": 6,
     "metadata": {},
     "output_type": "execute_result"
    }
   ],
   "source": [
    "(1 - (r/(d*f))) * ((0.5)*n)**-1"
   ]
  },
  {
   "cell_type": "code",
   "execution_count": 7,
   "metadata": {},
   "outputs": [
    {
     "data": {
      "text/plain": [
       "1.068318367346939e-24"
      ]
     },
     "execution_count": 7,
     "metadata": {},
     "output_type": "execute_result"
    }
   ],
   "source": [
    "(1 - r/d)*( (1-f) * ((1-eps)*n)**-1 + (f) * ((0.5)*n)**-1)"
   ]
  },
  {
   "cell_type": "code",
   "execution_count": 8,
   "metadata": {},
   "outputs": [],
   "source": [
    "def compute_rho_u(nv):\n",
    "    a = (1 - np.log(d**2)/np.log(nv))\n",
    "    b = np.log(1 - (r)/(2*(1-f)*d))\n",
    "    return a*b/ np.log(1-eps)\n",
    "    #return (1)*np.log(1 - (r*f)/d) / np.log(1-eps)"
   ]
  },
  {
   "cell_type": "code",
   "execution_count": 9,
   "metadata": {},
   "outputs": [],
   "source": [
    "def compute_uni_sum():\n",
    "    total = 0\n",
    "    for k in range(100):\n",
    "        nv = n * (1-eps)**k * 0.5\n",
    "        rho_u = compute_rho_u(nv)\n",
    "        total += (1 - (r/(2*(1-f)*d)))**k * nv**(-rho_u) * (1 - f)**k * (f) * (1 - (r/(2*f*d)))\n",
    "    return rho_u, total"
   ]
  },
  {
   "cell_type": "code",
   "execution_count": 10,
   "metadata": {},
   "outputs": [
    {
     "data": {
      "text/plain": [
       "0.4877502239075842"
      ]
     },
     "execution_count": 10,
     "metadata": {},
     "output_type": "execute_result"
    }
   ],
   "source": [
    "#uni succ prob \n",
    "rho_f, psucc = compute_uni_sum()\n",
    "psucc"
   ]
  },
  {
   "cell_type": "code",
   "execution_count": 11,
   "metadata": {},
   "outputs": [
    {
     "data": {
      "text/plain": [
       "0.0027829529706102927"
      ]
     },
     "execution_count": 11,
     "metadata": {},
     "output_type": "execute_result"
    }
   ],
   "source": [
    "#uni error\n",
    "(1-f)**100 * (1 - r/(d * (1-f)))**100 * (n * (1-eps)**100 * 0.5)**-rho_f"
   ]
  },
  {
   "cell_type": "code",
   "execution_count": 12,
   "metadata": {
    "scrolled": true
   },
   "outputs": [
    {
     "data": {
      "text/plain": [
       "0.49065516213209537"
      ]
     },
     "execution_count": 12,
     "metadata": {},
     "output_type": "execute_result"
    }
   ],
   "source": [
    "#opt prob \n",
    "rho_u = compute_rho_u(n/2)\n",
    "(0.5*n)**(-rho_u) * (1 - (r/(2*f*d)))"
   ]
  },
  {
   "cell_type": "markdown",
   "metadata": {},
   "source": [
    "# Newest Approach"
   ]
  },
  {
   "cell_type": "code",
   "execution_count": 13,
   "metadata": {},
   "outputs": [],
   "source": [
    "#Params\n",
    "r = 1000\n",
    "d = 1000*r\n",
    "n = d**4\n",
    "\n",
    "eps = 0.02"
   ]
  },
  {
   "cell_type": "code",
   "execution_count": 14,
   "metadata": {},
   "outputs": [
    {
     "data": {
      "text/plain": [
       "0.049523082122558716"
      ]
     },
     "execution_count": 14,
     "metadata": {},
     "output_type": "execute_result"
    }
   ],
   "source": [
    "np.log(1 - r/d)/np.log(1-eps)"
   ]
  },
  {
   "cell_type": "code",
   "execution_count": 15,
   "metadata": {},
   "outputs": [
    {
     "data": {
      "text/plain": [
       "1.128122448979592e-24"
      ]
     },
     "execution_count": 15,
     "metadata": {},
     "output_type": "execute_result"
    }
   ],
   "source": [
    "(1 - r/d)*( (8/9) * ((1-eps)*n)**-1 + (1/9) * ((0.5)*n)**-1)"
   ]
  },
  {
   "cell_type": "code",
   "execution_count": 16,
   "metadata": {},
   "outputs": [
    {
     "data": {
      "text/plain": [
       "1.9820000000000003e-24"
      ]
     },
     "execution_count": 16,
     "metadata": {},
     "output_type": "execute_result"
    }
   ],
   "source": [
    "(1 - (9*r)/d)*(n/2)**-1"
   ]
  },
  {
   "cell_type": "code",
   "execution_count": 17,
   "metadata": {},
   "outputs": [
    {
     "data": {
      "text/plain": [
       "-0.2577083989975574"
      ]
     },
     "execution_count": 17,
     "metadata": {},
     "output_type": "execute_result"
    }
   ],
   "source": [
    "E2 = (2/3)*np.log((1-eps)**2 + eps**2) + (1/3)*np.log((0.5)**2 + 0.5**2)\n",
    "E2"
   ]
  },
  {
   "cell_type": "code",
   "execution_count": 18,
   "metadata": {},
   "outputs": [],
   "source": [
    "rho_u = np.log(1 - r/d)/E2"
   ]
  },
  {
   "cell_type": "code",
   "execution_count": null,
   "metadata": {},
   "outputs": [],
   "source": []
  },
  {
   "cell_type": "code",
   "execution_count": 19,
   "metadata": {},
   "outputs": [
    {
     "name": "stdout",
     "output_type": "stream",
     "text": [
      "0\n",
      "0.8069096171296386\n",
      "1\n",
      "0.806165934959834\n",
      "2\n",
      "0.8054229381990987\n",
      "3\n",
      "0.8046806262157306\n",
      "4\n",
      "0.8039389983786098\n",
      "5\n",
      "0.803198054057198\n",
      "6\n",
      "0.8024577926215382\n",
      "7\n",
      "0.8017182134422539\n",
      "8\n",
      "0.8009793158905484\n",
      "9\n",
      "0.8002410993382052\n",
      "10\n",
      "0.7995035631575861\n",
      "11\n",
      "0.7987667067216315\n"
     ]
    }
   ],
   "source": [
    "#(1 - \\frac{r}{d})^k (n(1-\\eps)^k)^{-\\rho_u}\n",
    "for k in range(12):\n",
    "    print(k)\n",
    "    print((1 - r/d)**k * (n*(1-eps)**k)**(-rho_u))"
   ]
  },
  {
   "cell_type": "markdown",
   "metadata": {},
   "source": [
    "# New Approach"
   ]
  },
  {
   "cell_type": "code",
   "execution_count": 22,
   "metadata": {},
   "outputs": [],
   "source": [
    "#Params\n",
    "r = 100\n",
    "d = 100*r\n",
    "n = d**6"
   ]
  },
  {
   "cell_type": "code",
   "execution_count": 23,
   "metadata": {},
   "outputs": [
    {
     "data": {
      "text/plain": [
       "1.5775378815392925e-26"
      ]
     },
     "execution_count": 23,
     "metadata": {},
     "output_type": "execute_result"
    }
   ],
   "source": [
    "#$\\frac{1}{d} e^{-r/\\ell}  (1 - \\frac{r}{3d})^{k_o} (1 - \\frac{r}{d})^{-k_o} \\geq e^{-r}$\n",
    "(1/d) * np.exp(-r/2) * (0.99)**20"
   ]
  },
  {
   "cell_type": "code",
   "execution_count": 24,
   "metadata": {},
   "outputs": [
    {
     "data": {
      "text/plain": [
       "3.720075976020836e-44"
      ]
     },
     "execution_count": 24,
     "metadata": {},
     "output_type": "execute_result"
    }
   ],
   "source": [
    "np.exp(-r)"
   ]
  },
  {
   "cell_type": "code",
   "execution_count": 25,
   "metadata": {},
   "outputs": [],
   "source": [
    "eps1 = 0\n",
    "eps2 = 0.01\n",
    "eps3 = 0.5"
   ]
  },
  {
   "cell_type": "code",
   "execution_count": 26,
   "metadata": {},
   "outputs": [
    {
     "data": {
      "text/plain": [
       "-0.6931471805599453"
      ]
     },
     "execution_count": 26,
     "metadata": {},
     "output_type": "execute_result"
    }
   ],
   "source": [
    "# opt ln E[w_o]\n",
    "E_o = np.log(eps3)\n",
    "E_o"
   ]
  },
  {
   "cell_type": "code",
   "execution_count": 43,
   "metadata": {},
   "outputs": [
    {
     "data": {
      "text/plain": [
       "2.0450076043096684e-05"
      ]
     },
     "execution_count": 43,
     "metadata": {},
     "output_type": "execute_result"
    }
   ],
   "source": [
    "k_o = np.log(d/n)/E_o\n",
    "(1 - (5*r*3)/(d))**k_o"
   ]
  },
  {
   "cell_type": "code",
   "execution_count": 44,
   "metadata": {},
   "outputs": [
    {
     "data": {
      "text/plain": [
       "-0.1902730865815749"
      ]
     },
     "execution_count": 44,
     "metadata": {},
     "output_type": "execute_result"
    }
   ],
   "source": [
    "#ln E[w_u]\n",
    "E_u = np.log((1/3)*((1-eps1)**2 + eps1**2) + (1/3)*((1-eps2)**2 + eps2**2) + (1/3)*((1-eps3)**2 + eps3**2))\n",
    "E_u"
   ]
  },
  {
   "cell_type": "code",
   "execution_count": 45,
   "metadata": {},
   "outputs": [
    {
     "data": {
      "text/plain": [
       "4.8614305700932185e-05"
      ]
     },
     "execution_count": 45,
     "metadata": {},
     "output_type": "execute_result"
    }
   ],
   "source": [
    "k_u = np.log(d**2 /n)/E_u\n",
    "(1 - (5*r)/(d))**k_u"
   ]
  },
  {
   "cell_type": "code",
   "execution_count": 14,
   "metadata": {},
   "outputs": [
    {
     "data": {
      "text/plain": [
       "-0.2377152756888784"
      ]
     },
     "execution_count": 14,
     "metadata": {},
     "output_type": "execute_result"
    }
   ],
   "source": [
    "#E[ln w_u]\n",
    "E2 = (1/3)*np.log((1-eps1)**2 + eps1**2) + (1/3)*np.log((1-eps2)**2 + eps2**2) + (1/3)*np.log((1-eps3)**2 + eps3**2)\n",
    "E2"
   ]
  },
  {
   "cell_type": "code",
   "execution_count": 18,
   "metadata": {},
   "outputs": [
    {
     "data": {
      "text/plain": [
       "0.08781895974472351"
      ]
     },
     "execution_count": 18,
     "metadata": {},
     "output_type": "execute_result"
    }
   ],
   "source": [
    "(1 - r/d)**(np.log(d/n)/E_u)"
   ]
  },
  {
   "cell_type": "code",
   "execution_count": 740,
   "metadata": {},
   "outputs": [],
   "source": [
    "pi1s = np.linspace(0.01, 1, num=100)\n",
    "pi2s = np.linspace(0.01, 1, num=100)\n",
    "pi3s = np.linspace(0.01, 1, num=100)"
   ]
  },
  {
   "cell_type": "code",
   "execution_count": 741,
   "metadata": {},
   "outputs": [],
   "source": [
    "best = 1\n",
    "dist = None\n",
    "for pi1 in pi1s:\n",
    "    for pi2 in pi2s:\n",
    "        if pi1 + pi2 > 1:\n",
    "            continue\n",
    "        else:\n",
    "            pi3 = 1 - pi1 - pi2\n",
    "            \n",
    "        E_o = pi1*np.log((1-eps1)**2 + eps1**2) + pi2*np.log((1-eps2)**2 + eps2**2) + \\\n",
    "                pi3*np.log((1-eps3)**2 + eps3**2)\n",
    "        rho =  np.log(1 - r/d)/E_o\n",
    "        if rho < best:\n",
    "            best = rho\n",
    "            dist = (pi1,pi2,pi3)"
   ]
  },
  {
   "cell_type": "code",
   "execution_count": 736,
   "metadata": {},
   "outputs": [
    {
     "data": {
      "text/plain": [
       "0.0014685839310322809"
      ]
     },
     "execution_count": 736,
     "metadata": {},
     "output_type": "execute_result"
    }
   ],
   "source": [
    "pi1,pi2,pi3 = dist\n",
    "E_o = best\n",
    "E_o"
   ]
  },
  {
   "cell_type": "code",
   "execution_count": 737,
   "metadata": {},
   "outputs": [
    {
     "data": {
      "text/plain": [
       "(0.01, 0.01, 0.98)"
      ]
     },
     "execution_count": 737,
     "metadata": {},
     "output_type": "execute_result"
    }
   ],
   "source": [
    "dist"
   ]
  },
  {
   "cell_type": "code",
   "execution_count": null,
   "metadata": {},
   "outputs": [],
   "source": []
  },
  {
   "cell_type": "code",
   "execution_count": 101,
   "metadata": {},
   "outputs": [
    {
     "data": {
      "text/plain": [
       "9.084324124617693"
      ]
     },
     "execution_count": 101,
     "metadata": {},
     "output_type": "execute_result"
    }
   ],
   "source": [
    "np.log(n/d) / np.log(1/0.3) / 4"
   ]
  },
  {
   "cell_type": "code",
   "execution_count": 55,
   "metadata": {},
   "outputs": [
    {
     "data": {
      "text/plain": [
       "0.6000000000000003"
      ]
     },
     "execution_count": 55,
     "metadata": {},
     "output_type": "execute_result"
    }
   ],
   "source": [
    "r = 50\n",
    "d = 200\n",
    "kmax = 1000\n",
    "total = 0\n",
    "for k in range(1, kmax+1):\n",
    "    total += (1 - (r/d))**k * (0.5)**k\n",
    "total"
   ]
  },
  {
   "cell_type": "code",
   "execution_count": 102,
   "metadata": {},
   "outputs": [
    {
     "data": {
      "text/plain": [
       "0.7564707973660301"
      ]
     },
     "execution_count": 102,
     "metadata": {},
     "output_type": "execute_result"
    }
   ],
   "source": [
    "np.log(0.5)/np.log(0.4)"
   ]
  },
  {
   "cell_type": "code",
   "execution_count": 103,
   "metadata": {},
   "outputs": [
    {
     "data": {
      "text/plain": [
       "0.5757166424934449"
      ]
     },
     "execution_count": 103,
     "metadata": {},
     "output_type": "execute_result"
    }
   ],
   "source": [
    "np.log(0.5)/np.log(0.3)"
   ]
  },
  {
   "cell_type": "code",
   "execution_count": null,
   "metadata": {},
   "outputs": [],
   "source": []
  },
  {
   "cell_type": "code",
   "execution_count": 54,
   "metadata": {},
   "outputs": [
    {
     "data": {
      "text/plain": [
       "0.5"
      ]
     },
     "execution_count": 54,
     "metadata": {},
     "output_type": "execute_result"
    }
   ],
   "source": [
    "(1 - (2*r)/d)"
   ]
  },
  {
   "cell_type": "code",
   "execution_count": 96,
   "metadata": {},
   "outputs": [
    {
     "data": {
      "text/plain": [
       "0.2786135560336649"
      ]
     },
     "execution_count": 96,
     "metadata": {},
     "output_type": "execute_result"
    }
   ],
   "source": [
    "r = 1000\n",
    "d = 100*r\n",
    "\n",
    "d**(- (10/9) * np.log(1 - (r)/d) / np.log(1 - (r+1)/d)) / d**(-np.log(1 - (r)/d) / np.log(1 - (r+1)/d))"
   ]
  },
  {
   "cell_type": "code",
   "execution_count": 74,
   "metadata": {},
   "outputs": [
    {
     "data": {
      "text/plain": [
       "1.1372113714470646"
      ]
     },
     "execution_count": 74,
     "metadata": {},
     "output_type": "execute_result"
    }
   ],
   "source": [
    "\n",
    "rho = 0.2\n",
    "e1 = 0.3\n",
    "e2 = 0.5\n",
    "e2**(1-rho) + (1-e2)**(1-rho) - (r/d)*(e2 ** (-rho))"
   ]
  },
  {
   "cell_type": "code",
   "execution_count": 75,
   "metadata": {},
   "outputs": [
    {
     "data": {
      "text/plain": [
       "1.1334365376118631"
      ]
     },
     "execution_count": 75,
     "metadata": {},
     "output_type": "execute_result"
    }
   ],
   "source": [
    "e1**(1-rho) + (1-e1)**(1-rho)"
   ]
  },
  {
   "cell_type": "markdown",
   "metadata": {},
   "source": [
    "# Old Approach"
   ]
  },
  {
   "cell_type": "code",
   "execution_count": 2,
   "metadata": {},
   "outputs": [],
   "source": [
    "#Uniform"
   ]
  },
  {
   "cell_type": "code",
   "execution_count": 3,
   "metadata": {},
   "outputs": [],
   "source": [
    "def comp_succ(rho, d, r, a1, e1, a2, e2, a3, e3, a4, e4):\n",
    "    #psucc_opt_1 = (1 - r/d)*((1 - ((a1)*2*e1*(1-e1) + a2*2*e2*(1-e2) + a3*2*e3*(1-e3) + \\\n",
    "    #                                   a4*2*e4*(1-e4))/d))**(-rho)\n",
    "    psucc_opt_1 = r/((a1)*2*e1*(1-e1) + a2*2*e2*(1-e2) + a3*2*e3*(1-e3) + a4*2*e4*(1-e4))\n",
    "    return psucc_opt_1"
   ]
  },
  {
   "cell_type": "code",
   "execution_count": 4,
   "metadata": {},
   "outputs": [],
   "source": [
    "def compute_rho(d, r, a1, e1, a2, e2, a3, e3, a4, e4):\n",
    "    upper = 1.5\n",
    "    lower = 0\n",
    "    thresh = 1e-6\n",
    "    \n",
    "    mid = (upper + lower)/2\n",
    "    \n",
    "    i=0\n",
    "    while (abs(comp_succ(mid, d, r, a1, e1, a2, e2, a3, e3, a4, e4) - 1) > thresh):\n",
    "        #if (i%1000 == 0):\n",
    "        #    print(mid)\n",
    "        if comp_succ(mid, d, r, a1, e1, a2, e2, a3, e3, a4, e4) > 1:\n",
    "            upper = mid\n",
    "        else:\n",
    "            lower = mid\n",
    "        mid = (upper + lower)/2\n",
    "        \n",
    "        if abs(mid - 1.5) < 0.05:\n",
    "            return 1.5\n",
    "        \n",
    "        i+=1\n",
    "    return mid\n"
   ]
  },
  {
   "cell_type": "code",
   "execution_count": 5,
   "metadata": {},
   "outputs": [],
   "source": [
    "#Opt1 - search for best p1,p2,p3"
   ]
  },
  {
   "cell_type": "code",
   "execution_count": 6,
   "metadata": {},
   "outputs": [],
   "source": [
    "def search_ps(rho, d, r, a1, e1, a2, e2, a3, e3, a4, e4):\n",
    "    max_psucc = 0\n",
    "    max_dists = None\n",
    "    for p1 in np.linspace(0, 30/d, num=100):\n",
    "        for p2 in np.linspace(0, 30/d, num=100):\n",
    "            for p3 in np.linspace(0, 30/d, num=100):\n",
    "                current = a1*p1 + a2*p2 + a3*p3\n",
    "\n",
    "                if (current < 1):\n",
    "                    p4 = (1 - current)/a4\n",
    "                    psucc_opt_1 = (a1*p1*(1-e1)**(-rho) + a2*p2*(1-e2)**(-rho) + \n",
    "                                   (a3-r)*p3*(1-e3)**(-rho) + (a4)*p4*(1-e4)**(-rho))\n",
    "\n",
    "                    psucc_opt_2 = (a1*p1*(1-e1)**(-rho) + (a2-r)*p2*(1-e2)**(-rho) + \n",
    "                                   (a3)*p3*(1-e3)**(-rho) + (a4)*p4*(1-e4)**(-rho))\n",
    "\n",
    "                    psucc_opt_3 = ((a1-r)*p1*(1-e1)**(-rho) + (a2)*p2*(1-e2)**(-rho) + \n",
    "                                   (a3)*p3*(1-e3)**(-rho) + (a4)*p4*(1-e4)**(-rho))\n",
    "\n",
    "                    psucc_opt_4 = ((a1)*p1*(1-e1)**(-rho) + (a2)*p2*(1-e2)**(-rho) + \n",
    "                                   (a3)*p3*(1-e3)**(-rho) + (a4-r)*p4*(1-e4)**(-rho))\n",
    "                else:\n",
    "                    continue\n",
    "\n",
    "                psucc_opt = min(psucc_opt_1,psucc_opt_2,psucc_opt_3,psucc_opt_4)\n",
    "\n",
    "                if psucc_opt > max_psucc:\n",
    "                    max_psucc = psucc_opt\n",
    "                    max_dists = (p1,p2,p3,p4)\n",
    "    \n",
    "    p1 = p2 = p3 = 0\n",
    "    p4 = 1/a4\n",
    "    \n",
    "    psucc_opt_1 = (a1*p1*(1-e1)**(-rho) + a2*p2*(1-e2)**(-rho) + \n",
    "                                   (a3-r)*p3*(1-e3)**(-rho) + (a4)*p4*(1-e4)**(-rho))\n",
    "    psucc_opt_2 = (a1*p1*(1-e1)**(-rho) + (a2-r)*p2*(1-e2)**(-rho) + \n",
    "                   (a3)*p3*(1-e3)**(-rho) + (a4)*p4*(1-e4)**(-rho))\n",
    "\n",
    "    psucc_opt_3 = ((a1-r)*p1*(1-e1)**(-rho) + (a2)*p2*(1-e2)**(-rho) + \n",
    "                   (a3)*p3*(1-e3)**(-rho) + (a4)*p4*(1-e4)**(-rho))\n",
    "\n",
    "    psucc_opt_4 = ((a1)*p1*(1-e1)**(-rho) + (a2)*p2*(1-e2)**(-rho) + \n",
    "                   (a3)*p3*(1-e3)**(-rho) + (a4-r)*p4*(1-e4)**(-rho))\n",
    "    \n",
    "    print(\"uniform on balanced bits\")\n",
    "    #print(p4)\n",
    "    #print(psucc_opt_1, psucc_opt_2,psucc_opt_3,psucc_opt_4)\n",
    "    return (max_psucc, max_dists)"
   ]
  },
  {
   "cell_type": "markdown",
   "metadata": {},
   "source": [
    "### Advantage Computation"
   ]
  },
  {
   "cell_type": "code",
   "execution_count": 7,
   "metadata": {},
   "outputs": [],
   "source": [
    "\n",
    "\n",
    "rad=20\n",
    "alpha1=1500\n",
    "alpha2=1500\n",
    "alpha3=0\n",
    "alpha4=1500\n",
    "dim = alpha1 + alpha2 + alpha3 + alpha4\n",
    "alpha1s = [alpha1]\n",
    "alpha2s = [alpha2]\n",
    "alpha3s = [alpha3]\n",
    "alpha4s = [alpha4]\n",
    "\n",
    "eps1=0\n",
    "eps2=0.05\n",
    "eps3=0.05\n",
    "eps4=0.5\n",
    "eps1s = [eps1]\n",
    "eps2s = [eps2]\n",
    "eps3s = [eps3]\n",
    "eps4s = [eps4]\n"
   ]
  },
  {
   "cell_type": "code",
   "execution_count": 8,
   "metadata": {},
   "outputs": [
    {
     "name": "stdout",
     "output_type": "stream",
     "text": [
      "0.022408963585434174\n"
     ]
    }
   ],
   "source": [
    "print(rad/((alpha1)*2*eps1*(1-eps1) + alpha2*2*eps2*(1-eps2) + alpha3*2*eps3*(1-eps3) + alpha4*2*eps4*(1-eps4)))"
   ]
  },
  {
   "cell_type": "code",
   "execution_count": 9,
   "metadata": {},
   "outputs": [],
   "source": [
    "delta = 0.001"
   ]
  },
  {
   "cell_type": "code",
   "execution_count": 10,
   "metadata": {},
   "outputs": [
    {
     "data": {
      "text/plain": [
       "892.5"
      ]
     },
     "execution_count": 10,
     "metadata": {},
     "output_type": "execute_result"
    }
   ],
   "source": [
    "# rho is solution to :\n",
    "# (1 - rad/dim)(1 - alpha1*2*eps1*(1-eps1)+alpha2*2*eps2*(1-eps2)+alpha3*2*eps3*(1-eps3) / dim)**-rho = 1\n",
    "rho_u = compute_rho(dim, rad, alpha1, eps1, alpha2, eps2, alpha3, eps3, alpha4, eps4)\n",
    "rho_u\n",
    "alpha1*2*eps1*(1-eps1)+alpha2*2*eps2*(1-eps2)+alpha3*2*eps3*(1-eps3)+alpha4*2*eps4*(1-eps4)"
   ]
  },
  {
   "cell_type": "code",
   "execution_count": 20,
   "metadata": {},
   "outputs": [],
   "source": [
    "def compute_advantages(delta, r,a1s,a2s,a3s,a4s,e1s,e2s,e3s,e4s):\n",
    "    advantages = []\n",
    "    max_adv = 0\n",
    "    for a1 in a1s:\n",
    "        for a2 in a2s:\n",
    "            for a3 in a3s:\n",
    "                for a4 in a4s:\n",
    "                    for e1 in e1s:\n",
    "                        for e2 in e2s:\n",
    "                            for e3 in e3s:\n",
    "                                for e4 in e4s:\n",
    "                                    d = a1 + a2 + a3 + a4\n",
    "            \n",
    "                                    #rho=r/((a1)*2*e1*(1-e1) + a2*2*e2*(1-e2) + a3*2*e3*(1-e3) + a4*2*e4*(1-e4))\n",
    "                                    rho = 0.019\n",
    "                                    psucc_opt = search_ps(rho, d, r, a1, e1-delta, a2, \n",
    "                                                          e2-delta, a3, e3-delta, a4, e4-delta)\n",
    "                                    if psucc_opt[0] > max_adv:\n",
    "                                        max_adv = psucc_opt[0]\n",
    "                                        advantages.append([psucc_opt, a1, e1, a2, e2, a3, e3, a4, e4, rho])\n",
    "    return advantages"
   ]
  },
  {
   "cell_type": "code",
   "execution_count": 21,
   "metadata": {
    "scrolled": false
   },
   "outputs": [
    {
     "name": "stdout",
     "output_type": "stream",
     "text": [
      "uniform on balanced bits\n"
     ]
    },
    {
     "data": {
      "text/plain": [
       "[(1.0002843629064149,\n",
       "  (0.0, 0.00033670033670033677, 0.0, 0.00032996632996632987)),\n",
       " 1500,\n",
       " 0,\n",
       " 1500,\n",
       " 0.05,\n",
       " 0,\n",
       " 0.05,\n",
       " 1500,\n",
       " 0.5,\n",
       " 0.019]"
      ]
     },
     "execution_count": 21,
     "metadata": {},
     "output_type": "execute_result"
    }
   ],
   "source": [
    "advs = compute_advantages(delta,rad,alpha1s,alpha2s,alpha3s,alpha4s, eps1s,eps2s,eps3s, eps4s)\n",
    "advs[-1]"
   ]
  },
  {
   "cell_type": "code",
   "execution_count": 1420,
   "metadata": {},
   "outputs": [
    {
     "data": {
      "text/plain": [
       "1.0166565300101607"
      ]
     },
     "execution_count": 1420,
     "metadata": {},
     "output_type": "execute_result"
    }
   ],
   "source": [
    "1.002067049835572**8"
   ]
  },
  {
   "cell_type": "markdown",
   "metadata": {},
   "source": [
    "## Whole Dataset"
   ]
  },
  {
   "cell_type": "code",
   "execution_count": 618,
   "metadata": {},
   "outputs": [],
   "source": [
    "d = advs[-1][1] + advs[-1][3] + advs[-1][5]\n",
    "rho = advs[-1][-1]"
   ]
  },
  {
   "cell_type": "code",
   "execution_count": 1430,
   "metadata": {},
   "outputs": [
    {
     "data": {
      "text/plain": [
       "0.0006666666666666666"
      ]
     },
     "execution_count": 1430,
     "metadata": {},
     "output_type": "execute_result"
    }
   ],
   "source": [
    "1/1500"
   ]
  },
  {
   "cell_type": "code",
   "execution_count": 754,
   "metadata": {},
   "outputs": [
    {
     "data": {
      "text/plain": [
       "[(1.1449360115926936, (0.0, 0.0, 0.005)), 300, 0, 0, 0.1, 200, 0.4, 1.5]"
      ]
     },
     "execution_count": 754,
     "metadata": {},
     "output_type": "execute_result"
    }
   ],
   "source": [
    "advs[-1]"
   ]
  },
  {
   "cell_type": "code",
   "execution_count": 755,
   "metadata": {},
   "outputs": [],
   "source": [
    "#k is solution to n(1-e3-delta)**k = (k ln d)/delta^2"
   ]
  },
  {
   "cell_type": "code",
   "execution_count": 757,
   "metadata": {},
   "outputs": [],
   "source": [
    "#How does advantage scale? \n",
    "#n k adv\n",
    "#2*10**10, 1.006214 * (2 \\cdot 10^{10})^{-\\rho_u}\n",
    "#10**11, 1.01038 * 10^{-11\\rho_u}\n",
    "#5*10**11, 1.01456 * (5 \\cdot 10^{11})^{-\\rho_u}\n",
    "#2*10**12, 1.0167 * (2\\cdot 10^{12})^{-\\rho_u}"
   ]
  },
  {
   "cell_type": "code",
   "execution_count": null,
   "metadata": {},
   "outputs": [],
   "source": [
    "#Transform data to log(y) = -rho * log(n)\n",
    "# The 4 points become\n",
    "# log(n) log(y)\n",
    "# log(2*10**10) log()\n",
    "# log(10**11)\n",
    "# log(5*10**11)\n",
    "# log(2*10**12)"
   ]
  },
  {
   "cell_type": "code",
   "execution_count": 1424,
   "metadata": {},
   "outputs": [],
   "source": [
    "rho_u = 0.022408963585434174"
   ]
  },
  {
   "cell_type": "code",
   "execution_count": 1428,
   "metadata": {},
   "outputs": [],
   "source": [
    "advs = np.array([1.006214, 1.01038, 1.01456, 1.0167])\n",
    "ns = np.array([2*10**10,10**11, 5*10**11, 2*10**12])\n",
    "\n",
    "xs = np.log(ns).reshape(-1, 1)\n",
    "ys = np.log(advs * np.power(ns,-rho_u))"
   ]
  },
  {
   "cell_type": "code",
   "execution_count": 1429,
   "metadata": {},
   "outputs": [
    {
     "data": {
      "text/plain": [
       "array([0.02011646])"
      ]
     },
     "execution_count": 1429,
     "metadata": {},
     "output_type": "execute_result"
    }
   ],
   "source": [
    "import matplotlib.pyplot as plt\n",
    "import numpy as np\n",
    "from sklearn import datasets, linear_model\n",
    "from sklearn.metrics import mean_squared_error, r2_score\n",
    "\n",
    "\n",
    "regr = linear_model.LinearRegression()\n",
    "regr.fit(xs, ys)\n",
    "rho = -regr.coef_\n",
    "rho"
   ]
  },
  {
   "cell_type": "code",
   "execution_count": 796,
   "metadata": {},
   "outputs": [
    {
     "data": {
      "text/plain": [
       "15.796067554499029"
      ]
     },
     "execution_count": 796,
     "metadata": {},
     "output_type": "execute_result"
    }
   ],
   "source": [
    "(advs[-1][0][0])**20.39"
   ]
  },
  {
   "cell_type": "code",
   "execution_count": null,
   "metadata": {},
   "outputs": [],
   "source": []
  }
 ],
 "metadata": {
  "kernelspec": {
   "display_name": "Python 3",
   "language": "python",
   "name": "python3"
  },
  "language_info": {
   "codemirror_mode": {
    "name": "ipython",
    "version": 3
   },
   "file_extension": ".py",
   "mimetype": "text/x-python",
   "name": "python",
   "nbconvert_exporter": "python",
   "pygments_lexer": "ipython3",
   "version": "3.7.7"
  }
 },
 "nbformat": 4,
 "nbformat_minor": 4
}
