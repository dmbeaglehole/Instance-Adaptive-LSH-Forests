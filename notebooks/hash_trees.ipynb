{
 "cells": [
  {
   "cell_type": "code",
   "execution_count": 517,
   "metadata": {},
   "outputs": [],
   "source": [
    "import numpy as np\n",
    "import re"
   ]
  },
  {
   "cell_type": "code",
   "execution_count": 518,
   "metadata": {},
   "outputs": [],
   "source": [
    "import os.path"
   ]
  },
  {
   "cell_type": "code",
   "execution_count": 519,
   "metadata": {},
   "outputs": [],
   "source": [
    "class LSHtree:\n",
    "    def __init__(self):\n",
    "\n",
    "        self.left = None\n",
    "        self.right = None\n",
    "        self.index = None\n",
    "        self.bit = None\n",
    "\n",
    "\n",
    "    def print_node(self):\n",
    "        print(\"Index :\",self.index)\n",
    "        print(\"Bit :\",self.bit)\n",
    "        "
   ]
  },
  {
   "cell_type": "code",
   "execution_count": 520,
   "metadata": {},
   "outputs": [],
   "source": [
    "def print_tree(tree):\n",
    "    if tree==None:\n",
    "        return\n",
    "    tree.print_node()\n",
    "    print(\"Left Child\")\n",
    "    print_tree(tree.left)\n",
    "    print(\"Right Child\")\n",
    "    print_tree(tree.right)"
   ]
  },
  {
   "cell_type": "code",
   "execution_count": 521,
   "metadata": {},
   "outputs": [],
   "source": [
    "def get_num_nodes(tree):\n",
    "    if tree == None:\n",
    "        return 0\n",
    "    total = 1\n",
    "    total += get_num_nodes(tree.left)\n",
    "    total += get_num_nodes(tree.right)\n",
    "    return total"
   ]
  },
  {
   "cell_type": "code",
   "execution_count": 522,
   "metadata": {},
   "outputs": [],
   "source": [
    "def get_sub_content(file_content):\n",
    "    start=1\n",
    "    while (file_content[start] != \"{\"):\n",
    "        if file_content[start] == \"}\":\n",
    "            return (\"\",-1,-1)\n",
    "        start += 1\n",
    "    \n",
    "    end = start + 1\n",
    "    num_left = 1\n",
    "    num_right = 0\n",
    "    N = len(file_content)\n",
    "    while (num_left > num_right) and (end < N):\n",
    "        if file_content[end] == \"{\":\n",
    "            num_left += 1\n",
    "        elif file_content[end] == \"}\":\n",
    "            num_right += 1\n",
    "        end += 1\n",
    "    \n",
    "    return (file_content[start:end+1], start, end)"
   ]
  },
  {
   "cell_type": "code",
   "execution_count": 523,
   "metadata": {},
   "outputs": [],
   "source": [
    "def read_hash(file_content):\n",
    "    tree = LSHtree()\n",
    "    if len(file_content)==0:\n",
    "        return None\n",
    "    hash_str = re.findall(\"\\([0,1,2],[0-9]+\\)\",file_content)[0]\n",
    "    tree.bit = int(hash_str[1])\n",
    "    tree.index = int(re.findall(\",[0-9]+\",hash_str)[0][1:])\n",
    "    \n",
    "    \n",
    "    left_cont, s_l, e_l = get_sub_content(file_content)\n",
    "    if len(left_cont) == 0:\n",
    "        right_cont = \"\"\n",
    "    else:\n",
    "        right_cont, _, _ = get_sub_content(file_content[:s_l] + file_content[e_l+1:])\n",
    "    \n",
    "\n",
    "    tree.left = read_hash(left_cont)\n",
    "    tree.right = read_hash(right_cont)\n",
    "    \n",
    "    return tree\n",
    "    "
   ]
  },
  {
   "cell_type": "code",
   "execution_count": 524,
   "metadata": {},
   "outputs": [],
   "source": [
    "def read_tree(hashfile, filename):\n",
    "    content = hashfile.read()\n",
    "    #print(len(content))\n",
    "    if len(content)==0:\n",
    "        #print(\"returning\")\n",
    "        return\n",
    "    \n",
    "    new_content = \"{ (2,2)\" + content[2:][:-1]\n",
    "    #print(new_content)\n",
    "    #print(\"----------\")\n",
    "    tree = read_hash(new_content)\n",
    "    #print(tree)\n",
    "    return tree"
   ]
  },
  {
   "cell_type": "code",
   "execution_count": 525,
   "metadata": {},
   "outputs": [],
   "source": [
    "def read_all_trees(hash_dir):\n",
    "    trees = []\n",
    "    num_trees = 100\n",
    "    start=200\n",
    "    for t in range(start, start + num_trees):\n",
    "        filename = hash_dir + \"hashes\" + str(t)\n",
    "        \n",
    "        if not os.path.isfile(filename):\n",
    "            continue\n",
    "            \n",
    "        with open(filename, \"r\") as hashfile:\n",
    "            trees.append(read_tree(hashfile, filename))\n",
    "    return trees"
   ]
  },
  {
   "cell_type": "markdown",
   "metadata": {},
   "source": [
    "### ImageNet"
   ]
  },
  {
   "cell_type": "code",
   "execution_count": 526,
   "metadata": {},
   "outputs": [],
   "source": [
    "path = \"/Users/dbeaglehole/Desktop/Research/instance_optimal_LSH/ImageNetHashes/\"\n",
    "hash_dirs = [\"hashes_c1o2_long/\"]\n",
    "hash_dirs = [path + x for x in hash_dirs]\n",
    "trees_list = []\n",
    "for hash_dir in hash_dirs:\n",
    "    trees = read_all_trees(hash_dir)\n",
    "    trees = [t for t in trees if t != None]\n",
    "    trees_list.append(trees)"
   ]
  },
  {
   "cell_type": "code",
   "execution_count": 527,
   "metadata": {},
   "outputs": [
    {
     "data": {
      "text/plain": [
       "82"
      ]
     },
     "execution_count": 527,
     "metadata": {},
     "output_type": "execute_result"
    }
   ],
   "source": [
    "len(trees_list[0])"
   ]
  },
  {
   "cell_type": "markdown",
   "metadata": {},
   "source": [
    "#### Load Dataset"
   ]
  },
  {
   "cell_type": "code",
   "execution_count": 528,
   "metadata": {},
   "outputs": [],
   "source": [
    "FRAC=80\n",
    "t=125"
   ]
  },
  {
   "cell_type": "code",
   "execution_count": 529,
   "metadata": {},
   "outputs": [],
   "source": [
    "datafile = '/Users/dbeaglehole/Desktop/Research/instance_optimal_LSH/image_net.npy'\n",
    "dataset = np.load(datafile)\n",
    "dataset = dataset[:dataset.shape[0]//FRAC,:]\n",
    "dataset = (dataset >= t).astype('int')"
   ]
  },
  {
   "cell_type": "code",
   "execution_count": 530,
   "metadata": {},
   "outputs": [
    {
     "data": {
      "text/plain": [
       "(625, 192)"
      ]
     },
     "execution_count": 530,
     "metadata": {},
     "output_type": "execute_result"
    }
   ],
   "source": [
    "num_images, dim = dataset.shape\n",
    "num_images, dim "
   ]
  },
  {
   "cell_type": "markdown",
   "metadata": {},
   "source": [
    "### Generate Uniform Tree"
   ]
  },
  {
   "cell_type": "code",
   "execution_count": 476,
   "metadata": {},
   "outputs": [],
   "source": [
    "import random "
   ]
  },
  {
   "cell_type": "code",
   "execution_count": 531,
   "metadata": {},
   "outputs": [],
   "source": [
    "bucket_size=10"
   ]
  },
  {
   "cell_type": "code",
   "execution_count": 532,
   "metadata": {},
   "outputs": [],
   "source": [
    "def hash_d(dataset, used_hashes):\n",
    "    hashed_dataset = np.copy(dataset)\n",
    "    for bit, index in used_hashes:\n",
    "        if bit==2:\n",
    "            continue\n",
    "        hashed_dataset = hashed_dataset[np.nonzero(hashed_dataset[:,index] == bit)]\n",
    "    return hashed_dataset"
   ]
  },
  {
   "cell_type": "code",
   "execution_count": 533,
   "metadata": {},
   "outputs": [],
   "source": [
    "def generate_uniform_tree(used_hashes, dataset):\n",
    "    \n",
    "    hashed_dataset = hash_d(dataset, used_hashes)\n",
    "    #print(hashed_dataset.shape[0])\n",
    "    tree = LSHtree()\n",
    "    tree.bit = used_hashes[-1][0]\n",
    "    tree.index = used_hashes[-1][1]\n",
    "    if hashed_dataset.shape[0] <= bucket_size:\n",
    "        return tree\n",
    "    \n",
    "    idx = random.randint(0, dim-1)\n",
    "    \n",
    "    tree.left = generate_uniform_tree(used_hashes + [(1,idx)], hashed_dataset)\n",
    "    tree.right = generate_uniform_tree(used_hashes + [(0,idx)], hashed_dataset)\n",
    "    \n",
    "    return tree\n",
    "    "
   ]
  },
  {
   "cell_type": "code",
   "execution_count": 535,
   "metadata": {},
   "outputs": [
    {
     "name": "stdout",
     "output_type": "stream",
     "text": [
      "uniform tree 1/80\n",
      "uniform tree 6/80\n",
      "uniform tree 11/80\n",
      "uniform tree 16/80\n",
      "uniform tree 21/80\n",
      "uniform tree 26/80\n",
      "uniform tree 31/80\n",
      "uniform tree 36/80\n",
      "uniform tree 41/80\n",
      "uniform tree 46/80\n",
      "uniform tree 51/80\n",
      "uniform tree 56/80\n",
      "uniform tree 61/80\n",
      "uniform tree 66/80\n",
      "uniform tree 71/80\n",
      "uniform tree 76/80\n"
     ]
    }
   ],
   "source": [
    "num_trees=80\n",
    "uniform_trees = []\n",
    "for t in range(num_trees):\n",
    "    if (t%5==0):\n",
    "        print(\"uniform tree %d/%d\" % (t+1,num_trees))\n",
    "    tree = generate_uniform_tree([(2,2)],dataset)\n",
    "    uniform_trees.append(tree)"
   ]
  },
  {
   "cell_type": "markdown",
   "metadata": {},
   "source": [
    "### Generate Queries"
   ]
  },
  {
   "cell_type": "code",
   "execution_count": 543,
   "metadata": {},
   "outputs": [],
   "source": [
    "#originally r = 10\n",
    "r=15"
   ]
  },
  {
   "cell_type": "code",
   "execution_count": 544,
   "metadata": {},
   "outputs": [],
   "source": [
    "def rand_flip(image, dim):\n",
    "    new_query = np.copy(image)\n",
    "    for i in range(r):\n",
    "        rand_idx = random.randint(0,dim-1)\n",
    "        new_query[rand_idx] = not new_query[rand_idx]\n",
    "    return new_query"
   ]
  },
  {
   "cell_type": "code",
   "execution_count": 545,
   "metadata": {},
   "outputs": [],
   "source": [
    "def generate_random_queries(dataset):\n",
    "    query_list = []\n",
    "    queries_per_img = 50\n",
    "    num_images, dim = dataset.shape\n",
    "    for i in range(num_images):\n",
    "        image = dataset[i]\n",
    "        for j in range(queries_per_img):\n",
    "            flipped_query = rand_flip(image,dim)\n",
    "            query_list.append((flipped_query,i))\n",
    "    return query_list"
   ]
  },
  {
   "cell_type": "code",
   "execution_count": 546,
   "metadata": {},
   "outputs": [],
   "source": [
    "def flip_on_bits(image, bits):\n",
    "    query = np.copy(image)\n",
    "    for _, idx in bits:\n",
    "        query[idx] = (not image[idx])*1\n",
    "    return query"
   ]
  },
  {
   "cell_type": "code",
   "execution_count": 547,
   "metadata": {},
   "outputs": [],
   "source": [
    "query_list = generate_random_queries(dataset)"
   ]
  },
  {
   "cell_type": "markdown",
   "metadata": {},
   "source": [
    "### Eval Optimized"
   ]
  },
  {
   "cell_type": "code",
   "execution_count": 548,
   "metadata": {},
   "outputs": [],
   "source": [
    "def eval_tree(tree, query, datapoint):\n",
    "    if tree.left == None: #leaf\n",
    "        return 1\n",
    "    \n",
    "    index = tree.left.index\n",
    "    \n",
    "    if query[index] == datapoint[index] == 1:\n",
    "        return eval_tree(tree.left, query, datapoint)\n",
    "    elif query[index] == datapoint[index] == 0:\n",
    "        return eval_tree(tree.right, query, datapoint)\n",
    "    else:\n",
    "        return 0"
   ]
  },
  {
   "cell_type": "markdown",
   "metadata": {},
   "source": [
    "### Time Random Queries"
   ]
  },
  {
   "cell_type": "code",
   "execution_count": 549,
   "metadata": {},
   "outputs": [],
   "source": [
    "#./hashesLong_c1/\n",
    "#./hashesLong_c1o2/\n",
    "#./hashesv1_c1.5/\n",
    "#./hashes_opt/\n",
    "#./hashesv1_c10/\n",
    "#./hashesv1_c4/"
   ]
  },
  {
   "cell_type": "code",
   "execution_count": 562,
   "metadata": {},
   "outputs": [],
   "source": [
    "import time"
   ]
  },
  {
   "cell_type": "code",
   "execution_count": 567,
   "metadata": {},
   "outputs": [],
   "source": [
    "time_trees_list = trees_list + [uniform_trees]"
   ]
  },
  {
   "cell_type": "code",
   "execution_count": 568,
   "metadata": {},
   "outputs": [],
   "source": [
    "time_list = []\n",
    "for trees in time_trees_list:\n",
    "    times = []\n",
    "    for q,i in query_list:\n",
    "        if (t%10000==0):\n",
    "            print(\"itr \",t)\n",
    "        start = time.time()\n",
    "        for tree in trees:\n",
    "            if eval_tree(tree, q, dataset[i]):\n",
    "                break\n",
    "        end = time.time()\n",
    "        times.append(end - start)\n",
    "        \n",
    "    time_list.append(times)"
   ]
  },
  {
   "cell_type": "code",
   "execution_count": 89,
   "metadata": {
    "collapsed": true
   },
   "outputs": [
    {
     "name": "stdout",
     "output_type": "stream",
     "text": [
      "0.00047898292541503906\n",
      "0.0010509490966796875\n",
      "0.03725695610046387\n",
      "0.049226999282836914\n",
      "0.002685070037841797\n",
      "0.003336191177368164\n",
      "0.0017910003662109375\n",
      "0.0011799335479736328\n"
     ]
    }
   ],
   "source": [
    "for times in time_list:\n",
    "    print(max(times))"
   ]
  },
  {
   "cell_type": "code",
   "execution_count": 569,
   "metadata": {},
   "outputs": [
    {
     "name": "stdout",
     "output_type": "stream",
     "text": [
      "4.4483673095703124e-05\n",
      "4.0486961364746096e-05\n",
      "3.6475296020507815e-05\n",
      "3.7156005859375e-05\n"
     ]
    }
   ],
   "source": [
    "for times in time_list:\n",
    "    print(sum(times)/len(times))"
   ]
  },
  {
   "cell_type": "markdown",
   "metadata": {},
   "source": [
    "### Compute Recall for Random Queries"
   ]
  },
  {
   "cell_type": "code",
   "execution_count": 551,
   "metadata": {},
   "outputs": [
    {
     "name": "stdout",
     "output_type": "stream",
     "text": [
      "itr  0\n",
      "itr  10000\n",
      "itr  20000\n",
      "itr  30000\n"
     ]
    }
   ],
   "source": [
    "p_success_list = []\n",
    "for trees in trees_list:\n",
    "    p_success = []\n",
    "    t=0\n",
    "    for q,i in query_list:\n",
    "        if (t%10000==0):\n",
    "            print(\"itr \",t)\n",
    "        total = 0\n",
    "        for tree in trees:\n",
    "            succ = eval_tree(tree, q, dataset[i])\n",
    "            total += succ\n",
    "        p_success.append(total/len(trees))\n",
    "        t+=1\n",
    "    p_success_list.append(p_success)"
   ]
  },
  {
   "cell_type": "markdown",
   "metadata": {},
   "source": [
    "### Eval Uniform"
   ]
  },
  {
   "cell_type": "code",
   "execution_count": 552,
   "metadata": {},
   "outputs": [
    {
     "name": "stdout",
     "output_type": "stream",
     "text": [
      "itr  0\n",
      "itr  10000\n",
      "itr  20000\n",
      "itr  30000\n"
     ]
    }
   ],
   "source": [
    "p_success_uniform = []\n",
    "t=0\n",
    "for q,i in query_list:\n",
    "    if (t%10000==0):\n",
    "        print(\"itr \",t)\n",
    "    total = 0\n",
    "    for tree in uniform_trees:\n",
    "        total += eval_tree(tree, q, dataset[i])\n",
    "    p_success_uniform.append(total/len(uniform_trees))\n",
    "    t+=1"
   ]
  },
  {
   "cell_type": "markdown",
   "metadata": {},
   "source": [
    "## Plotting"
   ]
  },
  {
   "cell_type": "code",
   "execution_count": 553,
   "metadata": {},
   "outputs": [],
   "source": [
    "from statistics import mean"
   ]
  },
  {
   "cell_type": "code",
   "execution_count": 554,
   "metadata": {},
   "outputs": [],
   "source": [
    "import matplotlib.pyplot as plt\n",
    "import numpy as np"
   ]
  },
  {
   "cell_type": "code",
   "execution_count": 555,
   "metadata": {},
   "outputs": [],
   "source": [
    "n_bins = 20"
   ]
  },
  {
   "cell_type": "code",
   "execution_count": 556,
   "metadata": {},
   "outputs": [],
   "source": [
    "n = len(p_success)"
   ]
  },
  {
   "cell_type": "code",
   "execution_count": 557,
   "metadata": {},
   "outputs": [
    {
     "data": {
      "text/plain": [
       "0.962546535573931"
      ]
     },
     "execution_count": 557,
     "metadata": {},
     "output_type": "execute_result"
    }
   ],
   "source": [
    "m=1\n",
    "sorted_opt = sorted(p_success)#[:m]\n",
    "sorted_uni = sorted(p_success_uniform)#[:m]\n",
    "mean(sorted_opt)/mean(sorted_uni)"
   ]
  },
  {
   "cell_type": "code",
   "execution_count": 558,
   "metadata": {},
   "outputs": [
    {
     "name": "stdout",
     "output_type": "stream",
     "text": [
      "0.4915601951219512\n",
      "0.5106872\n"
     ]
    }
   ],
   "source": [
    "for p_success in p_success_list:\n",
    "    print(mean(p_success))\n",
    "print(mean(p_success_uniform))"
   ]
  },
  {
   "cell_type": "code",
   "execution_count": 559,
   "metadata": {},
   "outputs": [],
   "source": [
    "order.append(\"Uni\")"
   ]
  },
  {
   "cell_type": "code",
   "execution_count": 560,
   "metadata": {},
   "outputs": [],
   "source": [
    "order = ['ρ=1', 'ρ=0.83', 'ρ=0.67', 'computed ρ', 'ρ=0.1', 'ρ=0.25']"
   ]
  },
  {
   "cell_type": "code",
   "execution_count": 561,
   "metadata": {
    "scrolled": true
   },
   "outputs": [
    {
     "name": "stdout",
     "output_type": "stream",
     "text": [
      "0\n"
     ]
    },
    {
     "data": {
      "image/png": "[encoded data removed]",
      "text/plain": [
       "<Figure size 432x288 with 1 Axes>"
      ]
     },
     "metadata": {
      "needs_background": "light"
     },
     "output_type": "display_data"
    }
   ],
   "source": [
    "for i, p_success in enumerate(p_success_list):\n",
    "    plt.figure()\n",
    "    print(i)\n",
    "    plt.hist(p_success, n_bins, alpha=0.5, label=order[i])\n",
    "    plt.hist(p_success_uniform, n_bins, alpha=0.5, label='Uni')\n",
    "    plt.legend(loc='upper right')\n",
    "    plt.title(\"Success Probability on Random Queries\")\n",
    "    plt.xlabel(\"Pr[Success]\")\n",
    "    plt.ylabel(\"Frequency\")\n",
    "    #plt.savefig(\"./comparison\" + order[i] + \".png\")\n",
    "    plt.show()"
   ]
  },
  {
   "cell_type": "code",
   "execution_count": null,
   "metadata": {},
   "outputs": [],
   "source": []
  }
 ],
 "metadata": {
  "kernelspec": {
   "display_name": "Python 3",
   "language": "python",
   "name": "python3"
  },
  "language_info": {
   "codemirror_mode": {
    "name": "ipython",
    "version": 3
   },
   "file_extension": ".py",
   "mimetype": "text/x-python",
   "name": "python",
   "nbconvert_exporter": "python",
   "pygments_lexer": "ipython3",
   "version": "3.7.7"
  }
 },
 "nbformat": 4,
 "nbformat_minor": 4
}
