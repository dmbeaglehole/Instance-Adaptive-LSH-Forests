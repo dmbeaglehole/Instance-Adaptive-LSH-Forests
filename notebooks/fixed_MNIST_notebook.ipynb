{
 "cells": [
  {
   "cell_type": "code",
   "execution_count": 1,
   "metadata": {},
   "outputs": [],
   "source": [
    "import numpy as np\n",
    "import re"
   ]
  },
  {
   "cell_type": "code",
   "execution_count": 88,
   "metadata": {},
   "outputs": [],
   "source": [
    "import time"
   ]
  },
  {
   "cell_type": "code",
   "execution_count": 2,
   "metadata": {},
   "outputs": [],
   "source": [
    "import os.path"
   ]
  },
  {
   "cell_type": "code",
   "execution_count": null,
   "metadata": {},
   "outputs": [],
   "source": [
    "from statistics import mean\n",
    "import matplotlib.pyplot as plt\n",
    "import numpy as np"
   ]
  },
  {
   "cell_type": "code",
   "execution_count": 3,
   "metadata": {},
   "outputs": [],
   "source": [
    "class LSHtree:\n",
    "    def __init__(self):\n",
    "\n",
    "        self.left = None\n",
    "        self.right = None\n",
    "        self.index = None\n",
    "        self.bit = None\n",
    "        \n",
    "        self.used_hashes = []\n",
    "\n",
    "\n",
    "    def print_node(self):\n",
    "        print(\"Index :\",self.index)\n",
    "        print(\"Bit :\",self.bit)\n",
    "        "
   ]
  },
  {
   "cell_type": "code",
   "execution_count": 4,
   "metadata": {},
   "outputs": [],
   "source": [
    "def print_tree(tree):\n",
    "    if tree==None:\n",
    "        return\n",
    "    tree.print_node()\n",
    "    print(\"Left Child\")\n",
    "    print_tree(tree.left)\n",
    "    print(\"Right Child\")\n",
    "    print_tree(tree.right)"
   ]
  },
  {
   "cell_type": "code",
   "execution_count": 5,
   "metadata": {},
   "outputs": [],
   "source": [
    "def get_num_nodes(tree):\n",
    "    if tree == None:\n",
    "        return 0\n",
    "    total = 1\n",
    "    total += get_num_nodes(tree.left)\n",
    "    total += get_num_nodes(tree.right)\n",
    "    return total"
   ]
  },
  {
   "cell_type": "code",
   "execution_count": 6,
   "metadata": {},
   "outputs": [],
   "source": [
    "def get_sub_content(file_content):\n",
    "    start=1\n",
    "    while (file_content[start] != \"{\"):\n",
    "        if file_content[start] == \"}\":\n",
    "            return (\"\",-1,-1)\n",
    "        start += 1\n",
    "    \n",
    "    end = start + 1\n",
    "    num_left = 1\n",
    "    num_right = 0\n",
    "    N = len(file_content)\n",
    "    while (num_left > num_right) and (end < N):\n",
    "        if file_content[end] == \"{\":\n",
    "            num_left += 1\n",
    "        elif file_content[end] == \"}\":\n",
    "            num_right += 1\n",
    "        end += 1\n",
    "    \n",
    "    return (file_content[start:end+1], start, end)"
   ]
  },
  {
   "cell_type": "code",
   "execution_count": 91,
   "metadata": {},
   "outputs": [],
   "source": [
    "def read_hash(file_content, used_hashes):\n",
    "    tree = LSHtree()\n",
    "    if len(file_content)==0:\n",
    "        return None\n",
    "    hash_str = re.findall(\"\\([0,1,2],[0-9]+\\)\",file_content)[0]\n",
    "    tree.bit = int(hash_str[1])\n",
    "    tree.index = int(re.findall(\",[0-9]+\",hash_str)[0][1:])\n",
    "    \n",
    "    \n",
    "    left_cont, s_l, e_l = get_sub_content(file_content)\n",
    "    if len(left_cont) == 0:\n",
    "        right_cont = \"\"\n",
    "    else:\n",
    "        right_cont, _, _ = get_sub_content(file_content[:s_l] + file_content[e_l+1:])\n",
    "    \n",
    "    tree.used_hashes = used_hashes + [(tree.bit, tree.index)]\n",
    "    \n",
    "    tree.left = read_hash(left_cont, tree.used_hashes)\n",
    "    tree.right = read_hash(right_cont, tree.used_hashes)\n",
    "    \n",
    "    \n",
    "    return tree\n",
    "    "
   ]
  },
  {
   "cell_type": "code",
   "execution_count": 92,
   "metadata": {},
   "outputs": [],
   "source": [
    "def read_tree(hashfile, filename):\n",
    "    content = hashfile.read()\n",
    "    #print(len(content))\n",
    "    if len(content)==0:\n",
    "        #print(\"returning\")\n",
    "        return\n",
    "    \n",
    "    new_content = \"{ (2,2)\" + content[2:][:-1]\n",
    "    #print(new_content)\n",
    "    #print(\"----------\")\n",
    "    tree = read_hash(new_content, [])\n",
    "    #print(tree)\n",
    "    return tree"
   ]
  },
  {
   "cell_type": "code",
   "execution_count": 93,
   "metadata": {},
   "outputs": [],
   "source": [
    "def read_all_trees(hash_dir):\n",
    "    trees = []\n",
    "    num_trees = 300\n",
    "    start=0\n",
    "    for t in range(start, start + num_trees):\n",
    "        filename = hash_dir + \"/hashes\" + str(t) \n",
    "        \n",
    "        if not os.path.isfile(filename):\n",
    "            continue\n",
    "            \n",
    "        with open(filename, \"r\") as hashfile:\n",
    "            trees.append(read_tree(hashfile, filename))\n",
    "    return trees"
   ]
  },
  {
   "cell_type": "markdown",
   "metadata": {},
   "source": [
    "### Load MNIST Hashes"
   ]
  },
  {
   "cell_type": "code",
   "execution_count": 101,
   "metadata": {},
   "outputs": [],
   "source": [
    "path = \"/Users/dbeaglehole/Desktop/Research/instance_optimal_LSH/MNIST_hashes/\"\n",
    "hash_keys = [\"hashesLong_c1\",\"hashesLong_c1o2\",\"hashesv1_c1.5\",\"hashesv1_c4\",\"hashesv1_c10\"]\n",
    "#hash_dirs = [path + x for x in hash_dirs]\n",
    "trees_dict = {}\n",
    "for hash_key in hash_keys:\n",
    "    hash_dir = path + hash_key\n",
    "    trees = read_all_trees(hash_dir)\n",
    "    trees = [t for t in trees if t != None]\n",
    "    trees_dict[hash_key] = trees"
   ]
  },
  {
   "cell_type": "markdown",
   "metadata": {},
   "source": [
    "#### Load Dataset"
   ]
  },
  {
   "cell_type": "code",
   "execution_count": 102,
   "metadata": {},
   "outputs": [],
   "source": [
    "datafile = '/Users/dbeaglehole/Desktop/Research/instance_optimal_LSH/mnist_data.txt'\n",
    "dataset = np.loadtxt(datafile)"
   ]
  },
  {
   "cell_type": "code",
   "execution_count": 103,
   "metadata": {},
   "outputs": [
    {
     "data": {
      "text/plain": [
       "(750, 784)"
      ]
     },
     "execution_count": 103,
     "metadata": {},
     "output_type": "execute_result"
    }
   ],
   "source": [
    "num_images, dim = dataset.shape\n",
    "num_images, dim "
   ]
  },
  {
   "cell_type": "markdown",
   "metadata": {},
   "source": [
    "### Generate Uniform Tree"
   ]
  },
  {
   "cell_type": "code",
   "execution_count": 104,
   "metadata": {},
   "outputs": [],
   "source": [
    "import random "
   ]
  },
  {
   "cell_type": "code",
   "execution_count": 105,
   "metadata": {},
   "outputs": [],
   "source": [
    "bucket_size=5"
   ]
  },
  {
   "cell_type": "code",
   "execution_count": 152,
   "metadata": {},
   "outputs": [],
   "source": [
    "def hash_d(dataset, used_hashes, get_indices=False):\n",
    "    hashed_dataset = np.copy(dataset)\n",
    "    indices = np.arange(dataset.shape[0])\n",
    "    for bit, index in used_hashes:\n",
    "        if bit==2:\n",
    "            continue\n",
    "        if get_indices:\n",
    "            indices = indices[np.nonzero(hashed_dataset[:,index] == bit)]\n",
    "        hashed_dataset = hashed_dataset[np.nonzero(hashed_dataset[:,index] == bit)]\n",
    "    if get_indices:\n",
    "        return indices\n",
    "    return hashed_dataset"
   ]
  },
  {
   "cell_type": "code",
   "execution_count": 107,
   "metadata": {},
   "outputs": [],
   "source": [
    "def generate_uniform_tree(used_hashes, dataset):\n",
    "    \n",
    "    hashed_dataset = hash_d(dataset, used_hashes)\n",
    "    #print(hashed_dataset.shape[0])\n",
    "    tree = LSHtree()\n",
    "    tree.bit = used_hashes[-1][0]\n",
    "    tree.index = used_hashes[-1][1]\n",
    "    if hashed_dataset.shape[0] <= bucket_size:\n",
    "        return tree\n",
    "    \n",
    "    idx = random.randint(0, dim-1)\n",
    "    \n",
    "    tree.left = generate_uniform_tree(used_hashes + [(1,idx)], hashed_dataset)\n",
    "    tree.right = generate_uniform_tree(used_hashes + [(0,idx)], hashed_dataset)\n",
    "    \n",
    "    tree.used_hashes = used_hashes\n",
    "    return tree\n",
    "    "
   ]
  },
  {
   "cell_type": "code",
   "execution_count": 108,
   "metadata": {
    "collapsed": true
   },
   "outputs": [
    {
     "name": "stdout",
     "output_type": "stream",
     "text": [
      "uniform tree 1/110\n",
      "uniform tree 6/110\n",
      "uniform tree 11/110\n",
      "uniform tree 16/110\n",
      "uniform tree 21/110\n",
      "uniform tree 26/110\n",
      "uniform tree 31/110\n",
      "uniform tree 36/110\n",
      "uniform tree 41/110\n",
      "uniform tree 46/110\n",
      "uniform tree 51/110\n",
      "uniform tree 56/110\n",
      "uniform tree 61/110\n",
      "uniform tree 66/110\n",
      "uniform tree 71/110\n",
      "uniform tree 76/110\n",
      "uniform tree 81/110\n",
      "uniform tree 86/110\n",
      "uniform tree 91/110\n",
      "uniform tree 96/110\n",
      "uniform tree 101/110\n",
      "uniform tree 106/110\n"
     ]
    }
   ],
   "source": [
    "num_trees=110\n",
    "uniform_trees = []\n",
    "for t in range(num_trees):\n",
    "    if (t%5==0):\n",
    "        print(\"uniform tree %d/%d\" % (t+1,num_trees))\n",
    "    tree = generate_uniform_tree([(2,2)],dataset)\n",
    "    uniform_trees.append(tree)"
   ]
  },
  {
   "cell_type": "code",
   "execution_count": 187,
   "metadata": {},
   "outputs": [],
   "source": [
    "trees_dict['uniform'] = uniform_trees"
   ]
  },
  {
   "cell_type": "markdown",
   "metadata": {},
   "source": [
    "### Generate Queries"
   ]
  },
  {
   "cell_type": "code",
   "execution_count": 109,
   "metadata": {},
   "outputs": [],
   "source": [
    "#originally r = 10\n",
    "r=10"
   ]
  },
  {
   "cell_type": "code",
   "execution_count": 110,
   "metadata": {},
   "outputs": [],
   "source": [
    "def rand_flip(image, dim):\n",
    "    new_query = np.copy(image)\n",
    "    for i in range(r):\n",
    "        rand_idx = random.randint(0,dim-1)\n",
    "        new_query[rand_idx] = not new_query[rand_idx]\n",
    "    return new_query"
   ]
  },
  {
   "cell_type": "code",
   "execution_count": 176,
   "metadata": {},
   "outputs": [],
   "source": [
    "def generate_random_queries(dataset):\n",
    "    query_list = []\n",
    "    queries_per_img = 2\n",
    "    num_images, dim = dataset.shape\n",
    "    for i in range(num_images):\n",
    "        image = dataset[i]\n",
    "        for j in range(queries_per_img):\n",
    "            flipped_query = rand_flip(image,dim)\n",
    "            query_list.append((flipped_query,i))\n",
    "    return query_list"
   ]
  },
  {
   "cell_type": "code",
   "execution_count": 177,
   "metadata": {},
   "outputs": [],
   "source": [
    "def flip_on_bits(image, bits):\n",
    "    query = np.copy(image)\n",
    "    for _, idx in bits:\n",
    "        query[idx] = (not image[idx])*1\n",
    "    return query"
   ]
  },
  {
   "cell_type": "code",
   "execution_count": 178,
   "metadata": {},
   "outputs": [],
   "source": [
    "query_list = generate_random_queries(dataset)"
   ]
  },
  {
   "cell_type": "markdown",
   "metadata": {},
   "source": [
    "### Eval Optimized"
   ]
  },
  {
   "cell_type": "code",
   "execution_count": 179,
   "metadata": {},
   "outputs": [],
   "source": [
    "def eval_tree(tree, query, datapoint, bucket_bool=False):\n",
    "    if (tree.left == None) and (tree.right == None): #leaf\n",
    "        if not bucket_bool:\n",
    "            return 1, []\n",
    "        else:\n",
    "            return 1, tree.used_hashes\n",
    "    \n",
    "    index = tree.left.index\n",
    "    \n",
    "    if (query[index] == datapoint[index] == 1):\n",
    "        return eval_tree(tree.left, query, datapoint)\n",
    "        \n",
    "    elif (query[index] == datapoint[index] == 0):\n",
    "        return eval_tree(tree.right, query, datapoint)\n",
    "        \n",
    "    else:\n",
    "        if not bucket_bool:\n",
    "            return 0, []\n",
    "        else:\n",
    "            return 0, []"
   ]
  },
  {
   "cell_type": "markdown",
   "metadata": {},
   "source": [
    "### Construct Rate vs Recall Curve"
   ]
  },
  {
   "cell_type": "code",
   "execution_count": 182,
   "metadata": {},
   "outputs": [],
   "source": [
    "def compute_near_neighbors(query,i):\n",
    "    nns = []\n",
    "    for img_idx in range(dataset.shape[0]):\n",
    "        img = dataset[img_idx,:]\n",
    "        distance = np.sum(np.abs(img-query))\n",
    "        if distance <= r:\n",
    "            nns.append(img_idx)\n",
    "    return nns"
   ]
  },
  {
   "cell_type": "code",
   "execution_count": 227,
   "metadata": {},
   "outputs": [],
   "source": [
    "near_neighbors_list = []\n",
    "\n",
    "def compute_recall_stats(trees):\n",
    "    recalls = []\n",
    "    query_times = []\n",
    "    \n",
    "    for j, (query,i) in enumerate(query_list):\n",
    "        if j%200==0:\n",
    "            print(j)\n",
    "        #compute near neighbors\n",
    "        if len(near_neighbors_list) < (j+1): #if NNs not added\n",
    "            near_neighbors = compute_near_neighbors(query,i)\n",
    "            near_neighbors_list.append(near_neighbors)\n",
    "        else:\n",
    "            near_neighbors = near_neighbors_list[j]\n",
    "        \n",
    "        #time query trees\n",
    "        #start = time.time()\n",
    "        #for tree in trees:\n",
    "        #    eval_tree(tree, query, dataset[i])[0]:\n",
    "        #end = time.time()\n",
    "        \n",
    "        #query_time = (end - start)\n",
    "        #query_times.append(query_time)\n",
    "        \n",
    "        #scan buckets for near neighbors\n",
    "        bucket_points = []\n",
    "        for tree in trees:\n",
    "            start = time.time()\n",
    "            found, used_hashes = eval_tree(tree, q, dataset[i], bucket_bool=True)\n",
    "            end = time.time()\n",
    "            query_time = (end - start)\n",
    "            query_times.append(query_time)\n",
    "        \n",
    "            bucket_indices = hash_d(dataset, used_hashes, get_indices=True)\n",
    "            if found:\n",
    "                bucket_points += list(bucket_indices)\n",
    "        \n",
    "        total_num_nns = 0\n",
    "        for point in near_neighbors:\n",
    "            if point in bucket_points:\n",
    "                total_num_nns += 1\n",
    "        \n",
    "        #compute recall \n",
    "        recalls.append(total_num_nns/len(near_neighbors))\n",
    "    \n",
    "    #num_Qs = len(query_times)\n",
    "    query_times = sorted(query_times)[:int(0.7*num_Qs)]\n",
    "    return (sum(recalls)/len(recalls), len(query_times)/sum(query_times))\n",
    "        "
   ]
  },
  {
   "cell_type": "code",
   "execution_count": 215,
   "metadata": {},
   "outputs": [],
   "source": [
    "num_start = 10\n",
    "num_end = 111\n",
    "step = 10"
   ]
  },
  {
   "cell_type": "code",
   "execution_count": 218,
   "metadata": {},
   "outputs": [
    {
     "name": "stdout",
     "output_type": "stream",
     "text": [
      "Num trees 10\n",
      "Key hashesLong_c1\n",
      "Key hashesLong_c1o2\n",
      "0\n",
      "200\n",
      "400\n",
      "600\n",
      "800\n",
      "1000\n",
      "1200\n",
      "1400\n",
      "Key hashesv1_c1.5\n",
      "Key hashesv1_c4\n",
      "Key hashesv1_c10\n",
      "Key uniform\n",
      "0\n",
      "200\n",
      "400\n",
      "600\n",
      "800\n",
      "1000\n",
      "1200\n",
      "1400\n",
      "Num trees 110\n",
      "Key hashesLong_c1\n",
      "Key hashesLong_c1o2\n",
      "0\n",
      "200\n",
      "400\n",
      "600\n",
      "800\n",
      "1000\n",
      "1200\n",
      "1400\n",
      "Key hashesv1_c1.5\n",
      "Key hashesv1_c4\n",
      "Key hashesv1_c10\n",
      "Key uniform\n",
      "0\n",
      "200\n",
      "400\n",
      "600\n",
      "800\n",
      "1000\n",
      "1200\n",
      "1400\n"
     ]
    }
   ],
   "source": [
    "recall_stats_per_tree = {}\n",
    "for num_trees in range(num_start,num_end,step):\n",
    "    print(\"Num trees\",num_trees)\n",
    "    for tree_key, trees in trees_dict.items():\n",
    "        print(\"Key\",tree_key)\n",
    "        #if tree_key == \"uniform\" or tree_key == \"hashesLong_c1o2\":\n",
    "        if tree_key not in recall_stats_per_tree:\n",
    "            recall_stats_per_tree[tree_key] = []\n",
    "\n",
    "        avg_recall, avg_query_time = compute_recall_stats(trees[:num_trees])\n",
    "        recall_stats_per_tree[tree_key].append((avg_recall,avg_query_time))"
   ]
  },
  {
   "cell_type": "code",
   "execution_count": 219,
   "metadata": {},
   "outputs": [
    {
     "data": {
      "text/plain": [
       "dict_items([('hashesLong_c1o2', [(0.037333333333333336, 93600.29278656039), (0.26, 91861.48280215819)]), ('uniform', [(0.025333333333333333, 71686.31222247923), (0.21866666666666668, 70659.22181963126)])])"
      ]
     },
     "execution_count": 219,
     "metadata": {},
     "output_type": "execute_result"
    }
   ],
   "source": [
    "recall_stats_per_tree.items()"
   ]
  },
  {
   "cell_type": "code",
   "execution_count": 233,
   "metadata": {},
   "outputs": [
    {
     "name": "stdout",
     "output_type": "stream",
     "text": [
      "hashesLong_c1o2\n",
      "[(0.037333333333333336, 93600.29278656039), (0.26, 91861.48280215819)]\n",
      "uniform\n",
      "[(0.025333333333333333, 71686.31222247923), (0.21866666666666668, 70659.22181963126)]\n"
     ]
    },
    {
     "data": {
      "image/png": "[encoded data removed]",
      "text/plain": [
       "<Figure size 432x288 with 1 Axes>"
      ]
     },
     "metadata": {
      "needs_background": "light"
     },
     "output_type": "display_data"
    }
   ],
   "source": [
    "plt.figure()\n",
    "plt.title(\"Recall-QPS Tradeoff\")\n",
    "plt.xlabel(\"Recall\")\n",
    "plt.ylabel(\"QPS\")\n",
    "\n",
    "\n",
    "for key,val in recall_stats_per_tree.items():\n",
    "    print(key)\n",
    "    print(val)\n",
    "    plt.plot(*zip(*val), 'o--', label=key)\n",
    "    \n",
    "plt.legend(loc='center right')\n",
    "plt.savefig(\"./qps_recall.png\")\n",
    "plt.show()"
   ]
  },
  {
   "cell_type": "markdown",
   "metadata": {},
   "source": [
    "### Time Random Queries"
   ]
  },
  {
   "cell_type": "code",
   "execution_count": 787,
   "metadata": {},
   "outputs": [],
   "source": [
    "import time"
   ]
  },
  {
   "cell_type": "code",
   "execution_count": 734,
   "metadata": {},
   "outputs": [],
   "source": [
    "trees_dict[\"uniform\"] = [uniform_trees]"
   ]
  },
  {
   "cell_type": "code",
   "execution_count": 61,
   "metadata": {
    "collapsed": true
   },
   "outputs": [
    {
     "ename": "NameError",
     "evalue": "name 'time' is not defined",
     "output_type": "error",
     "traceback": [
      "\u001b[0;31m---------------------------------------------------------------------------\u001b[0m",
      "\u001b[0;31mNameError\u001b[0m                                 Traceback (most recent call last)",
      "\u001b[0;32m<ipython-input-61-7876b46c35c9>\u001b[0m in \u001b[0;36m<module>\u001b[0;34m\u001b[0m\n\u001b[1;32m      5\u001b[0m         \u001b[0;32mif\u001b[0m \u001b[0;34m(\u001b[0m\u001b[0mt\u001b[0m\u001b[0;34m%\u001b[0m\u001b[0;36m10000\u001b[0m\u001b[0;34m==\u001b[0m\u001b[0;36m0\u001b[0m\u001b[0;34m)\u001b[0m\u001b[0;34m:\u001b[0m\u001b[0;34m\u001b[0m\u001b[0;34m\u001b[0m\u001b[0m\n\u001b[1;32m      6\u001b[0m             \u001b[0mprint\u001b[0m\u001b[0;34m(\u001b[0m\u001b[0;34m\"itr \"\u001b[0m\u001b[0;34m,\u001b[0m\u001b[0mt\u001b[0m\u001b[0;34m)\u001b[0m\u001b[0;34m\u001b[0m\u001b[0;34m\u001b[0m\u001b[0m\n\u001b[0;32m----> 7\u001b[0;31m         \u001b[0mstart\u001b[0m \u001b[0;34m=\u001b[0m \u001b[0mtime\u001b[0m\u001b[0;34m.\u001b[0m\u001b[0mtime\u001b[0m\u001b[0;34m(\u001b[0m\u001b[0;34m)\u001b[0m\u001b[0;34m\u001b[0m\u001b[0;34m\u001b[0m\u001b[0m\n\u001b[0m\u001b[1;32m      8\u001b[0m         \u001b[0;32mfor\u001b[0m \u001b[0mtree\u001b[0m \u001b[0;32min\u001b[0m \u001b[0mtrees\u001b[0m\u001b[0;34m:\u001b[0m\u001b[0;34m\u001b[0m\u001b[0;34m\u001b[0m\u001b[0m\n\u001b[1;32m      9\u001b[0m             \u001b[0;32mif\u001b[0m \u001b[0meval_tree\u001b[0m\u001b[0;34m(\u001b[0m\u001b[0mtree\u001b[0m\u001b[0;34m,\u001b[0m \u001b[0mq\u001b[0m\u001b[0;34m,\u001b[0m \u001b[0mdataset\u001b[0m\u001b[0;34m[\u001b[0m\u001b[0mi\u001b[0m\u001b[0;34m]\u001b[0m\u001b[0;34m)\u001b[0m\u001b[0;34m:\u001b[0m\u001b[0;34m\u001b[0m\u001b[0;34m\u001b[0m\u001b[0m\n",
      "\u001b[0;31mNameError\u001b[0m: name 'time' is not defined"
     ]
    }
   ],
   "source": [
    "time_dict = {}\n",
    "for tree_key, trees in trees_dict.items():\n",
    "    times = []\n",
    "    for q,i in query_list:\n",
    "        if (t%10000==0):\n",
    "            print(\"itr \",t)\n",
    "        start = time.time()\n",
    "        for tree in trees:\n",
    "            if eval_tree(tree, q, dataset[i]):\n",
    "                break\n",
    "        end = time.time()\n",
    "        time_dict[tree_key] = (end - start)\n",
    "        \n",
    "    time_list.append(times)"
   ]
  },
  {
   "cell_type": "code",
   "execution_count": 736,
   "metadata": {},
   "outputs": [
    {
     "name": "stdout",
     "output_type": "stream",
     "text": [
      "0.009618282318115234\n",
      "0.004235744476318359\n"
     ]
    }
   ],
   "source": [
    "for times in time_list:\n",
    "    print(max(times))"
   ]
  },
  {
   "cell_type": "code",
   "execution_count": 737,
   "metadata": {},
   "outputs": [
    {
     "name": "stdout",
     "output_type": "stream",
     "text": [
      "4.8833534240722656e-05\n",
      "3.512204742431641e-05\n"
     ]
    }
   ],
   "source": [
    "for times in time_list:\n",
    "    print(sum(times)/len(times))"
   ]
  },
  {
   "cell_type": "markdown",
   "metadata": {},
   "source": [
    "### Compute Recall for Random Queries"
   ]
  },
  {
   "cell_type": "code",
   "execution_count": 59,
   "metadata": {
    "collapsed": true
   },
   "outputs": [
    {
     "name": "stdout",
     "output_type": "stream",
     "text": [
      "itr  0\n",
      "itr  10000\n",
      "itr  20000\n",
      "itr  30000\n",
      "itr  0\n",
      "itr  10000\n",
      "itr  20000\n",
      "itr  30000\n",
      "itr  0\n",
      "itr  10000\n",
      "itr  20000\n",
      "itr  30000\n",
      "itr  0\n",
      "itr  10000\n",
      "itr  20000\n",
      "itr  30000\n",
      "itr  0\n",
      "itr  10000\n",
      "itr  20000\n",
      "itr  30000\n"
     ]
    }
   ],
   "source": [
    "p_success_list = []\n",
    "for tree_key,trees in trees_dict.items():\n",
    "    p_success = []\n",
    "    t=0\n",
    "    for q,i in query_list:\n",
    "        if (t%10000==0):\n",
    "            print(\"itr \",t)\n",
    "        total = 0\n",
    "        for tree in trees:\n",
    "            succ = eval_tree(tree, q, dataset[i])\n",
    "            total += succ\n",
    "        p_success.append(total/len(trees))\n",
    "        t+=1\n",
    "    p_success_list.append(p_success)"
   ]
  },
  {
   "cell_type": "markdown",
   "metadata": {},
   "source": [
    "### Eval Uniform"
   ]
  },
  {
   "cell_type": "code",
   "execution_count": 60,
   "metadata": {
    "collapsed": true
   },
   "outputs": [
    {
     "name": "stdout",
     "output_type": "stream",
     "text": [
      "itr  0\n",
      "itr  10000\n",
      "itr  20000\n",
      "itr  30000\n"
     ]
    }
   ],
   "source": [
    "p_success_uniform = []\n",
    "t=0\n",
    "for q,i in query_list:\n",
    "    if (t%10000==0):\n",
    "        print(\"itr \",t)\n",
    "    total = 0\n",
    "    for tree in uniform_trees:\n",
    "        total += eval_tree(tree, q, dataset[i])\n",
    "    p_success_uniform.append(total/len(uniform_trees))\n",
    "    t+=1"
   ]
  },
  {
   "cell_type": "markdown",
   "metadata": {},
   "source": [
    "## Plotting"
   ]
  },
  {
   "cell_type": "code",
   "execution_count": 65,
   "metadata": {},
   "outputs": [],
   "source": [
    "n_bins = 20"
   ]
  },
  {
   "cell_type": "code",
   "execution_count": 66,
   "metadata": {},
   "outputs": [],
   "source": [
    "n = len(p_success)"
   ]
  },
  {
   "cell_type": "code",
   "execution_count": 856,
   "metadata": {},
   "outputs": [
    {
     "data": {
      "text/plain": [
       "0.9806995446743526"
      ]
     },
     "execution_count": 856,
     "metadata": {},
     "output_type": "execute_result"
    }
   ],
   "source": [
    "m=10000\n",
    "sorted_opt = sorted(p_success)[:m]\n",
    "sorted_uni = sorted(p_success_uniform)[:m]\n",
    "mean(sorted_opt)/mean(sorted_uni)"
   ]
  },
  {
   "cell_type": "code",
   "execution_count": 67,
   "metadata": {},
   "outputs": [
    {
     "name": "stdout",
     "output_type": "stream",
     "text": [
      "0.8770753153153154\n",
      "0.8782336182336182\n",
      "0.8379941242937853\n",
      "0.8395494193548387\n",
      "0.7841898666666667\n",
      "0.7363212121212122\n"
     ]
    }
   ],
   "source": [
    "for p_success in p_success_list:\n",
    "    print(mean(p_success))\n",
    "print(mean(p_success_uniform))"
   ]
  },
  {
   "cell_type": "code",
   "execution_count": 71,
   "metadata": {},
   "outputs": [],
   "source": [
    "order = ['ρ=1', 'ρ=0.83', 'ρ=0.67','ρ=0.25','ρ=0.1',\"uni\"]"
   ]
  },
  {
   "cell_type": "code",
   "execution_count": 72,
   "metadata": {
    "collapsed": true
   },
   "outputs": [
    {
     "data": {
      "image/png": "[encoded data removed]",
      "text/plain": [
       "<Figure size 432x288 with 1 Axes>"
      ]
     },
     "metadata": {
      "needs_background": "light"
     },
     "output_type": "display_data"
    },
    {
     "data": {
      "image/png": "[encoded data removed]",
      "text/plain": [
       "<Figure size 432x288 with 1 Axes>"
      ]
     },
     "metadata": {
      "needs_background": "light"
     },
     "output_type": "display_data"
    },
    {
     "data": {
      "image/png": "[encoded data removed]",
      "text/plain": [
       "<Figure size 432x288 with 1 Axes>"
      ]
     },
     "metadata": {
      "needs_background": "light"
     },
     "output_type": "display_data"
    },
    {
     "data": {
      "image/png": "[encoded data removed]",
      "text/plain": [
       "<Figure size 432x288 with 1 Axes>"
      ]
     },
     "metadata": {
      "needs_background": "light"
     },
     "output_type": "display_data"
    },
    {
     "data": {
      "image/png": "[encoded data removed]",
      "text/plain": [
       "<Figure size 432x288 with 1 Axes>"
      ]
     },
     "metadata": {
      "needs_background": "light"
     },
     "output_type": "display_data"
    }
   ],
   "source": [
    "for i, p_success in enumerate(p_success_list):\n",
    "    plt.figure()\n",
    "    plt.hist(p_success, n_bins, alpha=0.5, label=order[i])\n",
    "    plt.hist(p_success_uniform, n_bins, alpha=0.5, label='Uni')\n",
    "    plt.legend(loc='upper right')\n",
    "    plt.title(\"Success Probability on Random Queries\")\n",
    "    plt.xlabel(\"Pr[Success]\")\n",
    "    plt.ylabel(\"Frequency\")\n",
    "    #plt.savefig(\"./comparison\" + order[i] + \".png\")\n",
    "    plt.show()"
   ]
  },
  {
   "cell_type": "code",
   "execution_count": null,
   "metadata": {},
   "outputs": [],
   "source": []
  }
 ],
 "metadata": {
  "kernelspec": {
   "display_name": "Python 3",
   "language": "python",
   "name": "python3"
  }
 },
 "nbformat": 4,
 "nbformat_minor": 4
}
