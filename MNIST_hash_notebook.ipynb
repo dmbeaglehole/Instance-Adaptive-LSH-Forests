{
 "cells": [
  {
   "cell_type": "code",
   "execution_count": 91,
   "metadata": {},
   "outputs": [],
   "source": [
    "import numpy as np\n",
    "import re"
   ]
  },
  {
   "cell_type": "code",
   "execution_count": 297,
   "metadata": {},
   "outputs": [],
   "source": [
    "import os.path"
   ]
  },
  {
   "cell_type": "code",
   "execution_count": 280,
   "metadata": {},
   "outputs": [],
   "source": [
    "class LSHtree:\n",
    "    def __init__(self):\n",
    "\n",
    "        self.left = None\n",
    "        self.right = None\n",
    "        self.index = None\n",
    "        self.bit = None\n",
    "\n",
    "\n",
    "    def print_node(self):\n",
    "        print(\"Index :\",self.index)\n",
    "        print(\"Bit :\",self.bit)\n",
    "        "
   ]
  },
  {
   "cell_type": "code",
   "execution_count": 281,
   "metadata": {},
   "outputs": [],
   "source": [
    "def print_tree(tree):\n",
    "    if tree==None:\n",
    "        return\n",
    "    tree.print_node()\n",
    "    print(\"Left Child\")\n",
    "    print_tree(tree.left)\n",
    "    print(\"Right Child\")\n",
    "    print_tree(tree.right)"
   ]
  },
  {
   "cell_type": "code",
   "execution_count": 282,
   "metadata": {},
   "outputs": [],
   "source": [
    "def get_num_nodes(tree):\n",
    "    if tree == None:\n",
    "        return 0\n",
    "    total = 1\n",
    "    total += get_num_nodes(tree.left)\n",
    "    total += get_num_nodes(tree.right)\n",
    "    return total"
   ]
  },
  {
   "cell_type": "code",
   "execution_count": 323,
   "metadata": {},
   "outputs": [],
   "source": [
    "def get_sub_content(file_content):\n",
    "    start=1\n",
    "    print(file_content)\n",
    "    print(\"----------\")\n",
    "    while (file_content[start] != \"{\"):\n",
    "        if file_content[start] == \"}\":\n",
    "            return (\"\",-1,-1)\n",
    "        start += 1\n",
    "    \n",
    "    end = start + 1\n",
    "    num_left = 1\n",
    "    num_right = 0\n",
    "    N = len(file_content)\n",
    "    while (num_left > num_right) and (end < N):\n",
    "        if file_content[end] == \"{\":\n",
    "            num_left += 1\n",
    "        elif file_content[end] == \"}\":\n",
    "            num_right += 1\n",
    "        end += 1\n",
    "    \n",
    "    return (file_content[start:end+1], start, end)"
   ]
  },
  {
   "cell_type": "code",
   "execution_count": 324,
   "metadata": {},
   "outputs": [],
   "source": [
    "def read_hash(file_content):\n",
    "    tree = LSHtree()\n",
    "    hash_str = re.findall(\"\\([0,1,2],[0-9]+\\)\",file_content)[0]\n",
    "    tree.bit = int(hash_str[1])\n",
    "    tree.index = int(re.findall(\",[0-9]+\",hash_str)[0][1:])\n",
    "    \n",
    "    \n",
    "    left_cont, s_l, e_l = get_sub_content(file_content)\n",
    "    if len(left_cont) == 0:\n",
    "        right_cont = \"\"\n",
    "    else:\n",
    "        right_cont, _, _ = get_sub_content(file_content[:s_l] + file_content[e_l+1:])\n",
    "    \n",
    "\n",
    "    tree.left = read_hash(left_cont)\n",
    "    tree.right = read_hash(right_cont)\n",
    "    \n",
    "    return tree\n",
    "    "
   ]
  },
  {
   "cell_type": "code",
   "execution_count": 325,
   "metadata": {},
   "outputs": [],
   "source": [
    "def read_tree(hashfile, filename):\n",
    "    content = hashfile.read()\n",
    "    print(len(content))\n",
    "    if len(content)==0:\n",
    "        print(\"returning\")\n",
    "        return\n",
    "    \n",
    "    new_content = \"{ (2,2) \" + content\n",
    "    tree = read_hash(new_content)\n",
    "    print(tree)\n",
    "    return tree"
   ]
  },
  {
   "cell_type": "code",
   "execution_count": 326,
   "metadata": {},
   "outputs": [],
   "source": [
    "def read_all_trees(hash_dir):\n",
    "    trees = []\n",
    "    num_trees = 250\n",
    "    for t in range(num_trees):\n",
    "        filename = hash_dir + \"hashes\" + str(t)\n",
    "        \n",
    "        if not os.path.isfile(filename):\n",
    "            continue\n",
    "            \n",
    "        with open(filename, \"r\") as hashfile:\n",
    "            trees.append(read_tree(hashfile, filename))\n",
    "    return trees"
   ]
  },
  {
   "cell_type": "markdown",
   "metadata": {},
   "source": [
    "### ImageNet"
   ]
  },
  {
   "cell_type": "code",
   "execution_count": 327,
   "metadata": {},
   "outputs": [
    {
     "name": "stdout",
     "output_type": "stream",
     "text": [
      "9396\n",
      "{ (2,2)  {  { (1,56) { (1,84) { (1,182) { (1,161) { (1,30) { (1,169) { (1,99) { (1,126) { (1,79) { (1,82) { (1,178) { (1,151) { (1,120) { (1,174) { (1,176) { (1,25) { (1,169) { (1,173) { (1,4) { (1,176) { (1,110) { (1,178) { (1,109) { (1,8) { (1,165) { (1,12) { (1,55) { (1,8) { (1,36) { (1,44) }  { (0,44) }  }  { (0,36) }  }  { (0,8) }  }  { (0,55) }  }  { (0,12) }  }  { (0,165) }  }  { (0,8) }  }  { (0,109) }  }  { (0,178) }  }  { (0,110) }  }  { (0,176) }  }  { (0,4) }  }  { (0,173) }  }  { (0,169) }  }  { (0,25) }  }  { (0,176) }  }  { (0,174) }  }  { (0,120) }  }  { (0,151) }  }  { (0,178) }  }  { (0,82) }  }  { (0,79) }  }  { (0,126) }  }  { (0,99) { (1,110) }  { (0,110) }  }  }  { (0,169) }  }  { (0,30) }  }  { (0,161) { (1,17) { (1,39) }  { (0,39) }  }  { (0,17) { (1,35) }  { (0,35) }  }  }  }  { (0,182) { (1,142) { (1,155) { (1,165) }  { (0,165) { (1,161) }  { (0,161) }  }  }  { (0,155) { (1,186) { (1,125) }  { (0,125) }  }  { (0,186) }  }  }  { (0,142) { (1,126) { (1,81) { (1,26) }  { (0,26) }  }  { (0,81) { (1,188) }  { (0,188) }  }  }  { (0,126) { (1,62) }  { (0,62) { (1,32) }  { (0,32) }  }  }  }  }  }  { (0,84) { (1,132) { (1,53) { (1,27) { (1,165) { (1,137) }  { (0,137) }  }  { (0,165) { (1,100) }  { (0,100) }  }  }  { (0,27) { (1,76) { (1,86) { (1,108) }  { (0,108) }  }  { (0,86) }  }  { (0,76) { (1,13) }  { (0,13) }  }  }  }  { (0,53) { (1,18) { (1,142) { (1,189) }  { (0,189) }  }  { (0,142) { (1,145) }  { (0,145) }  }  }  { (0,18) { (1,142) }  { (0,142) }  }  }  }  { (0,132) { (1,160) { (1,10) { (1,125) { (1,179) }  { (0,179) }  }  { (0,125) { (1,21) }  { (0,21) }  }  }  { (0,10) { (1,32) { (1,31) { (1,25) }  { (0,25) }  }  { (0,31) { (1,99) }  { (0,99) }  }  }  { (0,32) }  }  }  { (0,160) { (1,15) { (1,125) { (1,52) { (1,38) { (1,59) }  { (0,59) }  }  { (0,38) }  }  { (0,52) { (1,105) }  { (0,105) }  }  }  { (0,125) { (1,55) { (1,31) { (1,17) { (1,40) }  { (0,40) }  }  { (0,17) }  }  { (0,31) }  }  { (0,55) }  }  }  { (0,15) { (1,119) { (1,191) { (1,185) { (1,162) }  { (0,162) }  }  { (0,185) }  }  { (0,191) { (1,33) }  { (0,33) }  }  }  { (0,119) { (1,161) }  { (0,161) { (1,188) }  { (0,188) { (1,17) }  { (0,17) }  }  }  }  }  }  }  }  }  { (0,56) { (1,65) { (1,125) { (1,44) { (1,152) { (1,50) }  { (0,50) }  }  { (0,152) { (1,191) }  { (0,191) { (1,148) }  { (0,148) { (1,1) { (1,122) }  { (0,122) }  }  { (0,1) }  }  }  }  }  { (0,44) { (1,112) { (1,168) }  { (0,168) { (1,75) { (1,27) }  { (0,27) }  }  { (0,75) }  }  }  { (0,112) { (1,173) }  { (0,173) }  }  }  }  { (0,125) { (1,126) { (1,16) }  { (0,16) { (1,106) }  { (0,106) }  }  }  { (0,126) { (1,188) { (1,170) }  { (0,170) }  }  { (0,188) { (1,143) { (1,50) { (1,44) }  { (0,44) }  }  { (0,50) { (1,46) { (1,83) { (1,153) }  { (0,153) }  }  { (0,83) }  }  { (0,46) { (1,98) { (1,64) }  { (0,64) }  }  { (0,98) { (1,26) { (1,3) }  { (0,3) }  }  { (0,26) { (1,76) { (1,150) { (1,69) { (1,172) }  { (0,172) }  }  { (0,69) }  }  { (0,150) }  }  { (0,76) }  }  }  }  }  }  { (0,143) { (1,112) }  { (0,112) { (1,29) { (1,156) { (1,59) }  { (0,59) }  }  { (0,156) { (1,37) { (1,64) }  { (0,64) }  }  { (0,37) }  }  }  { (0,29) { (1,83) { (1,82) }  { (0,82) }  }  { (0,83) { (1,12) }  { (0,12) { (1,4) }  { (0,4) }  }  }  }  }  }  }  }  }  }  { (0,65) { (1,27) { (1,178) { (1,93) { (1,142) }  { (0,142) { (1,105) }  { (0,105) }  }  }  { (0,93) { (1,15) }  { (0,15) { (1,98) }  { (0,98) }  }  }  }  { (0,178) { (1,43) { (1,2) { (1,39) { (1,85) }  { (0,85) }  }  { (0,39) { (1,90) }  { (0,90) { (1,79) }  { (0,79) }  }  }  }  { (0,2) { (1,93) { (1,18) { (1,106) }  { (0,106) }  }  { (0,18) { (1,140) }  { (0,140) }  }  }  { (0,93) { (1,152) }  { (0,152) { (1,145) }  { (0,145) { (1,187) }  { (0,187) { (1,22) }  { (0,22) }  }  }  }  }  }  }  { (0,43) { (1,48) }  { (0,48) { (1,164) { (1,45) }  { (0,45) { (1,85) }  { (0,85) }  }  }  { (0,164) { (1,100) { (1,102) }  { (0,102) { (1,5) }  { (0,5) }  }  }  { (0,100) { (1,0) }  { (0,0) { (1,87) }  { (0,87) { (1,32) }  { (0,32) { (1,17) }  { (0,17) { (1,70) }  { (0,70) { (1,21) }  { (0,21) { (1,93) }  { (0,93) { (1,51) }  { (0,51) { (1,166) }  { (0,166) { (1,33) }  { (0,33) { (1,122) }  { (0,122) { (1,99) }  { (0,99) }  }  }  }  }  }  }  }  }  }  }  }  }  }  }  }  }  }  { (0,27) { (1,72) { (1,81) { (1,166) }  { (0,166) }  }  { (0,81) { (1,28) }  { (0,28) }  }  }  { (0,72) { (1,134) { (1,7) { (1,181) }  { (0,181) { (1,26) }  { (0,26) }  }  }  { (0,7) { (1,191) }  { (0,191) }  }  }  { (0,134) { (1,28) { (1,47) }  { (0,47) { (1,165) }  { (0,165) { (1,93) }  { (0,93) { (1,54) }  { (0,54) }  }  }  }  }  { (0,28) { (1,133) }  { (0,133) { (1,134) }  { (0,134) { (1,102) { (1,52) }  { (0,52) }  }  { (0,102) { (1,169) { (1,127) }  { (0,127) { (1,34) }  { (0,34) }  }  }  { (0,169) { (1,171) }  { (0,171) { (1,35) { (1,54) }  { (0,54) { (1,170) }  { (0,170) }  }  }  { (0,35) { (1,157) }  { (0,157) { (1,22) { (1,150) }  { (0,150) { (1,20) }  { (0,20) }  }  }  { (0,22) { (1,170) }  { (0,170) { (1,166) }  { (0,166) { (1,167) }  { (0,167) { (1,188) }  { (0,188) { (1,133) }  { (0,133) { (1,188) }  { (0,188) { (1,45) }  { (0,45) { (1,123) }  { (0,123) { (1,5) }  { (0,5) { (1,69) }  { (0,69) { (1,62) }  { (0,62) { (1,29) }  { (0,29) { (1,186) }  { (0,186) { (1,124) }  { (0,124) { (1,22) }  { (0,22) { (1,123) }  { (0,123) { (1,157) }  { (0,157) { (1,134) }  { (0,134) { (1,84) }  { (0,84) { (1,42) }  { (0,42) { (1,98) }  { (0,98) { (1,126) }  { (0,126) { (1,154) }  { (0,154) { (1,189) }  { (0,189) { (1,10) }  { (0,10) { (1,149) }  { (0,149) { (1,18) }  { (0,18) { (1,153) }  { (0,153) { (1,11) }  { (0,11) { (1,191) }  { (0,191) { (1,75) }  { (0,75) { (1,181) }  { (0,181) { (1,151) }  { (0,151) { (1,89) }  { (0,89) { (1,172) }  { (0,172) { (1,117) }  { (0,117) { (1,164) }  { (0,164) { (1,101) }  { (0,101) { (1,67) }  { (0,67) { (1,46) }  { (0,46) { (1,83) }  { (0,83) { (1,87) }  { (0,87) { (1,132) }  { (0,132) { (1,23) }  { (0,23) { (1,38) }  { (0,38) { (1,122) }  { (0,122) { (1,27) }  { (0,27) { (1,166) }  { (0,166) { (1,92) }  { (0,92) { (1,176) }  { (0,176) { (1,93) }  { (0,93) { (1,103) }  { (0,103) { (1,13) }  { (0,13) { (1,188) }  { (0,188) { (1,71) }  { (0,71) { (1,124) }  { (0,124) { (1,105) }  { (0,105) { (1,90) }  { (0,90) { (1,16) }  { (0,16) { (1,99) }  { (0,99) { (1,174) }  { (0,174) { (1,54) }  { (0,54) { (1,7) }  { (0,7) { (1,108) }  { (0,108) { (1,31) }  { (0,31) { (1,25) }  { (0,25) { (1,79) }  { (0,79) { (1,72) }  { (0,72) { (1,114) }  { (0,114) { (1,123) }  { (0,123) { (1,177) }  { (0,177) { (1,142) }  { (0,142) { (1,169) }  { (0,169) { (1,157) }  { (0,157) { (1,174) }  { (0,174) { (1,53) }  { (0,53) { (1,61) }  { (0,61) { (1,65) }  { (0,65) { (1,163) }  { (0,163) { (1,0) }  { (0,0) { (1,4) }  { (0,4) { (1,145) }  { (0,145) { (1,64) }  { (0,64) { (1,22) }  { (0,22) { (1,89) }  { (0,89) { (1,162) }  { (0,162) { (1,166) }  { (0,166) { (1,188) }  { (0,188) { (1,22) }  { (0,22) { (1,0) }  { (0,0) { (1,21) }  { (0,21) { (1,143) }  { (0,143) { (1,99) }  { (0,99) { (1,145) }  { (0,145) { (1,40) }  { (0,40) { (1,73) }  { (0,73) { (1,152) }  { (0,152) { (1,64) }  { (0,64) { (1,124) }  { (0,124) { (1,2) }  { (0,2) { (1,7) }  { (0,7) { (1,97) }  { (0,97) { (1,49) }  { (0,49) { (1,133) }  { (0,133) { (1,123) }  { (0,123) { (1,3) }  { (0,3) { (1,80) }  { (0,80) { (1,181) }  { (0,181) { (1,48) }  { (0,48) { (1,37) }  { (0,37) { (1,94) }  { (0,94) { (1,106) }  { (0,106) { (1,86) }  { (0,86) { (1,184) }  { (0,184) { (1,186) }  { (0,186) { (1,73) }  { (0,73) { (1,142) }  { (0,142) { (1,112) }  { (0,112) { (1,46) }  { (0,46) { (1,134) }  { (0,134) { (1,187) }  { (0,187) { (1,22) }  { (0,22) { (1,19) }  { (0,19) { (1,35) }  { (0,35) { (1,128) }  { (0,128) { (1,155) }  { (0,155) { (1,27) }  { (0,27) { (1,111) }  { (0,111) { (1,113) }  { (0,113) { (1,161) }  { (0,161) { (1,47) }  { (0,47) { (1,55) }  { (0,55) { (1,182) }  { (0,182) { (1,93) }  { (0,93) { (1,9) }  { (0,9) { (1,178) }  { (0,178) { (1,63) }  { (0,63) { (1,10) }  { (0,10) { (1,96) }  { (0,96) { (1,186) }  { (0,186) { (1,114) }  { (0,114) { (1,55) }  { (0,55) { (1,90) }  { (0,90) { (1,140) }  { (0,140) { (1,110) }  { (0,110) { (1,39) }  { (0,39) { (1,157) }  { (0,157) { (1,149) }  { (0,149) { (1,42) }  { (0,42) { (1,136) }  { (0,136) { (1,175) }  { (0,175) { (1,178) }  { (0,178) { (1,134) }  { (0,134) { (1,23) }  { (0,23) { (1,65) }  { (0,65) { (1,162) }  { (0,162) { (1,144) }  { (0,144) { (1,33) }  { (0,33) { (1,94) }  { (0,94) { (1,153) }  { (0,153) { (1,72) }  { (0,72) { (1,146) }  { (0,146) { (1,185) }  { (0,185) { (1,116) }  { (0,116) { (1,129) }  { (0,129) { (1,54) }  { (0,54) { (1,73) }  { (0,73) { (1,10) }  { (0,10) { (1,78) }  { (0,78) { (1,69) }  { (0,69) { (1,99) }  { (0,99) { (1,34) }  { (0,34) { (1,189) }  { (0,189) { (1,128) }  { (0,128) { (1,43) }  { (0,43) { (1,95) }  { (0,95) { (1,118) }  { (0,118) { (1,138) }  { (0,138) }  }  }  }  }  }  }  }  }  }  }  }  }  }  }  }  }  }  }  }  }  }  }  }  }  }  }  }  }  }  }  }  }  }  }  }  }  }  }  }  }  }  }  }  }  }  }  }  }  }  }  }  }  }  }  }  }  }  }  }  }  }  }  }  }  }  }  }  }  }  }  }  }  }  }  }  }  }  }  }  }  }  }  }  }  }  }  }  }  }  }  }  }  }  }  }  }  }  }  }  }  }  }  }  }  }  }  }  }  }  }  }  }  }  }  }  }  }  }  }  }  }  }  }  }  }  }  }  }  }  }  }  }  }  }  }  }  }  }  }  }  }  }  }  }  }  }  }  }  }  }  }  }  }  }  }  }  }  }  }  }  }  }  }  }  }  }  }  }  }  }  }  }  }  }  }  }  }  }  }  }  }  }  }  }  }  }  }  }  }  }  }  } \n",
      "----------\n",
      "{ (2,2)  \n",
      "----------\n"
     ]
    },
    {
     "ename": "IndexError",
     "evalue": "string index out of range",
     "output_type": "error",
     "traceback": [
      "\u001b[0;31m---------------------------------------------------------------------------\u001b[0m",
      "\u001b[0;31mIndexError\u001b[0m                                Traceback (most recent call last)",
      "\u001b[0;32m<ipython-input-327-6ab7dda9b1bb>\u001b[0m in \u001b[0;36m<module>\u001b[0;34m\u001b[0m\n\u001b[1;32m      4\u001b[0m \u001b[0mtrees_list\u001b[0m \u001b[0;34m=\u001b[0m \u001b[0;34m[\u001b[0m\u001b[0;34m]\u001b[0m\u001b[0;34m\u001b[0m\u001b[0;34m\u001b[0m\u001b[0m\n\u001b[1;32m      5\u001b[0m \u001b[0;32mfor\u001b[0m \u001b[0mhash_dir\u001b[0m \u001b[0;32min\u001b[0m \u001b[0mhash_dirs\u001b[0m\u001b[0;34m:\u001b[0m\u001b[0;34m\u001b[0m\u001b[0;34m\u001b[0m\u001b[0m\n\u001b[0;32m----> 6\u001b[0;31m     \u001b[0mtrees\u001b[0m \u001b[0;34m=\u001b[0m \u001b[0mread_all_trees\u001b[0m\u001b[0;34m(\u001b[0m\u001b[0mhash_dir\u001b[0m\u001b[0;34m)\u001b[0m\u001b[0;34m\u001b[0m\u001b[0;34m\u001b[0m\u001b[0m\n\u001b[0m\u001b[1;32m      7\u001b[0m     \u001b[0mtrees\u001b[0m \u001b[0;34m=\u001b[0m \u001b[0;34m[\u001b[0m\u001b[0mt\u001b[0m \u001b[0;32mfor\u001b[0m \u001b[0mt\u001b[0m \u001b[0;32min\u001b[0m \u001b[0mtrees\u001b[0m \u001b[0;32mif\u001b[0m \u001b[0mt\u001b[0m \u001b[0;34m!=\u001b[0m \u001b[0;34m'None'\u001b[0m\u001b[0;34m]\u001b[0m\u001b[0;34m[\u001b[0m\u001b[0;34m:\u001b[0m\u001b[0;36m110\u001b[0m\u001b[0;34m]\u001b[0m\u001b[0;34m\u001b[0m\u001b[0;34m\u001b[0m\u001b[0m\n\u001b[1;32m      8\u001b[0m     \u001b[0mtrees_list\u001b[0m\u001b[0;34m.\u001b[0m\u001b[0mappend\u001b[0m\u001b[0;34m(\u001b[0m\u001b[0mtrees\u001b[0m\u001b[0;34m)\u001b[0m\u001b[0;34m\u001b[0m\u001b[0;34m\u001b[0m\u001b[0m\n",
      "\u001b[0;32m<ipython-input-326-476020a77f9f>\u001b[0m in \u001b[0;36mread_all_trees\u001b[0;34m(hash_dir)\u001b[0m\n\u001b[1;32m      9\u001b[0m \u001b[0;34m\u001b[0m\u001b[0m\n\u001b[1;32m     10\u001b[0m         \u001b[0;32mwith\u001b[0m \u001b[0mopen\u001b[0m\u001b[0;34m(\u001b[0m\u001b[0mfilename\u001b[0m\u001b[0;34m,\u001b[0m \u001b[0;34m\"r\"\u001b[0m\u001b[0;34m)\u001b[0m \u001b[0;32mas\u001b[0m \u001b[0mhashfile\u001b[0m\u001b[0;34m:\u001b[0m\u001b[0;34m\u001b[0m\u001b[0;34m\u001b[0m\u001b[0m\n\u001b[0;32m---> 11\u001b[0;31m             \u001b[0mtrees\u001b[0m\u001b[0;34m.\u001b[0m\u001b[0mappend\u001b[0m\u001b[0;34m(\u001b[0m\u001b[0mread_tree\u001b[0m\u001b[0;34m(\u001b[0m\u001b[0mhashfile\u001b[0m\u001b[0;34m,\u001b[0m \u001b[0mfilename\u001b[0m\u001b[0;34m)\u001b[0m\u001b[0;34m)\u001b[0m\u001b[0;34m\u001b[0m\u001b[0;34m\u001b[0m\u001b[0m\n\u001b[0m\u001b[1;32m     12\u001b[0m     \u001b[0;32mreturn\u001b[0m \u001b[0mtrees\u001b[0m\u001b[0;34m\u001b[0m\u001b[0;34m\u001b[0m\u001b[0m\n",
      "\u001b[0;32m<ipython-input-325-3dfa2f4677d2>\u001b[0m in \u001b[0;36mread_tree\u001b[0;34m(hashfile, filename)\u001b[0m\n\u001b[1;32m      7\u001b[0m \u001b[0;34m\u001b[0m\u001b[0m\n\u001b[1;32m      8\u001b[0m     \u001b[0mnew_content\u001b[0m \u001b[0;34m=\u001b[0m \u001b[0;34m\"{ (2,2) \"\u001b[0m \u001b[0;34m+\u001b[0m \u001b[0mcontent\u001b[0m\u001b[0;34m\u001b[0m\u001b[0;34m\u001b[0m\u001b[0m\n\u001b[0;32m----> 9\u001b[0;31m     \u001b[0mtree\u001b[0m \u001b[0;34m=\u001b[0m \u001b[0mread_hash\u001b[0m\u001b[0;34m(\u001b[0m\u001b[0mnew_content\u001b[0m\u001b[0;34m)\u001b[0m\u001b[0;34m\u001b[0m\u001b[0;34m\u001b[0m\u001b[0m\n\u001b[0m\u001b[1;32m     10\u001b[0m     \u001b[0mprint\u001b[0m\u001b[0;34m(\u001b[0m\u001b[0mtree\u001b[0m\u001b[0;34m)\u001b[0m\u001b[0;34m\u001b[0m\u001b[0;34m\u001b[0m\u001b[0m\n\u001b[1;32m     11\u001b[0m     \u001b[0;32mreturn\u001b[0m \u001b[0mtree\u001b[0m\u001b[0;34m\u001b[0m\u001b[0;34m\u001b[0m\u001b[0m\n",
      "\u001b[0;32m<ipython-input-324-44b7b2d16506>\u001b[0m in \u001b[0;36mread_hash\u001b[0;34m(file_content)\u001b[0m\n\u001b[1;32m     10\u001b[0m         \u001b[0mright_cont\u001b[0m \u001b[0;34m=\u001b[0m \u001b[0;34m\"\"\u001b[0m\u001b[0;34m\u001b[0m\u001b[0;34m\u001b[0m\u001b[0m\n\u001b[1;32m     11\u001b[0m     \u001b[0;32melse\u001b[0m\u001b[0;34m:\u001b[0m\u001b[0;34m\u001b[0m\u001b[0;34m\u001b[0m\u001b[0m\n\u001b[0;32m---> 12\u001b[0;31m         \u001b[0mright_cont\u001b[0m\u001b[0;34m,\u001b[0m \u001b[0m_\u001b[0m\u001b[0;34m,\u001b[0m \u001b[0m_\u001b[0m \u001b[0;34m=\u001b[0m \u001b[0mget_sub_content\u001b[0m\u001b[0;34m(\u001b[0m\u001b[0mfile_content\u001b[0m\u001b[0;34m[\u001b[0m\u001b[0;34m:\u001b[0m\u001b[0ms_l\u001b[0m\u001b[0;34m]\u001b[0m \u001b[0;34m+\u001b[0m \u001b[0mfile_content\u001b[0m\u001b[0;34m[\u001b[0m\u001b[0me_l\u001b[0m\u001b[0;34m+\u001b[0m\u001b[0;36m1\u001b[0m\u001b[0;34m:\u001b[0m\u001b[0;34m]\u001b[0m\u001b[0;34m)\u001b[0m\u001b[0;34m\u001b[0m\u001b[0;34m\u001b[0m\u001b[0m\n\u001b[0m\u001b[1;32m     13\u001b[0m \u001b[0;34m\u001b[0m\u001b[0m\n\u001b[1;32m     14\u001b[0m \u001b[0;34m\u001b[0m\u001b[0m\n",
      "\u001b[0;32m<ipython-input-323-1b83b8cf0594>\u001b[0m in \u001b[0;36mget_sub_content\u001b[0;34m(file_content)\u001b[0m\n\u001b[1;32m      3\u001b[0m     \u001b[0mprint\u001b[0m\u001b[0;34m(\u001b[0m\u001b[0mfile_content\u001b[0m\u001b[0;34m)\u001b[0m\u001b[0;34m\u001b[0m\u001b[0;34m\u001b[0m\u001b[0m\n\u001b[1;32m      4\u001b[0m     \u001b[0mprint\u001b[0m\u001b[0;34m(\u001b[0m\u001b[0;34m\"----------\"\u001b[0m\u001b[0;34m)\u001b[0m\u001b[0;34m\u001b[0m\u001b[0;34m\u001b[0m\u001b[0m\n\u001b[0;32m----> 5\u001b[0;31m     \u001b[0;32mwhile\u001b[0m \u001b[0;34m(\u001b[0m\u001b[0mfile_content\u001b[0m\u001b[0;34m[\u001b[0m\u001b[0mstart\u001b[0m\u001b[0;34m]\u001b[0m \u001b[0;34m!=\u001b[0m \u001b[0;34m\"{\"\u001b[0m\u001b[0;34m)\u001b[0m\u001b[0;34m:\u001b[0m\u001b[0;34m\u001b[0m\u001b[0;34m\u001b[0m\u001b[0m\n\u001b[0m\u001b[1;32m      6\u001b[0m         \u001b[0;32mif\u001b[0m \u001b[0mfile_content\u001b[0m\u001b[0;34m[\u001b[0m\u001b[0mstart\u001b[0m\u001b[0;34m]\u001b[0m \u001b[0;34m==\u001b[0m \u001b[0;34m\"}\"\u001b[0m\u001b[0;34m:\u001b[0m\u001b[0;34m\u001b[0m\u001b[0;34m\u001b[0m\u001b[0m\n\u001b[1;32m      7\u001b[0m             \u001b[0;32mreturn\u001b[0m \u001b[0;34m(\u001b[0m\u001b[0;34m\"\"\u001b[0m\u001b[0;34m,\u001b[0m\u001b[0;34m-\u001b[0m\u001b[0;36m1\u001b[0m\u001b[0;34m,\u001b[0m\u001b[0;34m-\u001b[0m\u001b[0;36m1\u001b[0m\u001b[0;34m)\u001b[0m\u001b[0;34m\u001b[0m\u001b[0;34m\u001b[0m\u001b[0m\n",
      "\u001b[0;31mIndexError\u001b[0m: string index out of range"
     ]
    }
   ],
   "source": [
    "path = \"/Users/dbeaglehole/Desktop/Research/instance_optimal_LSH/ImageNetHashes/\"\n",
    "hash_dirs = [\"hashes_c1o2/\"]\n",
    "hash_dirs = [path + x for x in hash_dirs]\n",
    "trees_list = []\n",
    "for hash_dir in hash_dirs:\n",
    "    trees = read_all_trees(hash_dir)\n",
    "    trees = [t for t in trees if t != 'None'][:110]\n",
    "    trees_list.append(trees)"
   ]
  },
  {
   "cell_type": "code",
   "execution_count": 296,
   "metadata": {},
   "outputs": [
    {
     "data": {
      "text/plain": [
       "[[None,\n",
       "  None,\n",
       "  None,\n",
       "  None,\n",
       "  None,\n",
       "  None,\n",
       "  None,\n",
       "  None,\n",
       "  None,\n",
       "  None,\n",
       "  None,\n",
       "  None,\n",
       "  None,\n",
       "  None,\n",
       "  None,\n",
       "  None,\n",
       "  None,\n",
       "  None,\n",
       "  None,\n",
       "  None,\n",
       "  None,\n",
       "  None,\n",
       "  None,\n",
       "  None,\n",
       "  None,\n",
       "  None,\n",
       "  None,\n",
       "  None,\n",
       "  None,\n",
       "  None,\n",
       "  None,\n",
       "  None,\n",
       "  None,\n",
       "  None,\n",
       "  None,\n",
       "  None,\n",
       "  None,\n",
       "  None,\n",
       "  None,\n",
       "  None,\n",
       "  None,\n",
       "  None,\n",
       "  None,\n",
       "  None,\n",
       "  None,\n",
       "  None,\n",
       "  None,\n",
       "  None,\n",
       "  None,\n",
       "  None,\n",
       "  None,\n",
       "  None,\n",
       "  None,\n",
       "  None,\n",
       "  None,\n",
       "  None,\n",
       "  None,\n",
       "  None,\n",
       "  None,\n",
       "  None,\n",
       "  None]]"
      ]
     },
     "execution_count": 296,
     "metadata": {},
     "output_type": "execute_result"
    }
   ],
   "source": [
    "trees_list"
   ]
  },
  {
   "cell_type": "markdown",
   "metadata": {},
   "source": [
    "### MNIST"
   ]
  },
  {
   "cell_type": "code",
   "execution_count": 123,
   "metadata": {
    "scrolled": true
   },
   "outputs": [
    {
     "name": "stdout",
     "output_type": "stream",
     "text": [
      "/Users/dbeaglehole/Desktop/Research/instance_optimal_LSH/analysis/hashesLong_c1/\n",
      "/Users/dbeaglehole/Desktop/Research/instance_optimal_LSH/analysis/hashesLong_c1/hashes0\n",
      "/Users/dbeaglehole/Desktop/Research/instance_optimal_LSH/analysis/hashesLong_c1/hashes1\n",
      "/Users/dbeaglehole/Desktop/Research/instance_optimal_LSH/analysis/hashesLong_c1/hashes2\n",
      "/Users/dbeaglehole/Desktop/Research/instance_optimal_LSH/analysis/hashesLong_c1/hashes3\n",
      "/Users/dbeaglehole/Desktop/Research/instance_optimal_LSH/analysis/hashesLong_c1/hashes4\n",
      "/Users/dbeaglehole/Desktop/Research/instance_optimal_LSH/analysis/hashesLong_c1/hashes5\n",
      "/Users/dbeaglehole/Desktop/Research/instance_optimal_LSH/analysis/hashesLong_c1/hashes6\n",
      "/Users/dbeaglehole/Desktop/Research/instance_optimal_LSH/analysis/hashesLong_c1/hashes7\n",
      "/Users/dbeaglehole/Desktop/Research/instance_optimal_LSH/analysis/hashesLong_c1/hashes8\n",
      "/Users/dbeaglehole/Desktop/Research/instance_optimal_LSH/analysis/hashesLong_c1/hashes9\n",
      "/Users/dbeaglehole/Desktop/Research/instance_optimal_LSH/analysis/hashesLong_c1/hashes10\n",
      "/Users/dbeaglehole/Desktop/Research/instance_optimal_LSH/analysis/hashesLong_c1/hashes11\n",
      "/Users/dbeaglehole/Desktop/Research/instance_optimal_LSH/analysis/hashesLong_c1/hashes12\n",
      "/Users/dbeaglehole/Desktop/Research/instance_optimal_LSH/analysis/hashesLong_c1/hashes13\n",
      "/Users/dbeaglehole/Desktop/Research/instance_optimal_LSH/analysis/hashesLong_c1/hashes14\n",
      "/Users/dbeaglehole/Desktop/Research/instance_optimal_LSH/analysis/hashesLong_c1/hashes15\n",
      "/Users/dbeaglehole/Desktop/Research/instance_optimal_LSH/analysis/hashesLong_c1/hashes16\n",
      "/Users/dbeaglehole/Desktop/Research/instance_optimal_LSH/analysis/hashesLong_c1/hashes17\n",
      "/Users/dbeaglehole/Desktop/Research/instance_optimal_LSH/analysis/hashesLong_c1/hashes18\n",
      "/Users/dbeaglehole/Desktop/Research/instance_optimal_LSH/analysis/hashesLong_c1/hashes19\n",
      "/Users/dbeaglehole/Desktop/Research/instance_optimal_LSH/analysis/hashesLong_c1/hashes20\n",
      "/Users/dbeaglehole/Desktop/Research/instance_optimal_LSH/analysis/hashesLong_c1/hashes21\n",
      "/Users/dbeaglehole/Desktop/Research/instance_optimal_LSH/analysis/hashesLong_c1/hashes22\n",
      "/Users/dbeaglehole/Desktop/Research/instance_optimal_LSH/analysis/hashesLong_c1/hashes23\n",
      "/Users/dbeaglehole/Desktop/Research/instance_optimal_LSH/analysis/hashesLong_c1/hashes24\n",
      "/Users/dbeaglehole/Desktop/Research/instance_optimal_LSH/analysis/hashesLong_c1/hashes25\n",
      "/Users/dbeaglehole/Desktop/Research/instance_optimal_LSH/analysis/hashesLong_c1/hashes26\n",
      "/Users/dbeaglehole/Desktop/Research/instance_optimal_LSH/analysis/hashesLong_c1/hashes27\n",
      "/Users/dbeaglehole/Desktop/Research/instance_optimal_LSH/analysis/hashesLong_c1/hashes28\n",
      "/Users/dbeaglehole/Desktop/Research/instance_optimal_LSH/analysis/hashesLong_c1/hashes29\n",
      "/Users/dbeaglehole/Desktop/Research/instance_optimal_LSH/analysis/hashesLong_c1/hashes30\n",
      "/Users/dbeaglehole/Desktop/Research/instance_optimal_LSH/analysis/hashesLong_c1/hashes31\n",
      "/Users/dbeaglehole/Desktop/Research/instance_optimal_LSH/analysis/hashesLong_c1/hashes32\n",
      "/Users/dbeaglehole/Desktop/Research/instance_optimal_LSH/analysis/hashesLong_c1/hashes33\n",
      "/Users/dbeaglehole/Desktop/Research/instance_optimal_LSH/analysis/hashesLong_c1/hashes34\n",
      "/Users/dbeaglehole/Desktop/Research/instance_optimal_LSH/analysis/hashesLong_c1/hashes35\n",
      "/Users/dbeaglehole/Desktop/Research/instance_optimal_LSH/analysis/hashesLong_c1/hashes36\n",
      "/Users/dbeaglehole/Desktop/Research/instance_optimal_LSH/analysis/hashesLong_c1/hashes37\n",
      "/Users/dbeaglehole/Desktop/Research/instance_optimal_LSH/analysis/hashesLong_c1/hashes38\n",
      "/Users/dbeaglehole/Desktop/Research/instance_optimal_LSH/analysis/hashesLong_c1/hashes39\n",
      "/Users/dbeaglehole/Desktop/Research/instance_optimal_LSH/analysis/hashesLong_c1/hashes40\n",
      "/Users/dbeaglehole/Desktop/Research/instance_optimal_LSH/analysis/hashesLong_c1/hashes41\n",
      "/Users/dbeaglehole/Desktop/Research/instance_optimal_LSH/analysis/hashesLong_c1/hashes42\n",
      "/Users/dbeaglehole/Desktop/Research/instance_optimal_LSH/analysis/hashesLong_c1/hashes43\n",
      "/Users/dbeaglehole/Desktop/Research/instance_optimal_LSH/analysis/hashesLong_c1/hashes44\n",
      "/Users/dbeaglehole/Desktop/Research/instance_optimal_LSH/analysis/hashesLong_c1/hashes45\n",
      "/Users/dbeaglehole/Desktop/Research/instance_optimal_LSH/analysis/hashesLong_c1/hashes46\n",
      "/Users/dbeaglehole/Desktop/Research/instance_optimal_LSH/analysis/hashesLong_c1/hashes47\n",
      "/Users/dbeaglehole/Desktop/Research/instance_optimal_LSH/analysis/hashesLong_c1/hashes48\n",
      "/Users/dbeaglehole/Desktop/Research/instance_optimal_LSH/analysis/hashesLong_c1/hashes49\n",
      "/Users/dbeaglehole/Desktop/Research/instance_optimal_LSH/analysis/hashesLong_c1/hashes50\n",
      "/Users/dbeaglehole/Desktop/Research/instance_optimal_LSH/analysis/hashesLong_c1/hashes51\n",
      "/Users/dbeaglehole/Desktop/Research/instance_optimal_LSH/analysis/hashesLong_c1/hashes52\n",
      "/Users/dbeaglehole/Desktop/Research/instance_optimal_LSH/analysis/hashesLong_c1/hashes53\n",
      "/Users/dbeaglehole/Desktop/Research/instance_optimal_LSH/analysis/hashesLong_c1/hashes54\n",
      "/Users/dbeaglehole/Desktop/Research/instance_optimal_LSH/analysis/hashesLong_c1/hashes55\n",
      "/Users/dbeaglehole/Desktop/Research/instance_optimal_LSH/analysis/hashesLong_c1/hashes56\n",
      "/Users/dbeaglehole/Desktop/Research/instance_optimal_LSH/analysis/hashesLong_c1/hashes57\n",
      "/Users/dbeaglehole/Desktop/Research/instance_optimal_LSH/analysis/hashesLong_c1/hashes58\n",
      "/Users/dbeaglehole/Desktop/Research/instance_optimal_LSH/analysis/hashesLong_c1/hashes59\n",
      "/Users/dbeaglehole/Desktop/Research/instance_optimal_LSH/analysis/hashesLong_c1/hashes60\n",
      "/Users/dbeaglehole/Desktop/Research/instance_optimal_LSH/analysis/hashesLong_c1/hashes61\n",
      "/Users/dbeaglehole/Desktop/Research/instance_optimal_LSH/analysis/hashesLong_c1/hashes62\n",
      "/Users/dbeaglehole/Desktop/Research/instance_optimal_LSH/analysis/hashesLong_c1/hashes63\n",
      "/Users/dbeaglehole/Desktop/Research/instance_optimal_LSH/analysis/hashesLong_c1/hashes64\n",
      "/Users/dbeaglehole/Desktop/Research/instance_optimal_LSH/analysis/hashesLong_c1/hashes65\n",
      "/Users/dbeaglehole/Desktop/Research/instance_optimal_LSH/analysis/hashesLong_c1/hashes66\n",
      "/Users/dbeaglehole/Desktop/Research/instance_optimal_LSH/analysis/hashesLong_c1/hashes67\n",
      "/Users/dbeaglehole/Desktop/Research/instance_optimal_LSH/analysis/hashesLong_c1/hashes68\n",
      "/Users/dbeaglehole/Desktop/Research/instance_optimal_LSH/analysis/hashesLong_c1/hashes69\n",
      "/Users/dbeaglehole/Desktop/Research/instance_optimal_LSH/analysis/hashesLong_c1/hashes70\n",
      "/Users/dbeaglehole/Desktop/Research/instance_optimal_LSH/analysis/hashesLong_c1/hashes71\n",
      "/Users/dbeaglehole/Desktop/Research/instance_optimal_LSH/analysis/hashesLong_c1/hashes72\n",
      "/Users/dbeaglehole/Desktop/Research/instance_optimal_LSH/analysis/hashesLong_c1/hashes73\n",
      "/Users/dbeaglehole/Desktop/Research/instance_optimal_LSH/analysis/hashesLong_c1/hashes74\n",
      "/Users/dbeaglehole/Desktop/Research/instance_optimal_LSH/analysis/hashesLong_c1/hashes75\n",
      "/Users/dbeaglehole/Desktop/Research/instance_optimal_LSH/analysis/hashesLong_c1/hashes76\n",
      "/Users/dbeaglehole/Desktop/Research/instance_optimal_LSH/analysis/hashesLong_c1/hashes77\n",
      "/Users/dbeaglehole/Desktop/Research/instance_optimal_LSH/analysis/hashesLong_c1/hashes78\n",
      "/Users/dbeaglehole/Desktop/Research/instance_optimal_LSH/analysis/hashesLong_c1/hashes79\n",
      "/Users/dbeaglehole/Desktop/Research/instance_optimal_LSH/analysis/hashesLong_c1/hashes80\n",
      "/Users/dbeaglehole/Desktop/Research/instance_optimal_LSH/analysis/hashesLong_c1/hashes81\n",
      "/Users/dbeaglehole/Desktop/Research/instance_optimal_LSH/analysis/hashesLong_c1/hashes82\n",
      "/Users/dbeaglehole/Desktop/Research/instance_optimal_LSH/analysis/hashesLong_c1/hashes83\n",
      "/Users/dbeaglehole/Desktop/Research/instance_optimal_LSH/analysis/hashesLong_c1/hashes84\n",
      "/Users/dbeaglehole/Desktop/Research/instance_optimal_LSH/analysis/hashesLong_c1/hashes85\n",
      "/Users/dbeaglehole/Desktop/Research/instance_optimal_LSH/analysis/hashesLong_c1/hashes86\n",
      "/Users/dbeaglehole/Desktop/Research/instance_optimal_LSH/analysis/hashesLong_c1/hashes87\n",
      "/Users/dbeaglehole/Desktop/Research/instance_optimal_LSH/analysis/hashesLong_c1/hashes88\n",
      "/Users/dbeaglehole/Desktop/Research/instance_optimal_LSH/analysis/hashesLong_c1/hashes89\n",
      "/Users/dbeaglehole/Desktop/Research/instance_optimal_LSH/analysis/hashesLong_c1/hashes90\n",
      "/Users/dbeaglehole/Desktop/Research/instance_optimal_LSH/analysis/hashesLong_c1/hashes91\n",
      "/Users/dbeaglehole/Desktop/Research/instance_optimal_LSH/analysis/hashesLong_c1/hashes92\n",
      "/Users/dbeaglehole/Desktop/Research/instance_optimal_LSH/analysis/hashesLong_c1/hashes93\n"
     ]
    },
    {
     "name": "stdout",
     "output_type": "stream",
     "text": [
      "/Users/dbeaglehole/Desktop/Research/instance_optimal_LSH/analysis/hashesLong_c1/hashes94\n",
      "/Users/dbeaglehole/Desktop/Research/instance_optimal_LSH/analysis/hashesLong_c1/hashes95\n",
      "/Users/dbeaglehole/Desktop/Research/instance_optimal_LSH/analysis/hashesLong_c1/hashes96\n",
      "/Users/dbeaglehole/Desktop/Research/instance_optimal_LSH/analysis/hashesLong_c1/hashes97\n",
      "/Users/dbeaglehole/Desktop/Research/instance_optimal_LSH/analysis/hashesLong_c1/hashes98\n",
      "/Users/dbeaglehole/Desktop/Research/instance_optimal_LSH/analysis/hashesLong_c1/hashes99\n",
      "/Users/dbeaglehole/Desktop/Research/instance_optimal_LSH/analysis/hashesLong_c1/hashes100\n",
      "/Users/dbeaglehole/Desktop/Research/instance_optimal_LSH/analysis/hashesLong_c1/hashes101\n",
      "/Users/dbeaglehole/Desktop/Research/instance_optimal_LSH/analysis/hashesLong_c1/hashes102\n",
      "/Users/dbeaglehole/Desktop/Research/instance_optimal_LSH/analysis/hashesLong_c1/hashes103\n",
      "/Users/dbeaglehole/Desktop/Research/instance_optimal_LSH/analysis/hashesLong_c1/hashes104\n",
      "/Users/dbeaglehole/Desktop/Research/instance_optimal_LSH/analysis/hashesLong_c1/hashes105\n",
      "/Users/dbeaglehole/Desktop/Research/instance_optimal_LSH/analysis/hashesLong_c1/hashes106\n",
      "/Users/dbeaglehole/Desktop/Research/instance_optimal_LSH/analysis/hashesLong_c1/hashes107\n",
      "/Users/dbeaglehole/Desktop/Research/instance_optimal_LSH/analysis/hashesLong_c1/hashes108\n",
      "/Users/dbeaglehole/Desktop/Research/instance_optimal_LSH/analysis/hashesLong_c1/hashes109\n",
      "/Users/dbeaglehole/Desktop/Research/instance_optimal_LSH/analysis/hashesLong_c1/hashes110\n",
      "/Users/dbeaglehole/Desktop/Research/instance_optimal_LSH/analysis/hashesLong_c1/hashes111\n",
      "/Users/dbeaglehole/Desktop/Research/instance_optimal_LSH/analysis/hashesLong_c1/hashes112\n",
      "/Users/dbeaglehole/Desktop/Research/instance_optimal_LSH/analysis/hashesLong_c1/hashes113\n",
      "/Users/dbeaglehole/Desktop/Research/instance_optimal_LSH/analysis/hashesLong_c1/hashes114\n",
      "/Users/dbeaglehole/Desktop/Research/instance_optimal_LSH/analysis/hashesLong_c1/hashes115\n",
      "/Users/dbeaglehole/Desktop/Research/instance_optimal_LSH/analysis/hashesLong_c1/hashes116\n",
      "/Users/dbeaglehole/Desktop/Research/instance_optimal_LSH/analysis/hashesLong_c1/hashes117\n",
      "/Users/dbeaglehole/Desktop/Research/instance_optimal_LSH/analysis/hashesLong_c1/hashes118\n",
      "/Users/dbeaglehole/Desktop/Research/instance_optimal_LSH/analysis/hashesLong_c1/hashes119\n",
      "/Users/dbeaglehole/Desktop/Research/instance_optimal_LSH/analysis/hashesLong_c1/hashes120\n",
      "/Users/dbeaglehole/Desktop/Research/instance_optimal_LSH/analysis/hashesLong_c1/hashes121\n",
      "/Users/dbeaglehole/Desktop/Research/instance_optimal_LSH/analysis/hashesLong_c1/hashes122\n",
      "/Users/dbeaglehole/Desktop/Research/instance_optimal_LSH/analysis/hashesLong_c1/hashes123\n",
      "/Users/dbeaglehole/Desktop/Research/instance_optimal_LSH/analysis/hashesLong_c1/hashes124\n",
      "/Users/dbeaglehole/Desktop/Research/instance_optimal_LSH/analysis/hashesLong_c1/hashes125\n",
      "/Users/dbeaglehole/Desktop/Research/instance_optimal_LSH/analysis/hashesLong_c1/hashes126\n",
      "/Users/dbeaglehole/Desktop/Research/instance_optimal_LSH/analysis/hashesLong_c1/hashes127\n",
      "/Users/dbeaglehole/Desktop/Research/instance_optimal_LSH/analysis/hashesLong_c1/hashes128\n",
      "/Users/dbeaglehole/Desktop/Research/instance_optimal_LSH/analysis/hashesLong_c1/hashes129\n",
      "/Users/dbeaglehole/Desktop/Research/instance_optimal_LSH/analysis/hashesLong_c1/hashes130\n",
      "/Users/dbeaglehole/Desktop/Research/instance_optimal_LSH/analysis/hashesLong_c1/hashes131\n",
      "/Users/dbeaglehole/Desktop/Research/instance_optimal_LSH/analysis/hashesLong_c1/hashes132\n",
      "/Users/dbeaglehole/Desktop/Research/instance_optimal_LSH/analysis/hashesLong_c1/hashes133\n",
      "/Users/dbeaglehole/Desktop/Research/instance_optimal_LSH/analysis/hashesLong_c1/hashes134\n",
      "/Users/dbeaglehole/Desktop/Research/instance_optimal_LSH/analysis/hashesLong_c1/hashes135\n",
      "/Users/dbeaglehole/Desktop/Research/instance_optimal_LSH/analysis/hashesLong_c1/hashes136\n",
      "/Users/dbeaglehole/Desktop/Research/instance_optimal_LSH/analysis/hashesLong_c1/hashes137\n",
      "/Users/dbeaglehole/Desktop/Research/instance_optimal_LSH/analysis/hashesLong_c1/hashes138\n",
      "/Users/dbeaglehole/Desktop/Research/instance_optimal_LSH/analysis/hashesLong_c1/hashes139\n",
      "/Users/dbeaglehole/Desktop/Research/instance_optimal_LSH/analysis/hashesLong_c1/hashes140\n",
      "/Users/dbeaglehole/Desktop/Research/instance_optimal_LSH/analysis/hashesLong_c1/hashes141\n",
      "/Users/dbeaglehole/Desktop/Research/instance_optimal_LSH/analysis/hashesLong_c1/hashes142\n",
      "/Users/dbeaglehole/Desktop/Research/instance_optimal_LSH/analysis/hashesLong_c1/hashes143\n",
      "/Users/dbeaglehole/Desktop/Research/instance_optimal_LSH/analysis/hashesLong_c1/hashes144\n",
      "/Users/dbeaglehole/Desktop/Research/instance_optimal_LSH/analysis/hashesLong_c1/hashes145\n",
      "/Users/dbeaglehole/Desktop/Research/instance_optimal_LSH/analysis/hashesLong_c1/hashes146\n",
      "/Users/dbeaglehole/Desktop/Research/instance_optimal_LSH/analysis/hashesLong_c1/hashes147\n",
      "/Users/dbeaglehole/Desktop/Research/instance_optimal_LSH/analysis/hashesLong_c1/hashes148\n",
      "/Users/dbeaglehole/Desktop/Research/instance_optimal_LSH/analysis/hashesLong_c1/hashes149\n",
      "/Users/dbeaglehole/Desktop/Research/instance_optimal_LSH/analysis/hashesLong_c1/hashes150\n",
      "/Users/dbeaglehole/Desktop/Research/instance_optimal_LSH/analysis/hashesLong_c1/hashes151\n",
      "/Users/dbeaglehole/Desktop/Research/instance_optimal_LSH/analysis/hashesLong_c1/hashes152\n",
      "/Users/dbeaglehole/Desktop/Research/instance_optimal_LSH/analysis/hashesLong_c1/hashes153\n",
      "/Users/dbeaglehole/Desktop/Research/instance_optimal_LSH/analysis/hashesLong_c1/hashes154\n",
      "/Users/dbeaglehole/Desktop/Research/instance_optimal_LSH/analysis/hashesLong_c1/hashes155\n",
      "/Users/dbeaglehole/Desktop/Research/instance_optimal_LSH/analysis/hashesLong_c1/hashes156\n",
      "/Users/dbeaglehole/Desktop/Research/instance_optimal_LSH/analysis/hashesLong_c1/hashes157\n",
      "/Users/dbeaglehole/Desktop/Research/instance_optimal_LSH/analysis/hashesLong_c1/hashes158\n",
      "/Users/dbeaglehole/Desktop/Research/instance_optimal_LSH/analysis/hashesLong_c1/hashes159\n",
      "/Users/dbeaglehole/Desktop/Research/instance_optimal_LSH/analysis/hashesLong_c1/hashes160\n",
      "/Users/dbeaglehole/Desktop/Research/instance_optimal_LSH/analysis/hashesLong_c1/hashes161\n",
      "/Users/dbeaglehole/Desktop/Research/instance_optimal_LSH/analysis/hashesLong_c1/hashes162\n",
      "/Users/dbeaglehole/Desktop/Research/instance_optimal_LSH/analysis/hashesLong_c1/hashes163\n",
      "/Users/dbeaglehole/Desktop/Research/instance_optimal_LSH/analysis/hashesLong_c1/hashes164\n",
      "/Users/dbeaglehole/Desktop/Research/instance_optimal_LSH/analysis/hashesLong_c1/hashes165\n",
      "/Users/dbeaglehole/Desktop/Research/instance_optimal_LSH/analysis/hashesLong_c1/hashes166\n",
      "/Users/dbeaglehole/Desktop/Research/instance_optimal_LSH/analysis/hashesLong_c1/hashes167\n",
      "/Users/dbeaglehole/Desktop/Research/instance_optimal_LSH/analysis/hashesLong_c1/hashes168\n",
      "/Users/dbeaglehole/Desktop/Research/instance_optimal_LSH/analysis/hashesLong_c1/hashes169\n",
      "/Users/dbeaglehole/Desktop/Research/instance_optimal_LSH/analysis/hashesLong_c1/hashes170\n",
      "/Users/dbeaglehole/Desktop/Research/instance_optimal_LSH/analysis/hashesLong_c1/hashes171\n",
      "/Users/dbeaglehole/Desktop/Research/instance_optimal_LSH/analysis/hashesLong_c1/hashes172\n",
      "/Users/dbeaglehole/Desktop/Research/instance_optimal_LSH/analysis/hashesLong_c1/hashes173\n",
      "/Users/dbeaglehole/Desktop/Research/instance_optimal_LSH/analysis/hashesLong_c1/hashes174\n",
      "/Users/dbeaglehole/Desktop/Research/instance_optimal_LSH/analysis/hashesLong_c1/hashes175\n",
      "/Users/dbeaglehole/Desktop/Research/instance_optimal_LSH/analysis/hashesLong_c1/hashes176\n",
      "/Users/dbeaglehole/Desktop/Research/instance_optimal_LSH/analysis/hashesLong_c1/hashes177\n",
      "/Users/dbeaglehole/Desktop/Research/instance_optimal_LSH/analysis/hashesLong_c1/hashes178\n",
      "/Users/dbeaglehole/Desktop/Research/instance_optimal_LSH/analysis/hashesLong_c1/hashes179\n",
      "/Users/dbeaglehole/Desktop/Research/instance_optimal_LSH/analysis/hashesLong_c1/hashes180\n",
      "/Users/dbeaglehole/Desktop/Research/instance_optimal_LSH/analysis/hashesLong_c1/hashes181\n",
      "/Users/dbeaglehole/Desktop/Research/instance_optimal_LSH/analysis/hashesLong_c1/hashes182\n",
      "/Users/dbeaglehole/Desktop/Research/instance_optimal_LSH/analysis/hashesLong_c1/hashes183\n",
      "/Users/dbeaglehole/Desktop/Research/instance_optimal_LSH/analysis/hashesLong_c1/hashes184\n",
      "/Users/dbeaglehole/Desktop/Research/instance_optimal_LSH/analysis/hashesLong_c1/hashes185\n",
      "/Users/dbeaglehole/Desktop/Research/instance_optimal_LSH/analysis/hashesLong_c1/hashes186\n",
      "/Users/dbeaglehole/Desktop/Research/instance_optimal_LSH/analysis/hashesLong_c1/hashes187\n",
      "/Users/dbeaglehole/Desktop/Research/instance_optimal_LSH/analysis/hashesLong_c1/hashes188\n",
      "/Users/dbeaglehole/Desktop/Research/instance_optimal_LSH/analysis/hashesLong_c1/hashes189\n",
      "/Users/dbeaglehole/Desktop/Research/instance_optimal_LSH/analysis/hashesLong_c1/hashes190\n",
      "/Users/dbeaglehole/Desktop/Research/instance_optimal_LSH/analysis/hashesLong_c1/hashes191\n",
      "/Users/dbeaglehole/Desktop/Research/instance_optimal_LSH/analysis/hashesLong_c1/hashes192\n",
      "/Users/dbeaglehole/Desktop/Research/instance_optimal_LSH/analysis/hashesLong_c1/hashes193\n",
      "/Users/dbeaglehole/Desktop/Research/instance_optimal_LSH/analysis/hashesLong_c1/hashes194\n",
      "/Users/dbeaglehole/Desktop/Research/instance_optimal_LSH/analysis/hashesLong_c1/hashes195\n",
      "/Users/dbeaglehole/Desktop/Research/instance_optimal_LSH/analysis/hashesLong_c1/hashes196\n",
      "/Users/dbeaglehole/Desktop/Research/instance_optimal_LSH/analysis/hashesLong_c1/hashes197\n",
      "/Users/dbeaglehole/Desktop/Research/instance_optimal_LSH/analysis/hashesLong_c1/hashes198\n",
      "/Users/dbeaglehole/Desktop/Research/instance_optimal_LSH/analysis/hashesLong_c1/hashes199\n",
      "/Users/dbeaglehole/Desktop/Research/instance_optimal_LSH/analysis/hashesLong_c1/hashes200\n",
      "/Users/dbeaglehole/Desktop/Research/instance_optimal_LSH/analysis/hashesLong_c1/hashes201\n",
      "/Users/dbeaglehole/Desktop/Research/instance_optimal_LSH/analysis/hashesLong_c1/hashes202\n",
      "/Users/dbeaglehole/Desktop/Research/instance_optimal_LSH/analysis/hashesLong_c1/hashes203\n",
      "/Users/dbeaglehole/Desktop/Research/instance_optimal_LSH/analysis/hashesLong_c1/hashes204\n",
      "/Users/dbeaglehole/Desktop/Research/instance_optimal_LSH/analysis/hashesLong_c1/hashes205\n",
      "/Users/dbeaglehole/Desktop/Research/instance_optimal_LSH/analysis/hashesLong_c1/hashes206\n",
      "/Users/dbeaglehole/Desktop/Research/instance_optimal_LSH/analysis/hashesLong_c1/hashes207\n",
      "/Users/dbeaglehole/Desktop/Research/instance_optimal_LSH/analysis/hashesLong_c1/hashes208\n",
      "/Users/dbeaglehole/Desktop/Research/instance_optimal_LSH/analysis/hashesLong_c1/hashes209\n",
      "/Users/dbeaglehole/Desktop/Research/instance_optimal_LSH/analysis/hashesLong_c1/hashes210\n",
      "/Users/dbeaglehole/Desktop/Research/instance_optimal_LSH/analysis/hashesLong_c1/hashes211\n",
      "/Users/dbeaglehole/Desktop/Research/instance_optimal_LSH/analysis/hashesLong_c1/hashes212\n",
      "/Users/dbeaglehole/Desktop/Research/instance_optimal_LSH/analysis/hashesLong_c1/hashes213\n",
      "/Users/dbeaglehole/Desktop/Research/instance_optimal_LSH/analysis/hashesLong_c1/hashes214\n",
      "/Users/dbeaglehole/Desktop/Research/instance_optimal_LSH/analysis/hashesLong_c1/hashes215\n",
      "/Users/dbeaglehole/Desktop/Research/instance_optimal_LSH/analysis/hashesLong_c1/hashes216\n",
      "/Users/dbeaglehole/Desktop/Research/instance_optimal_LSH/analysis/hashesLong_c1/hashes217\n",
      "/Users/dbeaglehole/Desktop/Research/instance_optimal_LSH/analysis/hashesLong_c1/hashes218\n",
      "/Users/dbeaglehole/Desktop/Research/instance_optimal_LSH/analysis/hashesLong_c1/hashes219\n",
      "/Users/dbeaglehole/Desktop/Research/instance_optimal_LSH/analysis/hashesLong_c1/hashes220\n",
      "/Users/dbeaglehole/Desktop/Research/instance_optimal_LSH/analysis/hashesLong_c1/hashes221\n",
      "/Users/dbeaglehole/Desktop/Research/instance_optimal_LSH/analysis/hashesLong_c1/hashes222\n",
      "/Users/dbeaglehole/Desktop/Research/instance_optimal_LSH/analysis/hashesLong_c1/hashes223\n",
      "/Users/dbeaglehole/Desktop/Research/instance_optimal_LSH/analysis/hashesLong_c1/hashes224\n",
      "/Users/dbeaglehole/Desktop/Research/instance_optimal_LSH/analysis/hashesLong_c1/hashes225\n",
      "/Users/dbeaglehole/Desktop/Research/instance_optimal_LSH/analysis/hashesLong_c1/hashes226\n",
      "/Users/dbeaglehole/Desktop/Research/instance_optimal_LSH/analysis/hashesLong_c1/hashes227\n",
      "/Users/dbeaglehole/Desktop/Research/instance_optimal_LSH/analysis/hashesLong_c1/hashes228\n",
      "/Users/dbeaglehole/Desktop/Research/instance_optimal_LSH/analysis/hashesLong_c1/hashes229\n",
      "/Users/dbeaglehole/Desktop/Research/instance_optimal_LSH/analysis/hashesLong_c1/hashes230\n",
      "/Users/dbeaglehole/Desktop/Research/instance_optimal_LSH/analysis/hashesLong_c1/hashes231\n",
      "/Users/dbeaglehole/Desktop/Research/instance_optimal_LSH/analysis/hashesLong_c1/hashes232\n",
      "/Users/dbeaglehole/Desktop/Research/instance_optimal_LSH/analysis/hashesLong_c1/hashes233\n",
      "/Users/dbeaglehole/Desktop/Research/instance_optimal_LSH/analysis/hashesLong_c1/hashes234\n",
      "/Users/dbeaglehole/Desktop/Research/instance_optimal_LSH/analysis/hashesLong_c1/hashes235\n",
      "/Users/dbeaglehole/Desktop/Research/instance_optimal_LSH/analysis/hashesLong_c1/hashes236\n",
      "/Users/dbeaglehole/Desktop/Research/instance_optimal_LSH/analysis/hashesLong_c1/hashes237\n",
      "/Users/dbeaglehole/Desktop/Research/instance_optimal_LSH/analysis/hashesLong_c1/hashes238\n",
      "/Users/dbeaglehole/Desktop/Research/instance_optimal_LSH/analysis/hashesLong_c1/hashes239\n",
      "/Users/dbeaglehole/Desktop/Research/instance_optimal_LSH/analysis/hashesLong_c1/hashes240\n",
      "/Users/dbeaglehole/Desktop/Research/instance_optimal_LSH/analysis/hashesLong_c1/hashes241\n",
      "/Users/dbeaglehole/Desktop/Research/instance_optimal_LSH/analysis/hashesLong_c1/hashes242\n",
      "/Users/dbeaglehole/Desktop/Research/instance_optimal_LSH/analysis/hashesLong_c1/hashes243\n",
      "/Users/dbeaglehole/Desktop/Research/instance_optimal_LSH/analysis/hashesLong_c1/hashes244\n",
      "/Users/dbeaglehole/Desktop/Research/instance_optimal_LSH/analysis/hashesLong_c1/hashes245\n",
      "/Users/dbeaglehole/Desktop/Research/instance_optimal_LSH/analysis/hashesLong_c1/hashes246\n",
      "/Users/dbeaglehole/Desktop/Research/instance_optimal_LSH/analysis/hashesLong_c1/hashes247\n",
      "/Users/dbeaglehole/Desktop/Research/instance_optimal_LSH/analysis/hashesLong_c1/hashes248\n",
      "/Users/dbeaglehole/Desktop/Research/instance_optimal_LSH/analysis/hashesLong_c1/hashes249\n",
      "/Users/dbeaglehole/Desktop/Research/instance_optimal_LSH/analysis/hashesLong_c1o2/\n",
      "/Users/dbeaglehole/Desktop/Research/instance_optimal_LSH/analysis/hashesLong_c1o2/hashes0\n",
      "/Users/dbeaglehole/Desktop/Research/instance_optimal_LSH/analysis/hashesLong_c1o2/hashes1\n",
      "/Users/dbeaglehole/Desktop/Research/instance_optimal_LSH/analysis/hashesLong_c1o2/hashes2\n",
      "/Users/dbeaglehole/Desktop/Research/instance_optimal_LSH/analysis/hashesLong_c1o2/hashes3\n",
      "/Users/dbeaglehole/Desktop/Research/instance_optimal_LSH/analysis/hashesLong_c1o2/hashes4\n",
      "/Users/dbeaglehole/Desktop/Research/instance_optimal_LSH/analysis/hashesLong_c1o2/hashes5\n",
      "/Users/dbeaglehole/Desktop/Research/instance_optimal_LSH/analysis/hashesLong_c1o2/hashes6\n",
      "/Users/dbeaglehole/Desktop/Research/instance_optimal_LSH/analysis/hashesLong_c1o2/hashes7\n",
      "/Users/dbeaglehole/Desktop/Research/instance_optimal_LSH/analysis/hashesLong_c1o2/hashes8\n",
      "/Users/dbeaglehole/Desktop/Research/instance_optimal_LSH/analysis/hashesLong_c1o2/hashes9\n"
     ]
    },
    {
     "name": "stdout",
     "output_type": "stream",
     "text": [
      "/Users/dbeaglehole/Desktop/Research/instance_optimal_LSH/analysis/hashesLong_c1o2/hashes10\n",
      "/Users/dbeaglehole/Desktop/Research/instance_optimal_LSH/analysis/hashesLong_c1o2/hashes11\n",
      "/Users/dbeaglehole/Desktop/Research/instance_optimal_LSH/analysis/hashesLong_c1o2/hashes12\n",
      "/Users/dbeaglehole/Desktop/Research/instance_optimal_LSH/analysis/hashesLong_c1o2/hashes13\n",
      "/Users/dbeaglehole/Desktop/Research/instance_optimal_LSH/analysis/hashesLong_c1o2/hashes14\n",
      "/Users/dbeaglehole/Desktop/Research/instance_optimal_LSH/analysis/hashesLong_c1o2/hashes15\n",
      "/Users/dbeaglehole/Desktop/Research/instance_optimal_LSH/analysis/hashesLong_c1o2/hashes16\n",
      "/Users/dbeaglehole/Desktop/Research/instance_optimal_LSH/analysis/hashesLong_c1o2/hashes17\n",
      "/Users/dbeaglehole/Desktop/Research/instance_optimal_LSH/analysis/hashesLong_c1o2/hashes18\n",
      "/Users/dbeaglehole/Desktop/Research/instance_optimal_LSH/analysis/hashesLong_c1o2/hashes19\n",
      "/Users/dbeaglehole/Desktop/Research/instance_optimal_LSH/analysis/hashesLong_c1o2/hashes20\n",
      "/Users/dbeaglehole/Desktop/Research/instance_optimal_LSH/analysis/hashesLong_c1o2/hashes21\n",
      "/Users/dbeaglehole/Desktop/Research/instance_optimal_LSH/analysis/hashesLong_c1o2/hashes22\n",
      "/Users/dbeaglehole/Desktop/Research/instance_optimal_LSH/analysis/hashesLong_c1o2/hashes23\n",
      "/Users/dbeaglehole/Desktop/Research/instance_optimal_LSH/analysis/hashesLong_c1o2/hashes24\n",
      "/Users/dbeaglehole/Desktop/Research/instance_optimal_LSH/analysis/hashesLong_c1o2/hashes25\n",
      "/Users/dbeaglehole/Desktop/Research/instance_optimal_LSH/analysis/hashesLong_c1o2/hashes26\n",
      "/Users/dbeaglehole/Desktop/Research/instance_optimal_LSH/analysis/hashesLong_c1o2/hashes27\n",
      "/Users/dbeaglehole/Desktop/Research/instance_optimal_LSH/analysis/hashesLong_c1o2/hashes28\n",
      "/Users/dbeaglehole/Desktop/Research/instance_optimal_LSH/analysis/hashesLong_c1o2/hashes29\n",
      "/Users/dbeaglehole/Desktop/Research/instance_optimal_LSH/analysis/hashesLong_c1o2/hashes30\n",
      "/Users/dbeaglehole/Desktop/Research/instance_optimal_LSH/analysis/hashesLong_c1o2/hashes31\n",
      "/Users/dbeaglehole/Desktop/Research/instance_optimal_LSH/analysis/hashesLong_c1o2/hashes32\n",
      "/Users/dbeaglehole/Desktop/Research/instance_optimal_LSH/analysis/hashesLong_c1o2/hashes33\n",
      "/Users/dbeaglehole/Desktop/Research/instance_optimal_LSH/analysis/hashesLong_c1o2/hashes34\n",
      "/Users/dbeaglehole/Desktop/Research/instance_optimal_LSH/analysis/hashesLong_c1o2/hashes35\n",
      "/Users/dbeaglehole/Desktop/Research/instance_optimal_LSH/analysis/hashesLong_c1o2/hashes36\n",
      "/Users/dbeaglehole/Desktop/Research/instance_optimal_LSH/analysis/hashesLong_c1o2/hashes37\n",
      "/Users/dbeaglehole/Desktop/Research/instance_optimal_LSH/analysis/hashesLong_c1o2/hashes38\n",
      "/Users/dbeaglehole/Desktop/Research/instance_optimal_LSH/analysis/hashesLong_c1o2/hashes39\n",
      "/Users/dbeaglehole/Desktop/Research/instance_optimal_LSH/analysis/hashesLong_c1o2/hashes40\n",
      "/Users/dbeaglehole/Desktop/Research/instance_optimal_LSH/analysis/hashesLong_c1o2/hashes41\n",
      "/Users/dbeaglehole/Desktop/Research/instance_optimal_LSH/analysis/hashesLong_c1o2/hashes42\n",
      "/Users/dbeaglehole/Desktop/Research/instance_optimal_LSH/analysis/hashesLong_c1o2/hashes43\n",
      "/Users/dbeaglehole/Desktop/Research/instance_optimal_LSH/analysis/hashesLong_c1o2/hashes44\n",
      "/Users/dbeaglehole/Desktop/Research/instance_optimal_LSH/analysis/hashesLong_c1o2/hashes45\n",
      "/Users/dbeaglehole/Desktop/Research/instance_optimal_LSH/analysis/hashesLong_c1o2/hashes46\n",
      "/Users/dbeaglehole/Desktop/Research/instance_optimal_LSH/analysis/hashesLong_c1o2/hashes47\n",
      "/Users/dbeaglehole/Desktop/Research/instance_optimal_LSH/analysis/hashesLong_c1o2/hashes48\n",
      "/Users/dbeaglehole/Desktop/Research/instance_optimal_LSH/analysis/hashesLong_c1o2/hashes49\n",
      "/Users/dbeaglehole/Desktop/Research/instance_optimal_LSH/analysis/hashesLong_c1o2/hashes50\n",
      "/Users/dbeaglehole/Desktop/Research/instance_optimal_LSH/analysis/hashesLong_c1o2/hashes51\n",
      "/Users/dbeaglehole/Desktop/Research/instance_optimal_LSH/analysis/hashesLong_c1o2/hashes52\n",
      "/Users/dbeaglehole/Desktop/Research/instance_optimal_LSH/analysis/hashesLong_c1o2/hashes53\n",
      "/Users/dbeaglehole/Desktop/Research/instance_optimal_LSH/analysis/hashesLong_c1o2/hashes54\n",
      "/Users/dbeaglehole/Desktop/Research/instance_optimal_LSH/analysis/hashesLong_c1o2/hashes55\n",
      "/Users/dbeaglehole/Desktop/Research/instance_optimal_LSH/analysis/hashesLong_c1o2/hashes56\n",
      "/Users/dbeaglehole/Desktop/Research/instance_optimal_LSH/analysis/hashesLong_c1o2/hashes57\n",
      "/Users/dbeaglehole/Desktop/Research/instance_optimal_LSH/analysis/hashesLong_c1o2/hashes58\n",
      "/Users/dbeaglehole/Desktop/Research/instance_optimal_LSH/analysis/hashesLong_c1o2/hashes59\n",
      "/Users/dbeaglehole/Desktop/Research/instance_optimal_LSH/analysis/hashesLong_c1o2/hashes60\n",
      "/Users/dbeaglehole/Desktop/Research/instance_optimal_LSH/analysis/hashesLong_c1o2/hashes61\n",
      "/Users/dbeaglehole/Desktop/Research/instance_optimal_LSH/analysis/hashesLong_c1o2/hashes62\n",
      "/Users/dbeaglehole/Desktop/Research/instance_optimal_LSH/analysis/hashesLong_c1o2/hashes63\n",
      "/Users/dbeaglehole/Desktop/Research/instance_optimal_LSH/analysis/hashesLong_c1o2/hashes64\n",
      "/Users/dbeaglehole/Desktop/Research/instance_optimal_LSH/analysis/hashesLong_c1o2/hashes65\n",
      "/Users/dbeaglehole/Desktop/Research/instance_optimal_LSH/analysis/hashesLong_c1o2/hashes66\n",
      "/Users/dbeaglehole/Desktop/Research/instance_optimal_LSH/analysis/hashesLong_c1o2/hashes67\n",
      "/Users/dbeaglehole/Desktop/Research/instance_optimal_LSH/analysis/hashesLong_c1o2/hashes68\n",
      "/Users/dbeaglehole/Desktop/Research/instance_optimal_LSH/analysis/hashesLong_c1o2/hashes69\n",
      "/Users/dbeaglehole/Desktop/Research/instance_optimal_LSH/analysis/hashesLong_c1o2/hashes70\n",
      "/Users/dbeaglehole/Desktop/Research/instance_optimal_LSH/analysis/hashesLong_c1o2/hashes71\n",
      "/Users/dbeaglehole/Desktop/Research/instance_optimal_LSH/analysis/hashesLong_c1o2/hashes72\n",
      "/Users/dbeaglehole/Desktop/Research/instance_optimal_LSH/analysis/hashesLong_c1o2/hashes73\n",
      "/Users/dbeaglehole/Desktop/Research/instance_optimal_LSH/analysis/hashesLong_c1o2/hashes74\n",
      "/Users/dbeaglehole/Desktop/Research/instance_optimal_LSH/analysis/hashesLong_c1o2/hashes75\n",
      "/Users/dbeaglehole/Desktop/Research/instance_optimal_LSH/analysis/hashesLong_c1o2/hashes76\n",
      "/Users/dbeaglehole/Desktop/Research/instance_optimal_LSH/analysis/hashesLong_c1o2/hashes77\n",
      "/Users/dbeaglehole/Desktop/Research/instance_optimal_LSH/analysis/hashesLong_c1o2/hashes78\n",
      "/Users/dbeaglehole/Desktop/Research/instance_optimal_LSH/analysis/hashesLong_c1o2/hashes79\n",
      "/Users/dbeaglehole/Desktop/Research/instance_optimal_LSH/analysis/hashesLong_c1o2/hashes80\n",
      "/Users/dbeaglehole/Desktop/Research/instance_optimal_LSH/analysis/hashesLong_c1o2/hashes81\n",
      "/Users/dbeaglehole/Desktop/Research/instance_optimal_LSH/analysis/hashesLong_c1o2/hashes82\n",
      "/Users/dbeaglehole/Desktop/Research/instance_optimal_LSH/analysis/hashesLong_c1o2/hashes83\n",
      "/Users/dbeaglehole/Desktop/Research/instance_optimal_LSH/analysis/hashesLong_c1o2/hashes84\n",
      "/Users/dbeaglehole/Desktop/Research/instance_optimal_LSH/analysis/hashesLong_c1o2/hashes85\n",
      "/Users/dbeaglehole/Desktop/Research/instance_optimal_LSH/analysis/hashesLong_c1o2/hashes86\n",
      "/Users/dbeaglehole/Desktop/Research/instance_optimal_LSH/analysis/hashesLong_c1o2/hashes87\n",
      "/Users/dbeaglehole/Desktop/Research/instance_optimal_LSH/analysis/hashesLong_c1o2/hashes88\n",
      "/Users/dbeaglehole/Desktop/Research/instance_optimal_LSH/analysis/hashesLong_c1o2/hashes89\n",
      "/Users/dbeaglehole/Desktop/Research/instance_optimal_LSH/analysis/hashesLong_c1o2/hashes90\n",
      "/Users/dbeaglehole/Desktop/Research/instance_optimal_LSH/analysis/hashesLong_c1o2/hashes91\n",
      "/Users/dbeaglehole/Desktop/Research/instance_optimal_LSH/analysis/hashesLong_c1o2/hashes92\n",
      "/Users/dbeaglehole/Desktop/Research/instance_optimal_LSH/analysis/hashesLong_c1o2/hashes93\n",
      "/Users/dbeaglehole/Desktop/Research/instance_optimal_LSH/analysis/hashesLong_c1o2/hashes94\n",
      "/Users/dbeaglehole/Desktop/Research/instance_optimal_LSH/analysis/hashesLong_c1o2/hashes95\n",
      "/Users/dbeaglehole/Desktop/Research/instance_optimal_LSH/analysis/hashesLong_c1o2/hashes96\n",
      "/Users/dbeaglehole/Desktop/Research/instance_optimal_LSH/analysis/hashesLong_c1o2/hashes97\n",
      "/Users/dbeaglehole/Desktop/Research/instance_optimal_LSH/analysis/hashesLong_c1o2/hashes98\n",
      "/Users/dbeaglehole/Desktop/Research/instance_optimal_LSH/analysis/hashesLong_c1o2/hashes99\n",
      "/Users/dbeaglehole/Desktop/Research/instance_optimal_LSH/analysis/hashesLong_c1o2/hashes100\n",
      "/Users/dbeaglehole/Desktop/Research/instance_optimal_LSH/analysis/hashesLong_c1o2/hashes101\n",
      "/Users/dbeaglehole/Desktop/Research/instance_optimal_LSH/analysis/hashesLong_c1o2/hashes102\n",
      "/Users/dbeaglehole/Desktop/Research/instance_optimal_LSH/analysis/hashesLong_c1o2/hashes103\n",
      "/Users/dbeaglehole/Desktop/Research/instance_optimal_LSH/analysis/hashesLong_c1o2/hashes104\n",
      "/Users/dbeaglehole/Desktop/Research/instance_optimal_LSH/analysis/hashesLong_c1o2/hashes105\n",
      "/Users/dbeaglehole/Desktop/Research/instance_optimal_LSH/analysis/hashesLong_c1o2/hashes106\n",
      "/Users/dbeaglehole/Desktop/Research/instance_optimal_LSH/analysis/hashesLong_c1o2/hashes107\n",
      "/Users/dbeaglehole/Desktop/Research/instance_optimal_LSH/analysis/hashesLong_c1o2/hashes108\n",
      "/Users/dbeaglehole/Desktop/Research/instance_optimal_LSH/analysis/hashesLong_c1o2/hashes109\n",
      "/Users/dbeaglehole/Desktop/Research/instance_optimal_LSH/analysis/hashesLong_c1o2/hashes110\n"
     ]
    },
    {
     "name": "stdout",
     "output_type": "stream",
     "text": [
      "/Users/dbeaglehole/Desktop/Research/instance_optimal_LSH/analysis/hashesLong_c1o2/hashes111\n",
      "/Users/dbeaglehole/Desktop/Research/instance_optimal_LSH/analysis/hashesLong_c1o2/hashes112\n",
      "/Users/dbeaglehole/Desktop/Research/instance_optimal_LSH/analysis/hashesLong_c1o2/hashes113\n",
      "/Users/dbeaglehole/Desktop/Research/instance_optimal_LSH/analysis/hashesLong_c1o2/hashes114\n",
      "/Users/dbeaglehole/Desktop/Research/instance_optimal_LSH/analysis/hashesLong_c1o2/hashes115\n",
      "/Users/dbeaglehole/Desktop/Research/instance_optimal_LSH/analysis/hashesLong_c1o2/hashes116\n",
      "/Users/dbeaglehole/Desktop/Research/instance_optimal_LSH/analysis/hashesLong_c1o2/hashes117\n",
      "/Users/dbeaglehole/Desktop/Research/instance_optimal_LSH/analysis/hashesLong_c1o2/hashes118\n",
      "/Users/dbeaglehole/Desktop/Research/instance_optimal_LSH/analysis/hashesLong_c1o2/hashes119\n",
      "/Users/dbeaglehole/Desktop/Research/instance_optimal_LSH/analysis/hashesLong_c1o2/hashes120\n",
      "/Users/dbeaglehole/Desktop/Research/instance_optimal_LSH/analysis/hashesLong_c1o2/hashes121\n",
      "/Users/dbeaglehole/Desktop/Research/instance_optimal_LSH/analysis/hashesLong_c1o2/hashes122\n",
      "/Users/dbeaglehole/Desktop/Research/instance_optimal_LSH/analysis/hashesLong_c1o2/hashes123\n",
      "/Users/dbeaglehole/Desktop/Research/instance_optimal_LSH/analysis/hashesLong_c1o2/hashes124\n",
      "/Users/dbeaglehole/Desktop/Research/instance_optimal_LSH/analysis/hashesLong_c1o2/hashes125\n",
      "/Users/dbeaglehole/Desktop/Research/instance_optimal_LSH/analysis/hashesLong_c1o2/hashes126\n",
      "/Users/dbeaglehole/Desktop/Research/instance_optimal_LSH/analysis/hashesLong_c1o2/hashes127\n",
      "/Users/dbeaglehole/Desktop/Research/instance_optimal_LSH/analysis/hashesLong_c1o2/hashes128\n",
      "/Users/dbeaglehole/Desktop/Research/instance_optimal_LSH/analysis/hashesLong_c1o2/hashes129\n",
      "/Users/dbeaglehole/Desktop/Research/instance_optimal_LSH/analysis/hashesLong_c1o2/hashes130\n",
      "/Users/dbeaglehole/Desktop/Research/instance_optimal_LSH/analysis/hashesLong_c1o2/hashes131\n",
      "/Users/dbeaglehole/Desktop/Research/instance_optimal_LSH/analysis/hashesLong_c1o2/hashes132\n",
      "/Users/dbeaglehole/Desktop/Research/instance_optimal_LSH/analysis/hashesLong_c1o2/hashes133\n",
      "/Users/dbeaglehole/Desktop/Research/instance_optimal_LSH/analysis/hashesLong_c1o2/hashes134\n",
      "/Users/dbeaglehole/Desktop/Research/instance_optimal_LSH/analysis/hashesLong_c1o2/hashes135\n",
      "/Users/dbeaglehole/Desktop/Research/instance_optimal_LSH/analysis/hashesLong_c1o2/hashes136\n",
      "/Users/dbeaglehole/Desktop/Research/instance_optimal_LSH/analysis/hashesLong_c1o2/hashes137\n",
      "/Users/dbeaglehole/Desktop/Research/instance_optimal_LSH/analysis/hashesLong_c1o2/hashes138\n",
      "/Users/dbeaglehole/Desktop/Research/instance_optimal_LSH/analysis/hashesLong_c1o2/hashes139\n",
      "/Users/dbeaglehole/Desktop/Research/instance_optimal_LSH/analysis/hashesLong_c1o2/hashes140\n",
      "/Users/dbeaglehole/Desktop/Research/instance_optimal_LSH/analysis/hashesLong_c1o2/hashes141\n",
      "/Users/dbeaglehole/Desktop/Research/instance_optimal_LSH/analysis/hashesLong_c1o2/hashes142\n",
      "/Users/dbeaglehole/Desktop/Research/instance_optimal_LSH/analysis/hashesLong_c1o2/hashes143\n",
      "/Users/dbeaglehole/Desktop/Research/instance_optimal_LSH/analysis/hashesLong_c1o2/hashes144\n",
      "/Users/dbeaglehole/Desktop/Research/instance_optimal_LSH/analysis/hashesLong_c1o2/hashes145\n",
      "/Users/dbeaglehole/Desktop/Research/instance_optimal_LSH/analysis/hashesLong_c1o2/hashes146\n",
      "/Users/dbeaglehole/Desktop/Research/instance_optimal_LSH/analysis/hashesLong_c1o2/hashes147\n",
      "/Users/dbeaglehole/Desktop/Research/instance_optimal_LSH/analysis/hashesLong_c1o2/hashes148\n",
      "/Users/dbeaglehole/Desktop/Research/instance_optimal_LSH/analysis/hashesLong_c1o2/hashes149\n",
      "/Users/dbeaglehole/Desktop/Research/instance_optimal_LSH/analysis/hashesLong_c1o2/hashes150\n",
      "/Users/dbeaglehole/Desktop/Research/instance_optimal_LSH/analysis/hashesLong_c1o2/hashes151\n",
      "/Users/dbeaglehole/Desktop/Research/instance_optimal_LSH/analysis/hashesLong_c1o2/hashes152\n",
      "/Users/dbeaglehole/Desktop/Research/instance_optimal_LSH/analysis/hashesLong_c1o2/hashes153\n",
      "/Users/dbeaglehole/Desktop/Research/instance_optimal_LSH/analysis/hashesLong_c1o2/hashes154\n",
      "/Users/dbeaglehole/Desktop/Research/instance_optimal_LSH/analysis/hashesLong_c1o2/hashes155\n",
      "/Users/dbeaglehole/Desktop/Research/instance_optimal_LSH/analysis/hashesLong_c1o2/hashes156\n",
      "/Users/dbeaglehole/Desktop/Research/instance_optimal_LSH/analysis/hashesLong_c1o2/hashes157\n",
      "/Users/dbeaglehole/Desktop/Research/instance_optimal_LSH/analysis/hashesLong_c1o2/hashes158\n",
      "/Users/dbeaglehole/Desktop/Research/instance_optimal_LSH/analysis/hashesLong_c1o2/hashes159\n",
      "/Users/dbeaglehole/Desktop/Research/instance_optimal_LSH/analysis/hashesLong_c1o2/hashes160\n",
      "/Users/dbeaglehole/Desktop/Research/instance_optimal_LSH/analysis/hashesLong_c1o2/hashes161\n",
      "/Users/dbeaglehole/Desktop/Research/instance_optimal_LSH/analysis/hashesLong_c1o2/hashes162\n",
      "/Users/dbeaglehole/Desktop/Research/instance_optimal_LSH/analysis/hashesLong_c1o2/hashes163\n",
      "/Users/dbeaglehole/Desktop/Research/instance_optimal_LSH/analysis/hashesLong_c1o2/hashes164\n",
      "/Users/dbeaglehole/Desktop/Research/instance_optimal_LSH/analysis/hashesLong_c1o2/hashes165\n",
      "/Users/dbeaglehole/Desktop/Research/instance_optimal_LSH/analysis/hashesLong_c1o2/hashes166\n",
      "/Users/dbeaglehole/Desktop/Research/instance_optimal_LSH/analysis/hashesLong_c1o2/hashes167\n",
      "/Users/dbeaglehole/Desktop/Research/instance_optimal_LSH/analysis/hashesLong_c1o2/hashes168\n",
      "/Users/dbeaglehole/Desktop/Research/instance_optimal_LSH/analysis/hashesLong_c1o2/hashes169\n",
      "/Users/dbeaglehole/Desktop/Research/instance_optimal_LSH/analysis/hashesLong_c1o2/hashes170\n",
      "/Users/dbeaglehole/Desktop/Research/instance_optimal_LSH/analysis/hashesLong_c1o2/hashes171\n",
      "/Users/dbeaglehole/Desktop/Research/instance_optimal_LSH/analysis/hashesLong_c1o2/hashes172\n",
      "/Users/dbeaglehole/Desktop/Research/instance_optimal_LSH/analysis/hashesLong_c1o2/hashes173\n",
      "/Users/dbeaglehole/Desktop/Research/instance_optimal_LSH/analysis/hashesLong_c1o2/hashes174\n",
      "/Users/dbeaglehole/Desktop/Research/instance_optimal_LSH/analysis/hashesLong_c1o2/hashes175\n",
      "/Users/dbeaglehole/Desktop/Research/instance_optimal_LSH/analysis/hashesLong_c1o2/hashes176\n",
      "/Users/dbeaglehole/Desktop/Research/instance_optimal_LSH/analysis/hashesLong_c1o2/hashes177\n",
      "/Users/dbeaglehole/Desktop/Research/instance_optimal_LSH/analysis/hashesLong_c1o2/hashes178\n",
      "/Users/dbeaglehole/Desktop/Research/instance_optimal_LSH/analysis/hashesLong_c1o2/hashes179\n",
      "/Users/dbeaglehole/Desktop/Research/instance_optimal_LSH/analysis/hashesLong_c1o2/hashes180\n",
      "/Users/dbeaglehole/Desktop/Research/instance_optimal_LSH/analysis/hashesLong_c1o2/hashes181\n",
      "/Users/dbeaglehole/Desktop/Research/instance_optimal_LSH/analysis/hashesLong_c1o2/hashes182\n",
      "/Users/dbeaglehole/Desktop/Research/instance_optimal_LSH/analysis/hashesLong_c1o2/hashes183\n",
      "/Users/dbeaglehole/Desktop/Research/instance_optimal_LSH/analysis/hashesLong_c1o2/hashes184\n",
      "/Users/dbeaglehole/Desktop/Research/instance_optimal_LSH/analysis/hashesLong_c1o2/hashes185\n",
      "/Users/dbeaglehole/Desktop/Research/instance_optimal_LSH/analysis/hashesLong_c1o2/hashes186\n",
      "/Users/dbeaglehole/Desktop/Research/instance_optimal_LSH/analysis/hashesLong_c1o2/hashes187\n",
      "/Users/dbeaglehole/Desktop/Research/instance_optimal_LSH/analysis/hashesLong_c1o2/hashes188\n",
      "/Users/dbeaglehole/Desktop/Research/instance_optimal_LSH/analysis/hashesLong_c1o2/hashes189\n",
      "/Users/dbeaglehole/Desktop/Research/instance_optimal_LSH/analysis/hashesLong_c1o2/hashes190\n",
      "/Users/dbeaglehole/Desktop/Research/instance_optimal_LSH/analysis/hashesLong_c1o2/hashes191\n",
      "/Users/dbeaglehole/Desktop/Research/instance_optimal_LSH/analysis/hashesLong_c1o2/hashes192\n",
      "/Users/dbeaglehole/Desktop/Research/instance_optimal_LSH/analysis/hashesLong_c1o2/hashes193\n",
      "/Users/dbeaglehole/Desktop/Research/instance_optimal_LSH/analysis/hashesLong_c1o2/hashes194\n",
      "/Users/dbeaglehole/Desktop/Research/instance_optimal_LSH/analysis/hashesLong_c1o2/hashes195\n",
      "/Users/dbeaglehole/Desktop/Research/instance_optimal_LSH/analysis/hashesLong_c1o2/hashes196\n",
      "/Users/dbeaglehole/Desktop/Research/instance_optimal_LSH/analysis/hashesLong_c1o2/hashes197\n",
      "/Users/dbeaglehole/Desktop/Research/instance_optimal_LSH/analysis/hashesLong_c1o2/hashes198\n",
      "/Users/dbeaglehole/Desktop/Research/instance_optimal_LSH/analysis/hashesLong_c1o2/hashes199\n",
      "/Users/dbeaglehole/Desktop/Research/instance_optimal_LSH/analysis/hashesLong_c1o2/hashes200\n",
      "/Users/dbeaglehole/Desktop/Research/instance_optimal_LSH/analysis/hashesLong_c1o2/hashes201\n",
      "/Users/dbeaglehole/Desktop/Research/instance_optimal_LSH/analysis/hashesLong_c1o2/hashes202\n",
      "/Users/dbeaglehole/Desktop/Research/instance_optimal_LSH/analysis/hashesLong_c1o2/hashes203\n",
      "/Users/dbeaglehole/Desktop/Research/instance_optimal_LSH/analysis/hashesLong_c1o2/hashes204\n",
      "/Users/dbeaglehole/Desktop/Research/instance_optimal_LSH/analysis/hashesLong_c1o2/hashes205\n",
      "/Users/dbeaglehole/Desktop/Research/instance_optimal_LSH/analysis/hashesLong_c1o2/hashes206\n",
      "/Users/dbeaglehole/Desktop/Research/instance_optimal_LSH/analysis/hashesLong_c1o2/hashes207\n",
      "/Users/dbeaglehole/Desktop/Research/instance_optimal_LSH/analysis/hashesLong_c1o2/hashes208\n",
      "/Users/dbeaglehole/Desktop/Research/instance_optimal_LSH/analysis/hashesLong_c1o2/hashes209\n",
      "/Users/dbeaglehole/Desktop/Research/instance_optimal_LSH/analysis/hashesLong_c1o2/hashes210\n",
      "/Users/dbeaglehole/Desktop/Research/instance_optimal_LSH/analysis/hashesLong_c1o2/hashes211\n",
      "/Users/dbeaglehole/Desktop/Research/instance_optimal_LSH/analysis/hashesLong_c1o2/hashes212\n",
      "/Users/dbeaglehole/Desktop/Research/instance_optimal_LSH/analysis/hashesLong_c1o2/hashes213\n",
      "/Users/dbeaglehole/Desktop/Research/instance_optimal_LSH/analysis/hashesLong_c1o2/hashes214\n",
      "/Users/dbeaglehole/Desktop/Research/instance_optimal_LSH/analysis/hashesLong_c1o2/hashes215\n",
      "/Users/dbeaglehole/Desktop/Research/instance_optimal_LSH/analysis/hashesLong_c1o2/hashes216\n",
      "/Users/dbeaglehole/Desktop/Research/instance_optimal_LSH/analysis/hashesLong_c1o2/hashes217\n",
      "/Users/dbeaglehole/Desktop/Research/instance_optimal_LSH/analysis/hashesLong_c1o2/hashes218\n",
      "/Users/dbeaglehole/Desktop/Research/instance_optimal_LSH/analysis/hashesLong_c1o2/hashes219\n",
      "/Users/dbeaglehole/Desktop/Research/instance_optimal_LSH/analysis/hashesLong_c1o2/hashes220\n",
      "/Users/dbeaglehole/Desktop/Research/instance_optimal_LSH/analysis/hashesLong_c1o2/hashes221\n",
      "/Users/dbeaglehole/Desktop/Research/instance_optimal_LSH/analysis/hashesLong_c1o2/hashes222\n",
      "/Users/dbeaglehole/Desktop/Research/instance_optimal_LSH/analysis/hashesLong_c1o2/hashes223\n",
      "/Users/dbeaglehole/Desktop/Research/instance_optimal_LSH/analysis/hashesLong_c1o2/hashes224\n",
      "/Users/dbeaglehole/Desktop/Research/instance_optimal_LSH/analysis/hashesLong_c1o2/hashes225\n",
      "/Users/dbeaglehole/Desktop/Research/instance_optimal_LSH/analysis/hashesLong_c1o2/hashes226\n",
      "/Users/dbeaglehole/Desktop/Research/instance_optimal_LSH/analysis/hashesLong_c1o2/hashes227\n",
      "/Users/dbeaglehole/Desktop/Research/instance_optimal_LSH/analysis/hashesLong_c1o2/hashes228\n",
      "/Users/dbeaglehole/Desktop/Research/instance_optimal_LSH/analysis/hashesLong_c1o2/hashes229\n",
      "/Users/dbeaglehole/Desktop/Research/instance_optimal_LSH/analysis/hashesLong_c1o2/hashes230\n",
      "/Users/dbeaglehole/Desktop/Research/instance_optimal_LSH/analysis/hashesLong_c1o2/hashes231\n",
      "/Users/dbeaglehole/Desktop/Research/instance_optimal_LSH/analysis/hashesLong_c1o2/hashes232\n",
      "/Users/dbeaglehole/Desktop/Research/instance_optimal_LSH/analysis/hashesLong_c1o2/hashes233\n",
      "/Users/dbeaglehole/Desktop/Research/instance_optimal_LSH/analysis/hashesLong_c1o2/hashes234\n",
      "/Users/dbeaglehole/Desktop/Research/instance_optimal_LSH/analysis/hashesLong_c1o2/hashes235\n",
      "/Users/dbeaglehole/Desktop/Research/instance_optimal_LSH/analysis/hashesLong_c1o2/hashes236\n",
      "/Users/dbeaglehole/Desktop/Research/instance_optimal_LSH/analysis/hashesLong_c1o2/hashes237\n",
      "/Users/dbeaglehole/Desktop/Research/instance_optimal_LSH/analysis/hashesLong_c1o2/hashes238\n",
      "/Users/dbeaglehole/Desktop/Research/instance_optimal_LSH/analysis/hashesLong_c1o2/hashes239\n",
      "/Users/dbeaglehole/Desktop/Research/instance_optimal_LSH/analysis/hashesLong_c1o2/hashes240\n",
      "/Users/dbeaglehole/Desktop/Research/instance_optimal_LSH/analysis/hashesLong_c1o2/hashes241\n",
      "/Users/dbeaglehole/Desktop/Research/instance_optimal_LSH/analysis/hashesLong_c1o2/hashes242\n",
      "/Users/dbeaglehole/Desktop/Research/instance_optimal_LSH/analysis/hashesLong_c1o2/hashes243\n",
      "/Users/dbeaglehole/Desktop/Research/instance_optimal_LSH/analysis/hashesLong_c1o2/hashes244\n",
      "/Users/dbeaglehole/Desktop/Research/instance_optimal_LSH/analysis/hashesLong_c1o2/hashes245\n",
      "/Users/dbeaglehole/Desktop/Research/instance_optimal_LSH/analysis/hashesLong_c1o2/hashes246\n",
      "/Users/dbeaglehole/Desktop/Research/instance_optimal_LSH/analysis/hashesLong_c1o2/hashes247\n",
      "/Users/dbeaglehole/Desktop/Research/instance_optimal_LSH/analysis/hashesLong_c1o2/hashes248\n",
      "/Users/dbeaglehole/Desktop/Research/instance_optimal_LSH/analysis/hashesLong_c1o2/hashes249\n",
      "/Users/dbeaglehole/Desktop/Research/instance_optimal_LSH/analysis/hashesv1_c1.5/\n",
      "/Users/dbeaglehole/Desktop/Research/instance_optimal_LSH/analysis/hashesv1_c1.5/hashes0\n",
      "/Users/dbeaglehole/Desktop/Research/instance_optimal_LSH/analysis/hashesv1_c1.5/hashes1\n",
      "/Users/dbeaglehole/Desktop/Research/instance_optimal_LSH/analysis/hashesv1_c1.5/hashes2\n",
      "/Users/dbeaglehole/Desktop/Research/instance_optimal_LSH/analysis/hashesv1_c1.5/hashes3\n",
      "/Users/dbeaglehole/Desktop/Research/instance_optimal_LSH/analysis/hashesv1_c1.5/hashes4\n",
      "/Users/dbeaglehole/Desktop/Research/instance_optimal_LSH/analysis/hashesv1_c1.5/hashes5\n",
      "/Users/dbeaglehole/Desktop/Research/instance_optimal_LSH/analysis/hashesv1_c1.5/hashes6\n"
     ]
    },
    {
     "name": "stdout",
     "output_type": "stream",
     "text": [
      "/Users/dbeaglehole/Desktop/Research/instance_optimal_LSH/analysis/hashesv1_c1.5/hashes7\n",
      "/Users/dbeaglehole/Desktop/Research/instance_optimal_LSH/analysis/hashesv1_c1.5/hashes8\n",
      "/Users/dbeaglehole/Desktop/Research/instance_optimal_LSH/analysis/hashesv1_c1.5/hashes9\n",
      "/Users/dbeaglehole/Desktop/Research/instance_optimal_LSH/analysis/hashesv1_c1.5/hashes10\n",
      "/Users/dbeaglehole/Desktop/Research/instance_optimal_LSH/analysis/hashesv1_c1.5/hashes11\n",
      "/Users/dbeaglehole/Desktop/Research/instance_optimal_LSH/analysis/hashesv1_c1.5/hashes12\n",
      "/Users/dbeaglehole/Desktop/Research/instance_optimal_LSH/analysis/hashesv1_c1.5/hashes13\n",
      "/Users/dbeaglehole/Desktop/Research/instance_optimal_LSH/analysis/hashesv1_c1.5/hashes14\n",
      "/Users/dbeaglehole/Desktop/Research/instance_optimal_LSH/analysis/hashesv1_c1.5/hashes15\n",
      "/Users/dbeaglehole/Desktop/Research/instance_optimal_LSH/analysis/hashesv1_c1.5/hashes16\n",
      "/Users/dbeaglehole/Desktop/Research/instance_optimal_LSH/analysis/hashesv1_c1.5/hashes17\n",
      "/Users/dbeaglehole/Desktop/Research/instance_optimal_LSH/analysis/hashesv1_c1.5/hashes18\n",
      "/Users/dbeaglehole/Desktop/Research/instance_optimal_LSH/analysis/hashesv1_c1.5/hashes19\n",
      "/Users/dbeaglehole/Desktop/Research/instance_optimal_LSH/analysis/hashesv1_c1.5/hashes20\n",
      "/Users/dbeaglehole/Desktop/Research/instance_optimal_LSH/analysis/hashesv1_c1.5/hashes21\n"
     ]
    },
    {
     "ename": "KeyboardInterrupt",
     "evalue": "",
     "output_type": "error",
     "traceback": [
      "\u001b[0;31m---------------------------------------------------------------------------\u001b[0m",
      "\u001b[0;31mKeyboardInterrupt\u001b[0m                         Traceback (most recent call last)",
      "\u001b[0;32m<ipython-input-123-7fb907bd99cb>\u001b[0m in \u001b[0;36m<module>\u001b[0;34m\u001b[0m\n\u001b[1;32m      5\u001b[0m \u001b[0;32mfor\u001b[0m \u001b[0mhash_dir\u001b[0m \u001b[0;32min\u001b[0m \u001b[0mhash_dirs\u001b[0m\u001b[0;34m:\u001b[0m\u001b[0;34m\u001b[0m\u001b[0;34m\u001b[0m\u001b[0m\n\u001b[1;32m      6\u001b[0m     \u001b[0mprint\u001b[0m\u001b[0;34m(\u001b[0m\u001b[0mhash_dir\u001b[0m\u001b[0;34m)\u001b[0m\u001b[0;34m\u001b[0m\u001b[0;34m\u001b[0m\u001b[0m\n\u001b[0;32m----> 7\u001b[0;31m     \u001b[0mtrees\u001b[0m \u001b[0;34m=\u001b[0m \u001b[0mread_all_trees\u001b[0m\u001b[0;34m(\u001b[0m\u001b[0mhash_dir\u001b[0m\u001b[0;34m)\u001b[0m\u001b[0;34m\u001b[0m\u001b[0;34m\u001b[0m\u001b[0m\n\u001b[0m\u001b[1;32m      8\u001b[0m     \u001b[0mtrees\u001b[0m \u001b[0;34m=\u001b[0m \u001b[0;34m[\u001b[0m\u001b[0mt\u001b[0m \u001b[0;32mfor\u001b[0m \u001b[0mt\u001b[0m \u001b[0;32min\u001b[0m \u001b[0mtrees\u001b[0m \u001b[0;32mif\u001b[0m \u001b[0mt\u001b[0m \u001b[0;34m!=\u001b[0m \u001b[0;34m\"None\"\u001b[0m\u001b[0;34m]\u001b[0m\u001b[0;34m[\u001b[0m\u001b[0;34m:\u001b[0m\u001b[0;36m110\u001b[0m\u001b[0;34m]\u001b[0m\u001b[0;34m\u001b[0m\u001b[0;34m\u001b[0m\u001b[0m\n\u001b[1;32m      9\u001b[0m     \u001b[0mtrees_list\u001b[0m\u001b[0;34m.\u001b[0m\u001b[0mappend\u001b[0m\u001b[0;34m(\u001b[0m\u001b[0mtrees\u001b[0m\u001b[0;34m)\u001b[0m\u001b[0;34m\u001b[0m\u001b[0;34m\u001b[0m\u001b[0m\n",
      "\u001b[0;32m<ipython-input-122-70b117fcc4a4>\u001b[0m in \u001b[0;36mread_all_trees\u001b[0;34m(hash_dir)\u001b[0m\n\u001b[1;32m      5\u001b[0m         \u001b[0mfilename\u001b[0m \u001b[0;34m=\u001b[0m \u001b[0mhash_dir\u001b[0m \u001b[0;34m+\u001b[0m \u001b[0;34m\"hashes\"\u001b[0m \u001b[0;34m+\u001b[0m \u001b[0mstr\u001b[0m\u001b[0;34m(\u001b[0m\u001b[0mt\u001b[0m\u001b[0;34m)\u001b[0m\u001b[0;34m\u001b[0m\u001b[0;34m\u001b[0m\u001b[0m\n\u001b[1;32m      6\u001b[0m         \u001b[0mprint\u001b[0m\u001b[0;34m(\u001b[0m\u001b[0mfilename\u001b[0m\u001b[0;34m)\u001b[0m\u001b[0;34m\u001b[0m\u001b[0;34m\u001b[0m\u001b[0m\n\u001b[0;32m----> 7\u001b[0;31m         \u001b[0mtrees\u001b[0m\u001b[0;34m.\u001b[0m\u001b[0mappend\u001b[0m\u001b[0;34m(\u001b[0m\u001b[0mread_tree\u001b[0m\u001b[0;34m(\u001b[0m\u001b[0mfilename\u001b[0m\u001b[0;34m)\u001b[0m\u001b[0;34m)\u001b[0m\u001b[0;34m\u001b[0m\u001b[0;34m\u001b[0m\u001b[0m\n\u001b[0m\u001b[1;32m      8\u001b[0m     \u001b[0;32mreturn\u001b[0m \u001b[0mtrees\u001b[0m\u001b[0;34m\u001b[0m\u001b[0;34m\u001b[0m\u001b[0m\n",
      "\u001b[0;32m<ipython-input-117-230425457346>\u001b[0m in \u001b[0;36mread_tree\u001b[0;34m(filename)\u001b[0m\n\u001b[1;32m      8\u001b[0m     \u001b[0mcontent\u001b[0m \u001b[0;34m=\u001b[0m \u001b[0;34m\"{ (2,2) \"\u001b[0m \u001b[0;34m+\u001b[0m \u001b[0mcontent\u001b[0m\u001b[0;34m\u001b[0m\u001b[0;34m\u001b[0m\u001b[0m\n\u001b[1;32m      9\u001b[0m     \u001b[0mfile\u001b[0m\u001b[0;34m.\u001b[0m\u001b[0mclose\u001b[0m\u001b[0;34m(\u001b[0m\u001b[0;34m)\u001b[0m\u001b[0;34m\u001b[0m\u001b[0;34m\u001b[0m\u001b[0m\n\u001b[0;32m---> 10\u001b[0;31m     \u001b[0mtree\u001b[0m \u001b[0;34m=\u001b[0m \u001b[0mread_hash\u001b[0m\u001b[0;34m(\u001b[0m\u001b[0mcontent\u001b[0m\u001b[0;34m)\u001b[0m\u001b[0;34m\u001b[0m\u001b[0;34m\u001b[0m\u001b[0m\n\u001b[0m\u001b[1;32m     11\u001b[0m \u001b[0;34m\u001b[0m\u001b[0m\n\u001b[1;32m     12\u001b[0m     \u001b[0;32mreturn\u001b[0m \u001b[0mtree\u001b[0m\u001b[0;34m\u001b[0m\u001b[0;34m\u001b[0m\u001b[0m\n",
      "\u001b[0;32m<ipython-input-116-64b086a6c07d>\u001b[0m in \u001b[0;36mread_hash\u001b[0;34m(file_content)\u001b[0m\n\u001b[1;32m     17\u001b[0m \u001b[0;34m\u001b[0m\u001b[0m\n\u001b[1;32m     18\u001b[0m \u001b[0;34m\u001b[0m\u001b[0m\n\u001b[0;32m---> 19\u001b[0;31m     \u001b[0mtree\u001b[0m\u001b[0;34m.\u001b[0m\u001b[0mleft\u001b[0m \u001b[0;34m=\u001b[0m \u001b[0mread_hash\u001b[0m\u001b[0;34m(\u001b[0m\u001b[0mleft_cont\u001b[0m\u001b[0;34m)\u001b[0m\u001b[0;34m\u001b[0m\u001b[0;34m\u001b[0m\u001b[0m\n\u001b[0m\u001b[1;32m     20\u001b[0m     \u001b[0mtree\u001b[0m\u001b[0;34m.\u001b[0m\u001b[0mright\u001b[0m \u001b[0;34m=\u001b[0m \u001b[0mread_hash\u001b[0m\u001b[0;34m(\u001b[0m\u001b[0mright_cont\u001b[0m\u001b[0;34m)\u001b[0m\u001b[0;34m\u001b[0m\u001b[0;34m\u001b[0m\u001b[0m\n\u001b[1;32m     21\u001b[0m \u001b[0;34m\u001b[0m\u001b[0m\n",
      "\u001b[0;32m<ipython-input-116-64b086a6c07d>\u001b[0m in \u001b[0;36mread_hash\u001b[0;34m(file_content)\u001b[0m\n\u001b[1;32m     17\u001b[0m \u001b[0;34m\u001b[0m\u001b[0m\n\u001b[1;32m     18\u001b[0m \u001b[0;34m\u001b[0m\u001b[0m\n\u001b[0;32m---> 19\u001b[0;31m     \u001b[0mtree\u001b[0m\u001b[0;34m.\u001b[0m\u001b[0mleft\u001b[0m \u001b[0;34m=\u001b[0m \u001b[0mread_hash\u001b[0m\u001b[0;34m(\u001b[0m\u001b[0mleft_cont\u001b[0m\u001b[0;34m)\u001b[0m\u001b[0;34m\u001b[0m\u001b[0;34m\u001b[0m\u001b[0m\n\u001b[0m\u001b[1;32m     20\u001b[0m     \u001b[0mtree\u001b[0m\u001b[0;34m.\u001b[0m\u001b[0mright\u001b[0m \u001b[0;34m=\u001b[0m \u001b[0mread_hash\u001b[0m\u001b[0;34m(\u001b[0m\u001b[0mright_cont\u001b[0m\u001b[0;34m)\u001b[0m\u001b[0;34m\u001b[0m\u001b[0;34m\u001b[0m\u001b[0m\n\u001b[1;32m     21\u001b[0m \u001b[0;34m\u001b[0m\u001b[0m\n",
      "\u001b[0;32m<ipython-input-116-64b086a6c07d>\u001b[0m in \u001b[0;36mread_hash\u001b[0;34m(file_content)\u001b[0m\n\u001b[1;32m     18\u001b[0m \u001b[0;34m\u001b[0m\u001b[0m\n\u001b[1;32m     19\u001b[0m     \u001b[0mtree\u001b[0m\u001b[0;34m.\u001b[0m\u001b[0mleft\u001b[0m \u001b[0;34m=\u001b[0m \u001b[0mread_hash\u001b[0m\u001b[0;34m(\u001b[0m\u001b[0mleft_cont\u001b[0m\u001b[0;34m)\u001b[0m\u001b[0;34m\u001b[0m\u001b[0;34m\u001b[0m\u001b[0m\n\u001b[0;32m---> 20\u001b[0;31m     \u001b[0mtree\u001b[0m\u001b[0;34m.\u001b[0m\u001b[0mright\u001b[0m \u001b[0;34m=\u001b[0m \u001b[0mread_hash\u001b[0m\u001b[0;34m(\u001b[0m\u001b[0mright_cont\u001b[0m\u001b[0;34m)\u001b[0m\u001b[0;34m\u001b[0m\u001b[0;34m\u001b[0m\u001b[0m\n\u001b[0m\u001b[1;32m     21\u001b[0m \u001b[0;34m\u001b[0m\u001b[0m\n\u001b[1;32m     22\u001b[0m     \u001b[0;32mreturn\u001b[0m \u001b[0mtree\u001b[0m\u001b[0;34m\u001b[0m\u001b[0;34m\u001b[0m\u001b[0m\n",
      "\u001b[0;32m<ipython-input-116-64b086a6c07d>\u001b[0m in \u001b[0;36mread_hash\u001b[0;34m(file_content)\u001b[0m\n\u001b[1;32m     18\u001b[0m \u001b[0;34m\u001b[0m\u001b[0m\n\u001b[1;32m     19\u001b[0m     \u001b[0mtree\u001b[0m\u001b[0;34m.\u001b[0m\u001b[0mleft\u001b[0m \u001b[0;34m=\u001b[0m \u001b[0mread_hash\u001b[0m\u001b[0;34m(\u001b[0m\u001b[0mleft_cont\u001b[0m\u001b[0;34m)\u001b[0m\u001b[0;34m\u001b[0m\u001b[0;34m\u001b[0m\u001b[0m\n\u001b[0;32m---> 20\u001b[0;31m     \u001b[0mtree\u001b[0m\u001b[0;34m.\u001b[0m\u001b[0mright\u001b[0m \u001b[0;34m=\u001b[0m \u001b[0mread_hash\u001b[0m\u001b[0;34m(\u001b[0m\u001b[0mright_cont\u001b[0m\u001b[0;34m)\u001b[0m\u001b[0;34m\u001b[0m\u001b[0;34m\u001b[0m\u001b[0m\n\u001b[0m\u001b[1;32m     21\u001b[0m \u001b[0;34m\u001b[0m\u001b[0m\n\u001b[1;32m     22\u001b[0m     \u001b[0;32mreturn\u001b[0m \u001b[0mtree\u001b[0m\u001b[0;34m\u001b[0m\u001b[0;34m\u001b[0m\u001b[0m\n",
      "\u001b[0;32m<ipython-input-116-64b086a6c07d>\u001b[0m in \u001b[0;36mread_hash\u001b[0;34m(file_content)\u001b[0m\n\u001b[1;32m     14\u001b[0m         \u001b[0mright_cont\u001b[0m \u001b[0;34m=\u001b[0m \u001b[0;34m\"\"\u001b[0m\u001b[0;34m\u001b[0m\u001b[0;34m\u001b[0m\u001b[0m\n\u001b[1;32m     15\u001b[0m     \u001b[0;32melse\u001b[0m\u001b[0;34m:\u001b[0m\u001b[0;34m\u001b[0m\u001b[0;34m\u001b[0m\u001b[0m\n\u001b[0;32m---> 16\u001b[0;31m         \u001b[0mright_cont\u001b[0m\u001b[0;34m,\u001b[0m \u001b[0m_\u001b[0m\u001b[0;34m,\u001b[0m \u001b[0m_\u001b[0m \u001b[0;34m=\u001b[0m \u001b[0mget_sub_content\u001b[0m\u001b[0;34m(\u001b[0m\u001b[0mfile_content\u001b[0m\u001b[0;34m[\u001b[0m\u001b[0;34m:\u001b[0m\u001b[0ms_l\u001b[0m\u001b[0;34m]\u001b[0m \u001b[0;34m+\u001b[0m \u001b[0mfile_content\u001b[0m\u001b[0;34m[\u001b[0m\u001b[0me_l\u001b[0m\u001b[0;34m+\u001b[0m\u001b[0;36m1\u001b[0m\u001b[0;34m:\u001b[0m\u001b[0;34m]\u001b[0m\u001b[0;34m)\u001b[0m\u001b[0;34m\u001b[0m\u001b[0;34m\u001b[0m\u001b[0m\n\u001b[0m\u001b[1;32m     17\u001b[0m \u001b[0;34m\u001b[0m\u001b[0m\n\u001b[1;32m     18\u001b[0m \u001b[0;34m\u001b[0m\u001b[0m\n",
      "\u001b[0;32m<ipython-input-120-eef352869c44>\u001b[0m in \u001b[0;36mget_sub_content\u001b[0;34m(file_content)\u001b[0m\n\u001b[1;32m     12\u001b[0m     \u001b[0mnum_right\u001b[0m \u001b[0;34m=\u001b[0m \u001b[0;36m0\u001b[0m\u001b[0;34m\u001b[0m\u001b[0;34m\u001b[0m\u001b[0m\n\u001b[1;32m     13\u001b[0m     \u001b[0mN\u001b[0m \u001b[0;34m=\u001b[0m \u001b[0mlen\u001b[0m\u001b[0;34m(\u001b[0m\u001b[0mfile_content\u001b[0m\u001b[0;34m)\u001b[0m\u001b[0;34m\u001b[0m\u001b[0;34m\u001b[0m\u001b[0m\n\u001b[0;32m---> 14\u001b[0;31m     \u001b[0;32mwhile\u001b[0m \u001b[0;34m(\u001b[0m\u001b[0mnum_left\u001b[0m \u001b[0;34m>\u001b[0m \u001b[0mnum_right\u001b[0m\u001b[0;34m)\u001b[0m \u001b[0;32mand\u001b[0m \u001b[0;34m(\u001b[0m\u001b[0mend\u001b[0m \u001b[0;34m<\u001b[0m \u001b[0mN\u001b[0m\u001b[0;34m)\u001b[0m\u001b[0;34m:\u001b[0m\u001b[0;34m\u001b[0m\u001b[0;34m\u001b[0m\u001b[0m\n\u001b[0m\u001b[1;32m     15\u001b[0m         \u001b[0;32mif\u001b[0m \u001b[0mfile_content\u001b[0m\u001b[0;34m[\u001b[0m\u001b[0mend\u001b[0m\u001b[0;34m]\u001b[0m \u001b[0;34m==\u001b[0m \u001b[0;34m\"{\"\u001b[0m\u001b[0;34m:\u001b[0m\u001b[0;34m\u001b[0m\u001b[0;34m\u001b[0m\u001b[0m\n\u001b[1;32m     16\u001b[0m             \u001b[0mnum_left\u001b[0m \u001b[0;34m+=\u001b[0m \u001b[0;36m1\u001b[0m\u001b[0;34m\u001b[0m\u001b[0;34m\u001b[0m\u001b[0m\n",
      "\u001b[0;31mKeyboardInterrupt\u001b[0m: "
     ]
    }
   ],
   "source": [
    "path = \"/Users/dbeaglehole/Desktop/Research/instance_optimal_LSH/analysis\"\n",
    "hash_dirs = [\"/hashesLong_c1/\",\"/hashesLong_c1o2/\", \"/hashesv1_c1.5/\",\"/hashesv1_c4/\",\"/hashesv1_c10/\"]\n",
    "hash_dirs = [path + x for x in hash_dirs]\n",
    "trees_list = []\n",
    "for hash_dir in hash_dirs:\n",
    "    print(hash_dir)\n",
    "    trees = read_all_trees(hash_dir)\n",
    "    trees = [t for t in trees if t != \"None\"][:110]\n",
    "    trees_list.append(trees)"
   ]
  },
  {
   "cell_type": "markdown",
   "metadata": {},
   "source": [
    "#### Load Dataset"
   ]
  },
  {
   "cell_type": "code",
   "execution_count": 10,
   "metadata": {},
   "outputs": [],
   "source": [
    "dataset = np.loadtxt(open(\"dataset.txt\", \"r\"))"
   ]
  },
  {
   "cell_type": "code",
   "execution_count": 12,
   "metadata": {},
   "outputs": [
    {
     "data": {
      "text/plain": [
       "(750, 784)"
      ]
     },
     "execution_count": 12,
     "metadata": {},
     "output_type": "execute_result"
    }
   ],
   "source": [
    "num_images, dim = dataset.shape\n",
    "num_images, dim "
   ]
  },
  {
   "cell_type": "markdown",
   "metadata": {},
   "source": [
    "### Generate Uniform Tree"
   ]
  },
  {
   "cell_type": "code",
   "execution_count": 13,
   "metadata": {},
   "outputs": [],
   "source": [
    "import random "
   ]
  },
  {
   "cell_type": "code",
   "execution_count": 14,
   "metadata": {},
   "outputs": [],
   "source": [
    "bucket_size=5"
   ]
  },
  {
   "cell_type": "code",
   "execution_count": 15,
   "metadata": {},
   "outputs": [],
   "source": [
    "def hash_d(dataset, used_hashes):\n",
    "    hashed_dataset = np.copy(dataset)\n",
    "    for bit, index in used_hashes:\n",
    "        if bit==2:\n",
    "            continue\n",
    "        hashed_dataset = hashed_dataset[np.nonzero(hashed_dataset[:,index] == bit)]\n",
    "    return hashed_dataset"
   ]
  },
  {
   "cell_type": "code",
   "execution_count": 16,
   "metadata": {},
   "outputs": [],
   "source": [
    "def generate_uniform_tree(used_hashes, dataset):\n",
    "    \n",
    "    hashed_dataset = hash_d(dataset, used_hashes)\n",
    "    \n",
    "    tree = LSHtree()\n",
    "    tree.bit = used_hashes[-1][0]\n",
    "    tree.index = used_hashes[-1][1]\n",
    "    if hashed_dataset.shape[0] <= bucket_size:\n",
    "        return tree\n",
    "    \n",
    "    idx = random.randint(0, dim-1)\n",
    "    \n",
    "    tree.left = generate_uniform_tree(used_hashes + [(1,idx)], hashed_dataset)\n",
    "    tree.right = generate_uniform_tree(used_hashes + [(0,idx)], hashed_dataset)\n",
    "    \n",
    "    return tree\n",
    "    "
   ]
  },
  {
   "cell_type": "code",
   "execution_count": 17,
   "metadata": {},
   "outputs": [
    {
     "name": "stdout",
     "output_type": "stream",
     "text": [
      "uniform tree 1/110\n",
      "uniform tree 11/110\n",
      "uniform tree 21/110\n",
      "uniform tree 31/110\n",
      "uniform tree 41/110\n",
      "uniform tree 51/110\n",
      "uniform tree 61/110\n",
      "uniform tree 71/110\n",
      "uniform tree 81/110\n",
      "uniform tree 91/110\n",
      "uniform tree 101/110\n"
     ]
    }
   ],
   "source": [
    "num_trees=110\n",
    "uniform_trees = []\n",
    "for t in range(num_trees):\n",
    "    if (t%10==0):\n",
    "        print(\"uniform tree %d/%d\" % (t+1,num_trees))\n",
    "    tree = generate_uniform_tree([(2,2)],dataset)\n",
    "    uniform_trees.append(tree)"
   ]
  },
  {
   "cell_type": "markdown",
   "metadata": {},
   "source": [
    "### Generate Queries"
   ]
  },
  {
   "cell_type": "code",
   "execution_count": 77,
   "metadata": {},
   "outputs": [],
   "source": [
    "#originally r = 10\n",
    "r=10"
   ]
  },
  {
   "cell_type": "code",
   "execution_count": 78,
   "metadata": {},
   "outputs": [],
   "source": [
    "def rand_flip(image, dim):\n",
    "    new_query = np.copy(image)\n",
    "    for i in range(r):\n",
    "        rand_idx = random.randint(0,dim-1)\n",
    "        new_query[rand_idx] = not new_query[rand_idx]\n",
    "    return new_query"
   ]
  },
  {
   "cell_type": "code",
   "execution_count": 79,
   "metadata": {},
   "outputs": [],
   "source": [
    "def generate_random_queries(dataset):\n",
    "    query_list = []\n",
    "    queries_per_img = 100\n",
    "    num_images, dim = dataset.shape\n",
    "    for i in range(num_images):\n",
    "        image = dataset[i]\n",
    "        for j in range(queries_per_img):\n",
    "            flipped_query = rand_flip(image,dim)\n",
    "            query_list.append((flipped_query,i))\n",
    "    return query_list"
   ]
  },
  {
   "cell_type": "code",
   "execution_count": 80,
   "metadata": {},
   "outputs": [],
   "source": [
    "def compute_balanced(dataset, r):\n",
    "    num_images, dim = dataset.shape\n",
    "    balanced_bits = []\n",
    "    for i in range(num_images):\n",
    "        if (i%50 == 0):\n",
    "            print(i)\n",
    "        image = dataset[i]\n",
    "        balances = []\n",
    "        for j in range(dim):\n",
    "            size = dataset[np.where(dataset[:,j] == image[j])].shape[0]\n",
    "            balances.append((size/num_images, j))\n",
    "        \n",
    "        balances.sort()\n",
    "        balanced_bits.append(balances[:r])\n",
    "        \n",
    "    return balanced_bits"
   ]
  },
  {
   "cell_type": "code",
   "execution_count": 81,
   "metadata": {},
   "outputs": [],
   "source": [
    "def flip_on_bits(image, bits):\n",
    "    query = np.copy(image)\n",
    "    for _, idx in bits:\n",
    "        query[idx] = (not image[idx])*1\n",
    "    return query"
   ]
  },
  {
   "cell_type": "code",
   "execution_count": 82,
   "metadata": {},
   "outputs": [],
   "source": [
    "def generate_hard_queries(dataset):\n",
    "    query_list = []\n",
    "    num_images, dim = dataset.shape\n",
    "    for i in range(num_images):\n",
    "        image = dataset[i]\n",
    "        flipped_query = flip_on_bits(image, balanced_bits[i])\n",
    "        query_list.append((flipped_query,i))\n",
    "    return query_list"
   ]
  },
  {
   "cell_type": "code",
   "execution_count": 83,
   "metadata": {},
   "outputs": [],
   "source": [
    "query_list = generate_random_queries(dataset)"
   ]
  },
  {
   "cell_type": "markdown",
   "metadata": {},
   "source": [
    "### Eval Optimized"
   ]
  },
  {
   "cell_type": "code",
   "execution_count": 84,
   "metadata": {},
   "outputs": [],
   "source": [
    "def eval_tree(tree, query, datapoint):\n",
    "    if tree.left == None: #leaf\n",
    "        return 1\n",
    "    \n",
    "    index = tree.left.index\n",
    "    \n",
    "    if query[index] == datapoint[index] == 1:\n",
    "        return eval_tree(tree.left, query, datapoint)\n",
    "    elif query[index] == datapoint[index] == 0:\n",
    "        return eval_tree(tree.right, query, datapoint)\n",
    "    else:\n",
    "        return 0"
   ]
  },
  {
   "cell_type": "code",
   "execution_count": 85,
   "metadata": {},
   "outputs": [],
   "source": [
    "order = [\"c1\", \"c1o2\"]"
   ]
  },
  {
   "cell_type": "markdown",
   "metadata": {},
   "source": [
    "### Time Random Queries"
   ]
  },
  {
   "cell_type": "code",
   "execution_count": 86,
   "metadata": {},
   "outputs": [],
   "source": [
    "#./hashesLong_c1/\n",
    "#./hashesLong_c1o2/\n",
    "#./hashesv1_c1.5/\n",
    "#./hashes_opt/\n",
    "#./hashesv1_c10/\n",
    "#./hashesv1_c4/"
   ]
  },
  {
   "cell_type": "code",
   "execution_count": 87,
   "metadata": {},
   "outputs": [],
   "source": [
    "import time"
   ]
  },
  {
   "cell_type": "code",
   "execution_count": 88,
   "metadata": {},
   "outputs": [],
   "source": [
    "time_list = []\n",
    "for trees in trees_list:\n",
    "    times = []\n",
    "    for q,i in query_list:\n",
    "        if (t%10000==0):\n",
    "            print(\"itr \",t)\n",
    "        start = time.time()\n",
    "        for tree in trees:\n",
    "            if eval_tree(tree, q, dataset[i]):\n",
    "                break\n",
    "        end = time.time()\n",
    "        times.append(end - start)\n",
    "        \n",
    "    time_list.append(times)"
   ]
  },
  {
   "cell_type": "code",
   "execution_count": 89,
   "metadata": {},
   "outputs": [
    {
     "name": "stdout",
     "output_type": "stream",
     "text": [
      "0.00047898292541503906\n",
      "0.0010509490966796875\n",
      "0.03725695610046387\n",
      "0.049226999282836914\n",
      "0.002685070037841797\n",
      "0.003336191177368164\n",
      "0.0017910003662109375\n",
      "0.0011799335479736328\n"
     ]
    }
   ],
   "source": [
    "for times in time_list:\n",
    "    print(max(times))"
   ]
  },
  {
   "cell_type": "code",
   "execution_count": 90,
   "metadata": {},
   "outputs": [
    {
     "name": "stdout",
     "output_type": "stream",
     "text": [
      "1.1046460469563803e-05\n",
      "1.2923218409220378e-05\n",
      "2.3088143666585288e-05\n",
      "5.864826520284017e-05\n",
      "3.0644410451253253e-05\n",
      "2.1467634836832682e-05\n",
      "4.030118942260742e-05\n",
      "4.061672528584798e-05\n"
     ]
    }
   ],
   "source": [
    "for times in time_list:\n",
    "    print(sum(times)/len(times))"
   ]
  },
  {
   "cell_type": "markdown",
   "metadata": {},
   "source": [
    "### Compute Recall for Random Queries"
   ]
  },
  {
   "cell_type": "code",
   "execution_count": 31,
   "metadata": {},
   "outputs": [
    {
     "name": "stdout",
     "output_type": "stream",
     "text": [
      "option\n",
      "itr  0\n"
     ]
    },
    {
     "ename": "KeyboardInterrupt",
     "evalue": "",
     "output_type": "error",
     "traceback": [
      "\u001b[0;31m---------------------------------------------------------------------------\u001b[0m",
      "\u001b[0;31mKeyboardInterrupt\u001b[0m                         Traceback (most recent call last)",
      "\u001b[0;32m<ipython-input-31-5fda03920095>\u001b[0m in \u001b[0;36m<module>\u001b[0;34m\u001b[0m\n\u001b[1;32m      9\u001b[0m         \u001b[0mtotal\u001b[0m \u001b[0;34m=\u001b[0m \u001b[0;36m0\u001b[0m\u001b[0;34m\u001b[0m\u001b[0;34m\u001b[0m\u001b[0m\n\u001b[1;32m     10\u001b[0m         \u001b[0;32mfor\u001b[0m \u001b[0mtree\u001b[0m \u001b[0;32min\u001b[0m \u001b[0mtrees\u001b[0m\u001b[0;34m:\u001b[0m\u001b[0;34m\u001b[0m\u001b[0;34m\u001b[0m\u001b[0m\n\u001b[0;32m---> 11\u001b[0;31m             \u001b[0mtotal\u001b[0m \u001b[0;34m+=\u001b[0m \u001b[0meval_tree\u001b[0m\u001b[0;34m(\u001b[0m\u001b[0mtree\u001b[0m\u001b[0;34m,\u001b[0m \u001b[0mq\u001b[0m\u001b[0;34m,\u001b[0m \u001b[0mdataset\u001b[0m\u001b[0;34m[\u001b[0m\u001b[0mi\u001b[0m\u001b[0;34m]\u001b[0m\u001b[0;34m)\u001b[0m\u001b[0;34m\u001b[0m\u001b[0;34m\u001b[0m\u001b[0m\n\u001b[0m\u001b[1;32m     12\u001b[0m         \u001b[0mp_success\u001b[0m\u001b[0;34m.\u001b[0m\u001b[0mappend\u001b[0m\u001b[0;34m(\u001b[0m\u001b[0mtotal\u001b[0m\u001b[0;34m/\u001b[0m\u001b[0mlen\u001b[0m\u001b[0;34m(\u001b[0m\u001b[0mtrees\u001b[0m\u001b[0;34m)\u001b[0m\u001b[0;34m)\u001b[0m\u001b[0;34m\u001b[0m\u001b[0;34m\u001b[0m\u001b[0m\n\u001b[1;32m     13\u001b[0m         \u001b[0mt\u001b[0m\u001b[0;34m+=\u001b[0m\u001b[0;36m1\u001b[0m\u001b[0;34m\u001b[0m\u001b[0;34m\u001b[0m\u001b[0m\n",
      "\u001b[0;32m<ipython-input-29-99c8b14f7e6f>\u001b[0m in \u001b[0;36meval_tree\u001b[0;34m(tree, query, datapoint)\u001b[0m\n\u001b[1;32m      6\u001b[0m \u001b[0;34m\u001b[0m\u001b[0m\n\u001b[1;32m      7\u001b[0m     \u001b[0;32mif\u001b[0m \u001b[0mquery\u001b[0m\u001b[0;34m[\u001b[0m\u001b[0mindex\u001b[0m\u001b[0;34m]\u001b[0m \u001b[0;34m==\u001b[0m \u001b[0mdatapoint\u001b[0m\u001b[0;34m[\u001b[0m\u001b[0mindex\u001b[0m\u001b[0;34m]\u001b[0m \u001b[0;34m==\u001b[0m \u001b[0;36m1\u001b[0m\u001b[0;34m:\u001b[0m\u001b[0;34m\u001b[0m\u001b[0;34m\u001b[0m\u001b[0m\n\u001b[0;32m----> 8\u001b[0;31m         \u001b[0;32mreturn\u001b[0m \u001b[0meval_tree\u001b[0m\u001b[0;34m(\u001b[0m\u001b[0mtree\u001b[0m\u001b[0;34m.\u001b[0m\u001b[0mleft\u001b[0m\u001b[0;34m,\u001b[0m \u001b[0mquery\u001b[0m\u001b[0;34m,\u001b[0m \u001b[0mdatapoint\u001b[0m\u001b[0;34m)\u001b[0m\u001b[0;34m\u001b[0m\u001b[0;34m\u001b[0m\u001b[0m\n\u001b[0m\u001b[1;32m      9\u001b[0m     \u001b[0;32melif\u001b[0m \u001b[0mquery\u001b[0m\u001b[0;34m[\u001b[0m\u001b[0mindex\u001b[0m\u001b[0;34m]\u001b[0m \u001b[0;34m==\u001b[0m \u001b[0mdatapoint\u001b[0m\u001b[0;34m[\u001b[0m\u001b[0mindex\u001b[0m\u001b[0;34m]\u001b[0m \u001b[0;34m==\u001b[0m \u001b[0;36m0\u001b[0m\u001b[0;34m:\u001b[0m\u001b[0;34m\u001b[0m\u001b[0;34m\u001b[0m\u001b[0m\n\u001b[1;32m     10\u001b[0m         \u001b[0;32mreturn\u001b[0m \u001b[0meval_tree\u001b[0m\u001b[0;34m(\u001b[0m\u001b[0mtree\u001b[0m\u001b[0;34m.\u001b[0m\u001b[0mright\u001b[0m\u001b[0;34m,\u001b[0m \u001b[0mquery\u001b[0m\u001b[0;34m,\u001b[0m \u001b[0mdatapoint\u001b[0m\u001b[0;34m)\u001b[0m\u001b[0;34m\u001b[0m\u001b[0;34m\u001b[0m\u001b[0m\n",
      "\u001b[0;32m<ipython-input-29-99c8b14f7e6f>\u001b[0m in \u001b[0;36meval_tree\u001b[0;34m(tree, query, datapoint)\u001b[0m\n\u001b[1;32m      8\u001b[0m         \u001b[0;32mreturn\u001b[0m \u001b[0meval_tree\u001b[0m\u001b[0;34m(\u001b[0m\u001b[0mtree\u001b[0m\u001b[0;34m.\u001b[0m\u001b[0mleft\u001b[0m\u001b[0;34m,\u001b[0m \u001b[0mquery\u001b[0m\u001b[0;34m,\u001b[0m \u001b[0mdatapoint\u001b[0m\u001b[0;34m)\u001b[0m\u001b[0;34m\u001b[0m\u001b[0;34m\u001b[0m\u001b[0m\n\u001b[1;32m      9\u001b[0m     \u001b[0;32melif\u001b[0m \u001b[0mquery\u001b[0m\u001b[0;34m[\u001b[0m\u001b[0mindex\u001b[0m\u001b[0;34m]\u001b[0m \u001b[0;34m==\u001b[0m \u001b[0mdatapoint\u001b[0m\u001b[0;34m[\u001b[0m\u001b[0mindex\u001b[0m\u001b[0;34m]\u001b[0m \u001b[0;34m==\u001b[0m \u001b[0;36m0\u001b[0m\u001b[0;34m:\u001b[0m\u001b[0;34m\u001b[0m\u001b[0;34m\u001b[0m\u001b[0m\n\u001b[0;32m---> 10\u001b[0;31m         \u001b[0;32mreturn\u001b[0m \u001b[0meval_tree\u001b[0m\u001b[0;34m(\u001b[0m\u001b[0mtree\u001b[0m\u001b[0;34m.\u001b[0m\u001b[0mright\u001b[0m\u001b[0;34m,\u001b[0m \u001b[0mquery\u001b[0m\u001b[0;34m,\u001b[0m \u001b[0mdatapoint\u001b[0m\u001b[0;34m)\u001b[0m\u001b[0;34m\u001b[0m\u001b[0;34m\u001b[0m\u001b[0m\n\u001b[0m\u001b[1;32m     11\u001b[0m     \u001b[0;32melse\u001b[0m\u001b[0;34m:\u001b[0m\u001b[0;34m\u001b[0m\u001b[0;34m\u001b[0m\u001b[0m\n\u001b[1;32m     12\u001b[0m         \u001b[0;32mreturn\u001b[0m \u001b[0;36m0\u001b[0m\u001b[0;34m\u001b[0m\u001b[0;34m\u001b[0m\u001b[0m\n",
      "\u001b[0;32m<ipython-input-29-99c8b14f7e6f>\u001b[0m in \u001b[0;36meval_tree\u001b[0;34m(tree, query, datapoint)\u001b[0m\n\u001b[1;32m      8\u001b[0m         \u001b[0;32mreturn\u001b[0m \u001b[0meval_tree\u001b[0m\u001b[0;34m(\u001b[0m\u001b[0mtree\u001b[0m\u001b[0;34m.\u001b[0m\u001b[0mleft\u001b[0m\u001b[0;34m,\u001b[0m \u001b[0mquery\u001b[0m\u001b[0;34m,\u001b[0m \u001b[0mdatapoint\u001b[0m\u001b[0;34m)\u001b[0m\u001b[0;34m\u001b[0m\u001b[0;34m\u001b[0m\u001b[0m\n\u001b[1;32m      9\u001b[0m     \u001b[0;32melif\u001b[0m \u001b[0mquery\u001b[0m\u001b[0;34m[\u001b[0m\u001b[0mindex\u001b[0m\u001b[0;34m]\u001b[0m \u001b[0;34m==\u001b[0m \u001b[0mdatapoint\u001b[0m\u001b[0;34m[\u001b[0m\u001b[0mindex\u001b[0m\u001b[0;34m]\u001b[0m \u001b[0;34m==\u001b[0m \u001b[0;36m0\u001b[0m\u001b[0;34m:\u001b[0m\u001b[0;34m\u001b[0m\u001b[0;34m\u001b[0m\u001b[0m\n\u001b[0;32m---> 10\u001b[0;31m         \u001b[0;32mreturn\u001b[0m \u001b[0meval_tree\u001b[0m\u001b[0;34m(\u001b[0m\u001b[0mtree\u001b[0m\u001b[0;34m.\u001b[0m\u001b[0mright\u001b[0m\u001b[0;34m,\u001b[0m \u001b[0mquery\u001b[0m\u001b[0;34m,\u001b[0m \u001b[0mdatapoint\u001b[0m\u001b[0;34m)\u001b[0m\u001b[0;34m\u001b[0m\u001b[0;34m\u001b[0m\u001b[0m\n\u001b[0m\u001b[1;32m     11\u001b[0m     \u001b[0;32melse\u001b[0m\u001b[0;34m:\u001b[0m\u001b[0;34m\u001b[0m\u001b[0;34m\u001b[0m\u001b[0m\n\u001b[1;32m     12\u001b[0m         \u001b[0;32mreturn\u001b[0m \u001b[0;36m0\u001b[0m\u001b[0;34m\u001b[0m\u001b[0;34m\u001b[0m\u001b[0m\n",
      "\u001b[0;32m<ipython-input-29-99c8b14f7e6f>\u001b[0m in \u001b[0;36meval_tree\u001b[0;34m(tree, query, datapoint)\u001b[0m\n\u001b[1;32m      7\u001b[0m     \u001b[0;32mif\u001b[0m \u001b[0mquery\u001b[0m\u001b[0;34m[\u001b[0m\u001b[0mindex\u001b[0m\u001b[0;34m]\u001b[0m \u001b[0;34m==\u001b[0m \u001b[0mdatapoint\u001b[0m\u001b[0;34m[\u001b[0m\u001b[0mindex\u001b[0m\u001b[0;34m]\u001b[0m \u001b[0;34m==\u001b[0m \u001b[0;36m1\u001b[0m\u001b[0;34m:\u001b[0m\u001b[0;34m\u001b[0m\u001b[0;34m\u001b[0m\u001b[0m\n\u001b[1;32m      8\u001b[0m         \u001b[0;32mreturn\u001b[0m \u001b[0meval_tree\u001b[0m\u001b[0;34m(\u001b[0m\u001b[0mtree\u001b[0m\u001b[0;34m.\u001b[0m\u001b[0mleft\u001b[0m\u001b[0;34m,\u001b[0m \u001b[0mquery\u001b[0m\u001b[0;34m,\u001b[0m \u001b[0mdatapoint\u001b[0m\u001b[0;34m)\u001b[0m\u001b[0;34m\u001b[0m\u001b[0;34m\u001b[0m\u001b[0m\n\u001b[0;32m----> 9\u001b[0;31m     \u001b[0;32melif\u001b[0m \u001b[0mquery\u001b[0m\u001b[0;34m[\u001b[0m\u001b[0mindex\u001b[0m\u001b[0;34m]\u001b[0m \u001b[0;34m==\u001b[0m \u001b[0mdatapoint\u001b[0m\u001b[0;34m[\u001b[0m\u001b[0mindex\u001b[0m\u001b[0;34m]\u001b[0m \u001b[0;34m==\u001b[0m \u001b[0;36m0\u001b[0m\u001b[0;34m:\u001b[0m\u001b[0;34m\u001b[0m\u001b[0;34m\u001b[0m\u001b[0m\n\u001b[0m\u001b[1;32m     10\u001b[0m         \u001b[0;32mreturn\u001b[0m \u001b[0meval_tree\u001b[0m\u001b[0;34m(\u001b[0m\u001b[0mtree\u001b[0m\u001b[0;34m.\u001b[0m\u001b[0mright\u001b[0m\u001b[0;34m,\u001b[0m \u001b[0mquery\u001b[0m\u001b[0;34m,\u001b[0m \u001b[0mdatapoint\u001b[0m\u001b[0;34m)\u001b[0m\u001b[0;34m\u001b[0m\u001b[0;34m\u001b[0m\u001b[0m\n\u001b[1;32m     11\u001b[0m     \u001b[0;32melse\u001b[0m\u001b[0;34m:\u001b[0m\u001b[0;34m\u001b[0m\u001b[0;34m\u001b[0m\u001b[0m\n",
      "\u001b[0;31mKeyboardInterrupt\u001b[0m: "
     ]
    }
   ],
   "source": [
    "p_success_list = []\n",
    "for trees in trees_list:\n",
    "    p_success = []\n",
    "    t=0\n",
    "    for q,i in query_list:\n",
    "        if (t%10000==0):\n",
    "            print(\"itr \",t)\n",
    "        total = 0\n",
    "        for tree in trees:\n",
    "            succ = eval_tree(tree, q, dataset[i])\n",
    "            total += succ\n",
    "        p_success.append(total/len(trees))\n",
    "        t+=1\n",
    "    p_success_list.append(p_success)"
   ]
  },
  {
   "cell_type": "markdown",
   "metadata": {},
   "source": [
    "### Eval Uniform"
   ]
  },
  {
   "cell_type": "code",
   "execution_count": 40,
   "metadata": {},
   "outputs": [
    {
     "name": "stdout",
     "output_type": "stream",
     "text": [
      "itr  0\n",
      "itr  10000\n",
      "itr  20000\n",
      "itr  30000\n",
      "itr  40000\n",
      "itr  50000\n",
      "itr  60000\n",
      "itr  70000\n"
     ]
    }
   ],
   "source": [
    "p_success_uniform = []\n",
    "t=0\n",
    "for q,i in query_list:\n",
    "    if (t%10000==0):\n",
    "        print(\"itr \",t)\n",
    "    total = 0\n",
    "    for tree in uniform_trees:\n",
    "        total += eval_tree(tree, q, dataset[i])\n",
    "    p_success_uniform.append(total/len(uniform_trees))\n",
    "    t+=1"
   ]
  },
  {
   "cell_type": "markdown",
   "metadata": {},
   "source": [
    "## Plotting"
   ]
  },
  {
   "cell_type": "code",
   "execution_count": 41,
   "metadata": {},
   "outputs": [],
   "source": [
    "from statistics import mean"
   ]
  },
  {
   "cell_type": "code",
   "execution_count": 42,
   "metadata": {},
   "outputs": [],
   "source": [
    "import matplotlib.pyplot as plt\n",
    "import numpy as np"
   ]
  },
  {
   "cell_type": "code",
   "execution_count": 43,
   "metadata": {},
   "outputs": [],
   "source": [
    "n_bins = 20"
   ]
  },
  {
   "cell_type": "code",
   "execution_count": 32,
   "metadata": {},
   "outputs": [],
   "source": [
    "n = len(p_success)"
   ]
  },
  {
   "cell_type": "code",
   "execution_count": 49,
   "metadata": {},
   "outputs": [
    {
     "data": {
      "text/plain": [
       "1.7307692307692308"
      ]
     },
     "execution_count": 49,
     "metadata": {},
     "output_type": "execute_result"
    }
   ],
   "source": [
    "m=1\n",
    "sorted_opt = sorted(p_success)[:m]\n",
    "sorted_uni = sorted(p_success_uniform)[:m]\n",
    "mean(sorted_opt)/mean(sorted_uni)"
   ]
  },
  {
   "cell_type": "code",
   "execution_count": 44,
   "metadata": {},
   "outputs": [
    {
     "data": {
      "text/plain": [
       "['c1', 'c1o2', 'c1o5', 'opt', 'c10', 'c4']"
      ]
     },
     "execution_count": 44,
     "metadata": {},
     "output_type": "execute_result"
    }
   ],
   "source": [
    "order"
   ]
  },
  {
   "cell_type": "code",
   "execution_count": 46,
   "metadata": {},
   "outputs": [
    {
     "name": "stdout",
     "output_type": "stream",
     "text": [
      "0.8769659393939394\n",
      "0.8779530909090909\n",
      "0.8375660606060606\n",
      "0.6712585454545454\n",
      "0.7850301818181818\n",
      "0.8342364848484849\n",
      "0.7368193939393939\n"
     ]
    }
   ],
   "source": [
    "for p_success in p_success_list:\n",
    "    print(mean(p_success))\n",
    "print(mean(p_success_uniform))"
   ]
  },
  {
   "cell_type": "code",
   "execution_count": 35,
   "metadata": {},
   "outputs": [
    {
     "ename": "NameError",
     "evalue": "name 'order' is not defined",
     "output_type": "error",
     "traceback": [
      "\u001b[0;31m---------------------------------------------------------------------------\u001b[0m",
      "\u001b[0;31mNameError\u001b[0m                                 Traceback (most recent call last)",
      "\u001b[0;32m<ipython-input-35-d04bd9c466a7>\u001b[0m in \u001b[0;36m<module>\u001b[0;34m\u001b[0m\n\u001b[0;32m----> 1\u001b[0;31m \u001b[0morder\u001b[0m\u001b[0;34m.\u001b[0m\u001b[0mappend\u001b[0m\u001b[0;34m(\u001b[0m\u001b[0;34m\"Uni\"\u001b[0m\u001b[0;34m)\u001b[0m\u001b[0;34m\u001b[0m\u001b[0;34m\u001b[0m\u001b[0m\n\u001b[0m",
      "\u001b[0;31mNameError\u001b[0m: name 'order' is not defined"
     ]
    }
   ],
   "source": [
    "order.append(\"Uni\")"
   ]
  },
  {
   "cell_type": "code",
   "execution_count": 55,
   "metadata": {},
   "outputs": [],
   "source": [
    "order = ['ρ=1', 'ρ=0.83', 'ρ=0.67', 'computed ρ', 'ρ=0.1', 'ρ=0.25']"
   ]
  },
  {
   "cell_type": "code",
   "execution_count": 57,
   "metadata": {
    "scrolled": true
   },
   "outputs": [
    {
     "name": "stdout",
     "output_type": "stream",
     "text": [
      "0\n",
      "1\n",
      "2\n",
      "3\n",
      "4\n",
      "5\n"
     ]
    }
   ],
   "source": [
    "for i, p_success in enumerate(p_success_list):\n",
    "    plt.figure()\n",
    "    print(i)\n",
    "    plt.hist(p_success, n_bins, alpha=0.5, label=order[i])\n",
    "    plt.hist(p_success_uniform, n_bins, alpha=0.5, label='Uni')\n",
    "    plt.legend(loc='upper right')\n",
    "    plt.title(\"Success Probability on Random Queries\")\n",
    "    plt.xlabel(\"Pr[Success]\")\n",
    "    plt.ylabel(\"Frequency\")\n",
    "    plt.savefig(\"./comparison\" + order[i] + \".png\")\n",
    "    plt.close()"
   ]
  },
  {
   "cell_type": "code",
   "execution_count": null,
   "metadata": {},
   "outputs": [],
   "source": []
  }
 ],
 "metadata": {
  "kernelspec": {
   "display_name": "Python 3",
   "language": "python",
   "name": "python3"
  },
  "language_info": {
   "codemirror_mode": {
    "name": "ipython",
    "version": 3
   },
   "file_extension": ".py",
   "mimetype": "text/x-python",
   "name": "python",
   "nbconvert_exporter": "python",
   "pygments_lexer": "ipython3",
   "version": "3.7.7"
  }
 },
 "nbformat": 4,
 "nbformat_minor": 4
}
